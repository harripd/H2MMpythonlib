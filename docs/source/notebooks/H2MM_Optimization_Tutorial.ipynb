{
 "cells": [
  {
   "cell_type": "markdown",
   "id": "06d441ca",
   "metadata": {},
   "source": [
    "# `H2MM_C` tutorial\n",
    "\n",
    "## Import Modules\n",
    "\n",
    "As with most python projects, we start by importing the packages that we will use:\n",
    "- `os`: for basic file I/O\n",
    "- [numpy](https://numpy.org) : the core of nearly all scientific computing in python\n",
    "- [matplotlib](https://matplotlib.org/) : for plotting results, not needed for H<sup>2</sup>MM analysis\n",
    "- `H2MM_C`: module for photon by photon hidden Markov modeling analysis\n"
   ]
  },
  {
   "cell_type": "code",
   "execution_count": 1,
   "id": "94c2e718",
   "metadata": {},
   "outputs": [],
   "source": [
    "import os\n",
    "import numpy as np\n",
    "from matplotlib import pyplot as plt\n",
    "\n",
    "import H2MM_C as hm"
   ]
  },
  {
   "cell_type": "markdown",
   "id": "bcccdc06",
   "metadata": {},
   "source": [
    "## Basic Analysis\n",
    "\n",
    "The basic steps of analysis are:\n",
    "\n",
    "1. Load data\n",
    "2. Make initial model\n",
    "3. Optimize Model\n",
    "4. *Viterbi* analysis to clasify photons and assess quality\n",
    "\n",
    "> Note: steps 2-4 are usually repeated multiple times with different numbers of states, and results compared to select the ideal model.\n",
    "\n",
    "### Step 1: Load data\n",
    "\n",
    "Now that the data is imported, we can start to perform the basic analysis of H<sup>2</sup>MM, for which we will need some data to anlayze.\n",
    "So we'll load some with the following lines of code:"
   ]
  },
  {
   "cell_type": "code",
   "execution_count": 2,
   "id": "838d7286",
   "metadata": {},
   "outputs": [],
   "source": [
    "# This cell will only be used if you export your data to an ascii file, \n",
    "# if you are using a software package such as FRETBursts, a different\n",
    "# function (for FRETBursts, look at our other Jupyter Notebooks, it is\n",
    "# the data_sort function)\n",
    "def load_txtdata(filename):\n",
    "    color = list()\n",
    "    times = list()\n",
    "    with open(filename,'r') as f:\n",
    "        for i, line in enumerate(f):\n",
    "            if i % 2 == 0:\n",
    "                times.append(np.array([int(x) for x in line.split()],dtype=np.int64))\n",
    "            else:\n",
    "                color.append(np.array([int(x) for x in line.split()],dtype=np.uint8))\n",
    "    return color, times\n",
    "\n",
    "color2, times2 = load_txtdata('sample_data_2det.txt')"
   ]
  },
  {
   "cell_type": "markdown",
   "id": "39285b64",
   "metadata": {},
   "source": [
    "> #### Data Organization\n",
    "> So what does this data look like?\n",
    "> It comes 2 lists of arrays, one list contains the detectors of the data, the second the detectors of the times.\n",
    "> \n",
    "> - `color2` contains the detectors (indices starting from 0)\n",
    "> - `times2` contains the **absolute** times of the data\n",
    "> \n",
    "> Both of these are **lists** of **numpy arrays**.\n",
    ">\n",
    ">> The length of both lists must be the same, because the arrays within form pairs.\n",
    ">> The elements of each array also form pairs, together representing individual data points\n",
    ">> Therefore the size of each pair of arrays must also be the same.\n",
    ">> But the size of one pair is independent of another pair.\n",
    ">\n",
    "> For the next step, it is important that the number of detectors is known, as this affects the initial model to be used.\n",
    "> In the example loaded above, there are 2 detectors- 0 and 1 (note indices should start from 0 and proceed in ascending order, 3 detectors must be indices 0, 1, and 2, 4 detectors 0, 1, 2, 3, and so on)."
   ]
  },
  {
   "cell_type": "code",
   "execution_count": 3,
   "id": "71ed963e",
   "metadata": {},
   "outputs": [
    {
     "data": {
      "text/plain": [
       "(array([1, 0, 1, 1, 0, 0, 0, 0, 1, 0, 0, 1, 1, 0, 0, 0, 0, 0, 0, 1, 1, 1,\n",
       "        1, 1, 1, 1, 0, 1, 1, 0, 0, 1, 0, 0, 1, 1, 1, 1, 1, 0, 0],\n",
       "       dtype=uint8),\n",
       " array([12763662, 12766593, 12769260, 12769677, 12775221, 12781399,\n",
       "        12783890, 12795124, 12795391, 12796727, 12797800, 12798471,\n",
       "        12798527, 12799163, 12799626, 12802748, 12808470, 12811473,\n",
       "        12826887, 12841103, 12842716, 12842791, 12844203, 12844446,\n",
       "        12845687, 12846645, 12847506, 12848115, 12850099, 12853216,\n",
       "        12853259, 12853526, 12853632, 12853845, 12855027, 12858436,\n",
       "        12858750, 12860935, 12861560, 12861894, 12869843]))"
      ]
     },
     "execution_count": 3,
     "metadata": {},
     "output_type": "execute_result"
    }
   ],
   "source": [
    "color2[0], times2[0]"
   ]
  },
  {
   "cell_type": "markdown",
   "id": "f834fcab",
   "metadata": {},
   "source": [
    "### Step 2: Create Initial Model\n",
    "\n",
    "H<sup>2</sup>MM is fundamentally an optimization, which means that an initial, unoptimized model must be used to initiate the optimization so that the algorithm has a starting point.\n",
    "\n",
    "`H2MM_C` provides a simple function for creating initial models. All you need to do is specify the number of states, and number of detectors.\n",
    "\n",
    "> The number of states is arbitrary, as we will show later, you should compare several differnt numbers of states.>\n",
    "> The number of detectors however, is determined by your data, for th file `sample_data_2det.txt`, there are 2 detectors.\n",
    "\n",
    "So let's make the initial model syntax `hm.facotry_h2mm_model(nstate: int, ndet: int)`:"
   ]
  },
  {
   "cell_type": "code",
   "execution_count": 4,
   "id": "cb05f4ca",
   "metadata": {},
   "outputs": [],
   "source": [
    "imodel_3s2d = hm.factory_h2mm_model(3,2) # 3 states, 2 detectors"
   ]
  },
  {
   "cell_type": "markdown",
   "id": "9cd1ab55",
   "metadata": {},
   "source": [
    "### Step 3: Optimize model\n",
    "\n",
    "Now that we have an initial model, we can optimize it against the data, for this use the `hm.EM_H2MM_C` function (appologies for the name, the name comes from the earliest iterations of H<sup>2</sup>MM, maintained for compatibility)\n",
    "\n",
    "The syntax is `hm.EM_H2MM_C(init_model: hm.h2mm_model, detectors: list[numpy.ndarray], times: list[numpy.ndarray])`"
   ]
  },
  {
   "cell_type": "code",
   "execution_count": 5,
   "id": "2a93d877",
   "metadata": {},
   "outputs": [
    {
     "name": "stdout",
     "output_type": "stream",
     "text": [
      "Optimization reached maximum number of iterations\n"
     ]
    },
    {
     "data": {
      "text/plain": [
       "nstate: 3, ndet: 2, nphot: 239701, niter: 2046, loglik: -120029.31045130274 converged state: 0x47\n",
       "prior:\n",
       "0.22722690429525957, 0.33564373290915145, 0.4371293627955889\n",
       "trans:\n",
       "0.9999737418664758, 2.6258046658597896e-05, 8.686559167309947e-11\n",
       "1.4552294552341365e-05, 0.9999710726665848, 1.4375038862815986e-05\n",
       "1.11601003542758e-06, 1.027046989886743e-05, 0.9999886135200656\n",
       "obs:\n",
       "0.30715584745797103, 0.692844152542029\n",
       "0.7830412996442412, 0.21695870035575882\n",
       "0.890565978960351, 0.10943402103964894"
      ]
     },
     "execution_count": 5,
     "metadata": {},
     "output_type": "execute_result"
    }
   ],
   "source": [
    "model_3s2d = hm.EM_H2MM_C(imodel_3s2d, color2, times2)\n",
    "model_3s2d"
   ]
  },
  {
   "cell_type": "markdown",
   "id": "c673bcc0",
   "metadata": {},
   "source": [
    "#### Examining the optimized model\n",
    "\n",
    "The core of a `h2mm_model` is composed of 3 arrays:\n",
    "\n",
    "- `prior` : the prior probability vector, shape: N, the probability of a system starting in a given state\n",
    "- `trans` : the transition probability matrix, shape N x N, the probability of a transition happening from state i to state j.\n",
    "    > Note: the units of this matrix are in the clock-rate of the data\n",
    "- `obs` : the emission probability matrix: shape N x M, the probability of state i producing a photon with index j.\n",
    "\n",
    "These are all printed as part of the repr for an `h2mm_model`"
   ]
  },
  {
   "cell_type": "markdown",
   "id": "38cf8330",
   "metadata": {},
   "source": [
    "But you can also access them as numpy arrays using attributes.\n",
    "\n",
    "This allows further calculations to be performed"
   ]
  },
  {
   "cell_type": "code",
   "execution_count": 6,
   "id": "3edb7ab2",
   "metadata": {},
   "outputs": [
    {
     "data": {
      "text/plain": [
       "(array([0.2272269 , 0.33564373, 0.43712936]),\n",
       " array([[9.99973742e-01, 2.62580467e-05, 8.68655917e-11],\n",
       "        [1.45522946e-05, 9.99971073e-01, 1.43750389e-05],\n",
       "        [1.11601004e-06, 1.02704699e-05, 9.99988614e-01]]),\n",
       " nstate: 3, ndet: 2, nphot: 239701, niter: 2046, loglik: -120029.31045130274 converged state: 0x47\n",
       " prior:\n",
       " 0.22722690429525957, 0.33564373290915145, 0.4371293627955889\n",
       " trans:\n",
       " 0.9999737418664758, 2.6258046658597896e-05, 8.686559167309947e-11\n",
       " 1.4552294552341365e-05, 0.9999710726665848, 1.4375038862815986e-05\n",
       " 1.11601003542758e-06, 1.027046989886743e-05, 0.9999886135200656\n",
       " obs:\n",
       " 0.30715584745797103, 0.692844152542029\n",
       " 0.7830412996442412, 0.21695870035575882\n",
       " 0.890565978960351, 0.10943402103964894)"
      ]
     },
     "execution_count": 6,
     "metadata": {},
     "output_type": "execute_result"
    }
   ],
   "source": [
    "prior_3s2d, trans_3s2d, obs_3s2d = model_3s2d.prior, model_3s2d.trans, model_3s2d\n",
    "prior_3s2d, trans_3s2d, obs_3s2d"
   ]
  },
  {
   "cell_type": "markdown",
   "id": "5cbfdfd7",
   "metadata": {},
   "source": [
    "Note that all the above matrices are **row stochastic**, i.e. the sum of the elements in a row is always 1.\n",
    "This is because these are all probabilities, and by definition must sum to 1.\n",
    "Calculate relevant parameters accordingly.\n",
    "\n",
    "-------------------------------------------------------------\n",
    "\n",
    "There are a number of other secondary parameter stored in `h2mm_model` objects.\n",
    "Some describe the size of the matrices:\n",
    "\n",
    "- `nstate`\n",
    "- `ndet`"
   ]
  },
  {
   "cell_type": "code",
   "execution_count": 7,
   "id": "b7e5a0c9",
   "metadata": {},
   "outputs": [
    {
     "data": {
      "text/plain": [
       "(3, 2)"
      ]
     },
     "execution_count": 7,
     "metadata": {},
     "output_type": "execute_result"
    }
   ],
   "source": [
    "model_3s2d.nstate, model_3s2d.ndet"
   ]
  },
  {
   "cell_type": "markdown",
   "id": "9eedca39",
   "metadata": {},
   "source": [
    "Others are specific to the course of the optimization:\n",
    "\n",
    "- `niter` The number of iterations during the optimization\n",
    "- `nphot` The number of data points in the input data"
   ]
  },
  {
   "cell_type": "code",
   "execution_count": 8,
   "id": "b32e2b65",
   "metadata": {},
   "outputs": [
    {
     "data": {
      "text/plain": [
       "(2046, 239701)"
      ]
     },
     "execution_count": 8,
     "metadata": {},
     "output_type": "execute_result"
    }
   ],
   "source": [
    "model_3s2d.niter, model_3s2d.nphot"
   ]
  },
  {
   "cell_type": "markdown",
   "id": "21ee2286",
   "metadata": {},
   "source": [
    "And  finally there are the statistical parameters that reflect the likelilihood of th model:\n",
    "\n",
    "- `loglik`: the loglikelihood of the model, this represents the value which is optimized during optimization.\n",
    "- `bic`The Bayes Information Criterion, a statistical discriminator $BIC = k\\ln(n) - 2\\ln(LL)$ where $k = nstate^2 + (ndet-1) nstate -1$, this is used for comparing likelihoods of different models with different numbers of states. Essentially the loglikelihood always improves when more states are added, so the $BIC$ adds a penalty for the number of states, and scalles for the number of data points in the input data."
   ]
  },
  {
   "cell_type": "code",
   "execution_count": 9,
   "id": "ce7ec5cd",
   "metadata": {},
   "outputs": [
    {
     "data": {
      "text/plain": [
       "(-120029.31045130274, 240194.87952612073)"
      ]
     },
     "execution_count": 9,
     "metadata": {},
     "output_type": "execute_result"
    }
   ],
   "source": [
    "model_3s2d.loglik, model_3s2d.bic"
   ]
  },
  {
   "cell_type": "markdown",
   "id": "47e3b73a",
   "metadata": {},
   "source": [
    "### Step 4: *Viterbi* analysis\n",
    "\n",
    "The final stage of standard H<sup>2</sup>MM analysis is analysis with the *Viterbi* algorithm.\n",
    "This goes back over the data, with the optimized model, and identifies the most likely state of each data-point.\n",
    "\n",
    "For this, we use the `hm.viterbi_path` function.\n",
    "This function also returns some additional values that also come out of the *Viterbi* analysis.\n",
    "The return values of `hm.viterbi_path` are:\n",
    "- `path`: the most likely state of each data-point\n",
    "- `scale`: the likelihood of the state assignment, i.e. the posterior probability\n",
    "- `loglik`: the log likelihood of the state path per array\n",
    "- `icl`: The Integrated Complete Likelihood, a statistical discriminator of models, which adds penalties for more states.\n",
    "\n",
    "The syntax is `hm.viterbi_path(model: hm.h2mm_model, detectors: list[numpy.ndarray], times: list[numpy.ndarray])`"
   ]
  },
  {
   "cell_type": "code",
   "execution_count": 10,
   "id": "ee8cac2e",
   "metadata": {},
   "outputs": [
    {
     "data": {
      "text/plain": [
       "array([0, 0, 0, 0, 1, 1, 1, 1, 1, 1, 1, 1, 1, 1, 1, 1, 1, 1, 1, 0, 0, 0,\n",
       "       0, 0, 0, 0, 0, 0, 0, 0, 0, 0, 0, 0, 0, 0, 0, 0, 0, 0, 0],\n",
       "      dtype=uint8)"
      ]
     },
     "execution_count": 10,
     "metadata": {},
     "output_type": "execute_result"
    }
   ],
   "source": [
    "path_3s2d, scale_3s2d, ll_3s2d, icl_3s2d = hm.viterbi_path(model_3s2d, color2, times2)\n",
    "path_3s2d[0]"
   ]
  },
  {
   "cell_type": "markdown",
   "id": "17337789",
   "metadata": {},
   "source": [
    "## Loop based analysis\n",
    "\n",
    "Since we need to compare different models, it is generally more usefull to run the analysis in a loop, and then compare the different optimizations.\n",
    "\n",
    "In particular, the *ICL*  is very useful to identify the best model.\n",
    "\n",
    "We will also now use a data set with 3 detectors, so we can see how different detector number affects the analysis.\n",
    "\n",
    "#### Load 3 detector data"
   ]
  },
  {
   "cell_type": "code",
   "execution_count": 11,
   "id": "d6460513",
   "metadata": {},
   "outputs": [],
   "source": [
    "color3, times3 = load_txtdata('sample_data_3det.txt')"
   ]
  },
  {
   "cell_type": "markdown",
   "id": "6dc2e684",
   "metadata": {},
   "source": [
    "#### Loop analysis\n",
    "\n",
    "For this we will start with a simple loop, optimizing for 1 to 4 states (no such thing as a 0 state model)"
   ]
  },
  {
   "cell_type": "code",
   "execution_count": 12,
   "id": "9266aa45",
   "metadata": {},
   "outputs": [
    {
     "name": "stdout",
     "output_type": "stream",
     "text": [
      "The model converged after 1 iterations\n",
      "The model converged after 86 iterations\n",
      "The model converged after 198 iterations\n",
      "Optimization reached maximum number of iterations\n"
     ]
    },
    {
     "data": {
      "text/plain": [
       "[nstate: 1, ndet: 3, nphot: 436084, niter: 1, loglik: -436870.26641812694 converged state: 0x27\n",
       " prior:\n",
       " 1.0\n",
       " trans:\n",
       " 1.0\n",
       " obs:\n",
       " 0.40807734289723996, 0.14158969372873118, 0.45033296337402884,\n",
       " nstate: 2, ndet: 3, nphot: 436084, niter: 86, loglik: -416808.46054398845 converged state: 0x27\n",
       " prior:\n",
       " 0.28420057475284805, 0.7157994252471521\n",
       " trans:\n",
       " 0.9999702726865412, 2.9727313458854513e-05\n",
       " 1.3614968810175137e-05, 0.9999863850311899\n",
       " obs:\n",
       " 0.15584402171444742, 0.2649819739093295, 0.579174004376223\n",
       " 0.5300104368940587, 0.08194015009512386, 0.38804941301081747,\n",
       " nstate: 3, ndet: 3, nphot: 436084, niter: 198, loglik: -409379.1470199392 converged state: 0x27\n",
       " prior:\n",
       " 0.259916108708088, 0.4943768369469508, 0.24570705434496115\n",
       " trans:\n",
       " 0.9999762009962716, 2.109156933799687e-05, 2.7074343903649875e-06\n",
       " 8.392846121801858e-06, 0.9999812080448961, 1.039910898208395e-05\n",
       " 6.2902830423554276e-06, 4.4662165823833337e-05, 0.9999490475511338\n",
       " obs:\n",
       " 0.14570423954876827, 0.29344318300520333, 0.5608525774460285\n",
       " 0.44173951477064244, 0.08763105978604725, 0.47062942544331027\n",
       " 0.841428788001566, 0.0785286841781085, 0.0800425278203255,\n",
       " nstate: 4, ndet: 3, nphot: 436084, niter: 2046, loglik: -408231.68923972535 converged state: 0x47\n",
       " prior:\n",
       " 0.6256723202871912, 0.030618314835205957, 0.1913554874743798, 0.15235387740322295\n",
       " trans:\n",
       " 0.8614352909515696, 0.05949618307916635, 0.07906852596926418, 5.801412452897551e-52\n",
       " 1.9958918629265885e-05, 0.9999674324501578, 1.0612627869652572e-05, 1.9960033433079985e-06\n",
       " 4.716293407423162e-06, 6.465143004789335e-06, 0.9999788977572993, 9.920806288462867e-06\n",
       " 2.9502467233499893e-06, 2.6195354649815663e-06, 3.796466128735933e-05, 0.9999564655565244\n",
       " obs:\n",
       " 0.6179991352539776, 0.3820008647460223, 4.400349171200337e-34\n",
       " 0.1442451406741443, 0.2895074666236848, 0.5662473927021708\n",
       " 0.4416360943377826, 0.08700242474765406, 0.4713614809145635\n",
       " 0.8409823313786843, 0.07645620183506778, 0.08256146678624778]"
      ]
     },
     "execution_count": 12,
     "metadata": {},
     "output_type": "execute_result"
    }
   ],
   "source": [
    "# initiate lists\n",
    "models = list()\n",
    "paths = list()\n",
    "scales = list()\n",
    "logliks = list()\n",
    "ICL = list()\n",
    "\n",
    "# loop from 1 to 4 states\n",
    "for i in range(1,5):\n",
    "    # make initial model with i states\n",
    "    imodel_temp = hm.factory_h2mm_model(i, 3) # i states, 3 detectors\n",
    "    # optimize model\n",
    "    model_temp = hm.EM_H2MM_C(imodel_temp, color3, times3)\n",
    "    # calculate ideal state path\n",
    "    path_temp, scale_temp, ll_temp, icl = hm.viterbi_path(model_temp, color3, times3)\n",
    "    # append results to lists\n",
    "    models.append(model_temp)\n",
    "    paths.append(path_temp)\n",
    "    scales.append(scale_temp)\n",
    "    logliks.append(ll_temp)\n",
    "    ICL.append(icl)\n",
    "models"
   ]
  },
  {
   "cell_type": "markdown",
   "id": "97c9cd1d",
   "metadata": {},
   "source": [
    "#### Ideal model selection\n",
    "\n",
    "Now that several models have been calculated, it is important to select the ideal model, so you do not use over-or under-fit models that do not propery represent the data.\n",
    "\n",
    "There are two primary criterion for this:\n",
    "1. A statistical discriminator\n",
    "2. Reasonableness of model and results based on prior knowledge of the system.\n",
    "\n"
   ]
  },
  {
   "cell_type": "code",
   "execution_count": 13,
   "id": "7ee9930b",
   "metadata": {},
   "outputs": [
    {
     "data": {
      "text/plain": [
       "Text(0.5, 1.0, 'ICL')"
      ]
     },
     "execution_count": 13,
     "metadata": {},
     "output_type": "execute_result"
    },
    {
     "data": {
      "image/png": "[encoded data removed]",
      "text/plain": [
       "<Figure size 640x480 with 1 Axes>"
      ]
     },
     "metadata": {},
     "output_type": "display_data"
    }
   ],
   "source": [
    "states = np.arange(1,5)\n",
    "plt.scatter(states, ICL)\n",
    "plt.xlabel(\"States\")\n",
    "plt.ylabel(\"ICL\")\n",
    "plt.title(\"ICL\")"
   ]
  },
  {
   "cell_type": "code",
   "execution_count": 14,
   "id": "10f1a4c1",
   "metadata": {},
   "outputs": [
    {
     "data": {
      "text/plain": [
       "Text(0.5, 1.0, 'BIC')"
      ]
     },
     "execution_count": 14,
     "metadata": {},
     "output_type": "execute_result"
    },
    {
     "data": {
      "image/png": "[encoded data removed]",
      "text/plain": [
       "<Figure size 640x480 with 1 Axes>"
      ]
     },
     "metadata": {},
     "output_type": "display_data"
    }
   ],
   "source": [
    "states = np.arange(1,5)\n",
    "plt.scatter(states, [model.bic for model in models])\n",
    "plt.xlabel(\"States\")\n",
    "plt.ylabel(\"BIC\")\n",
    "plt.title(\"BIC\")"
   ]
  },
  {
   "cell_type": "markdown",
   "id": "bb879886",
   "metadata": {},
   "source": [
    "So it looks like the ideal model is the 4 state model (if you are using our sample data), as it minimizes the ICL.\n",
    "\n",
    "But since this is the model with the most states that we have optimized, it would be best to optimize a 5 state model to make sure that we have found the optimal model:"
   ]
  },
  {
   "cell_type": "code",
   "execution_count": 15,
   "id": "9bd828e3",
   "metadata": {},
   "outputs": [
    {
     "name": "stdout",
     "output_type": "stream",
     "text": [
      "Optimization reached maximum number of iterations\n"
     ]
    }
   ],
   "source": [
    "imodel_temp = hm.factory_h2mm_model(5,3)\n",
    "model_temp = hm.EM_H2MM_C(imodel_temp, color3, times3)\n",
    "path_temp, scale_temp, ll_temp, icl = hm.viterbi_path(model_temp, color3, times3)\n",
    "models.append(model_temp)\n",
    "paths.append(path_temp)\n",
    "scales.append(scale_temp)\n",
    "logliks.append(ll_temp)\n",
    "ICL.append(icl)"
   ]
  },
  {
   "cell_type": "code",
   "execution_count": 16,
   "id": "59664fed",
   "metadata": {},
   "outputs": [
    {
     "data": {
      "text/plain": [
       "Text(0.5, 1.0, 'BIC')"
      ]
     },
     "execution_count": 16,
     "metadata": {},
     "output_type": "execute_result"
    },
    {
     "data": {
      "image/png": "[encoded data removed]",
      "text/plain": [
       "<Figure size 1200x500 with 2 Axes>"
      ]
     },
     "metadata": {},
     "output_type": "display_data"
    }
   ],
   "source": [
    "states = [model.nstate for model in models]\n",
    "bic = [model.bic for model in models]\n",
    "\n",
    "fig, ax = plt.subplots(1,2, figsize=(12,5))\n",
    "\n",
    "ax[0].scatter(states, ICL)\n",
    "ax[0].set_xlabel(\"States\")\n",
    "ax[0].set_ylabel(\"ICL\")\n",
    "ax[0].set_title(\"ICL\")\n",
    "\n",
    "ax[1].scatter(states, bic)\n",
    "ax[1].set_xlabel(\"States\")\n",
    "ax[1].set_ylabel(\"BIC\")\n",
    "ax[1].set_title(\"BIC\")"
   ]
  },
  {
   "cell_type": "markdown",
   "id": "5902959c",
   "metadata": {},
   "source": [
    "Indeed, it looks like the 4 state model is the ideal model, so let's examine it:"
   ]
  },
  {
   "cell_type": "code",
   "execution_count": 17,
   "id": "c44404b8",
   "metadata": {},
   "outputs": [
    {
     "data": {
      "text/plain": [
       "nstate: 4, ndet: 3, nphot: 436084, niter: 2046, loglik: -408231.68923972535 converged state: 0x47\n",
       "prior:\n",
       "0.6256723202871912, 0.030618314835205957, 0.1913554874743798, 0.15235387740322295\n",
       "trans:\n",
       "0.8614352909515696, 0.05949618307916635, 0.07906852596926418, 5.801412452897551e-52\n",
       "1.9958918629265885e-05, 0.9999674324501578, 1.0612627869652572e-05, 1.9960033433079985e-06\n",
       "4.716293407423162e-06, 6.465143004789335e-06, 0.9999788977572993, 9.920806288462867e-06\n",
       "2.9502467233499893e-06, 2.6195354649815663e-06, 3.796466128735933e-05, 0.9999564655565244\n",
       "obs:\n",
       "0.6179991352539776, 0.3820008647460223, 4.400349171200337e-34\n",
       "0.1442451406741443, 0.2895074666236848, 0.5662473927021708\n",
       "0.4416360943377826, 0.08700242474765406, 0.4713614809145635\n",
       "0.8409823313786843, 0.07645620183506778, 0.08256146678624778"
      ]
     },
     "execution_count": 17,
     "metadata": {},
     "output_type": "execute_result"
    }
   ],
   "source": [
    "models[3]"
   ]
  },
  {
   "cell_type": "markdown",
   "id": "ce107d92",
   "metadata": {},
   "source": [
    "## User Defined Initial Models\n",
    "\n",
    "Usually the `hm.factory_h2mm_model` function is sufficient for making initial models, but it is also possible to define your own initial models with more precise initial values."
   ]
  },
  {
   "cell_type": "code",
   "execution_count": 18,
   "id": "8b215538",
   "metadata": {},
   "outputs": [
    {
     "name": "stdout",
     "output_type": "stream",
     "text": [
      "The model converged after 89 iterations\n"
     ]
    }
   ],
   "source": [
    "# define input prior, trans and obs matricies\n",
    "prior = np.array([0.5,0.5])\n",
    "trans = np.array([[0.99999, 0.00001], [0.00001, 0.99999]])\n",
    "obs = np.array([[0.2, 0.3, 0.5], [0.4, 0.2, 0.4]])\n",
    "\n",
    "# make the initial model\n",
    "imodel_user = hm.h2mm_model(prior, trans, obs)\n",
    "\n",
    "# optimize model\n",
    "model_user = hm.EM_H2MM_C(imodel_user, color3, times3)"
   ]
  },
  {
   "cell_type": "markdown",
   "id": "bf45cbf1",
   "metadata": {},
   "source": [
    "We can now look at the resultant model:"
   ]
  },
  {
   "cell_type": "code",
   "execution_count": 19,
   "id": "53eb410d",
   "metadata": {},
   "outputs": [
    {
     "data": {
      "text/plain": [
       "nstate: 2, ndet: 3, nphot: 436084, niter: 89, loglik: -416808.4605439837 converged state: 0x27\n",
       "prior:\n",
       "0.28420060371238737, 0.7157993962876127\n",
       "trans:\n",
       "0.999970272646437, 2.9727353563062123e-05\n",
       "1.361499259531254e-05, 0.9999863850074047\n",
       "obs:\n",
       "0.15584401880687487, 0.26498195564167654, 0.5791740255514486\n",
       "0.5300104777302175, 0.08194013963655644, 0.388049382633226"
      ]
     },
     "execution_count": 19,
     "metadata": {},
     "output_type": "execute_result"
    }
   ],
   "source": [
    "model_user"
   ]
  },
  {
   "cell_type": "markdown",
   "id": "cc3a72e7",
   "metadata": {},
   "source": [
    "## `H2MM_arr` and error analysis\n",
    "\n",
    "You will notice that so far the H<sup>2</sup>MM analysis does not give an estimation of the error of the parameter values.\n",
    "\n",
    "One way to estimate the error is to compare how quickly the loglikelihood falls off as the given parameter is varied around the optimized value.\n",
    "\n",
    "For this, we need to not optimize, but just calculate the loglikelihood of a set of models. For this, `H2MM_C` offers the `hm.H2MM_arr()` function.\n",
    "\n",
    "The function is called as so:\n",
    "\n",
    "`hm.H2MM_arr(models: list[hm.h2mm_model], indexes: list[numpy.ndarray], times: list[numpy.ndarray])`\n",
    "\n",
    "The second and third arguments are the same as `hm.EM_H2MM_C`, but in the first argument, instead providing an initial model, you provide a list (or tuple, or even a numpy object array) of `hm.h2mm_model` objects. \n",
    "The loglikelihood of each model is calculated, and the function returns a equialent list of `hm.h2mm_model` objects, with the loglikelihoods calculated.\n",
    "\n",
    "### Make list of models with one parameter varied\n",
    "\n",
    "Since the 4 state model looks like the best model, let's pull that model and tweek the transition rate from state 1 to state 2:"
   ]
  },
  {
   "cell_type": "code",
   "execution_count": 20,
   "id": "56f9c26f",
   "metadata": {},
   "outputs": [],
   "source": [
    "# pull out the parameters of the model\n",
    "prior_4s3d = models[3].prior\n",
    "trans_4s3d = models[3].trans\n",
    "obs_4s3d = models[3].obs\n",
    "\n",
    "error_models = list()\n",
    "for tk in np.linspace(-2e-6, 2e-6, 41):\n",
    "    new_trans = trans_4s3d.copy() # copy so that tweeks can be make without changing the original array\n",
    "    new_trans[1,2] += tk\n",
    "    new_trans[1,1] -= tk # adjust the diagonal so that matrix remains row stochastic\n",
    "    tk_model = hm.h2mm_model(prior_4s3d, new_trans, obs_4s3d)\n",
    "    error_models.append(tk_model)"
   ]
  },
  {
   "cell_type": "markdown",
   "id": "26606b27",
   "metadata": {},
   "source": [
    "Now, we can use `hm.H2MM_arr()`"
   ]
  },
  {
   "cell_type": "code",
   "execution_count": 21,
   "id": "e4a4f9dd",
   "metadata": {},
   "outputs": [],
   "source": [
    "error_models = hm.H2MM_arr(error_models, color3, times3)"
   ]
  },
  {
   "cell_type": "markdown",
   "id": "8662c2fd",
   "metadata": {},
   "source": [
    "Now we can plot the loglik to see how sharply the loglikelihood is centered on the optimal model"
   ]
  },
  {
   "cell_type": "code",
   "execution_count": 22,
   "id": "e74710b0",
   "metadata": {},
   "outputs": [
    {
     "data": {
      "text/plain": [
       "(8.562627869652573e-06, 1.2662627869652568e-05)"
      ]
     },
     "execution_count": 22,
     "metadata": {},
     "output_type": "execute_result"
    },
    {
     "data": {
      "image/png": "[encoded data removed]",
      "text/plain": [
       "<Figure size 640x480 with 1 Axes>"
      ]
     },
     "metadata": {},
     "output_type": "display_data"
    }
   ],
   "source": [
    "trs  = [model.trans[1,2] for model in error_models]\n",
    "ll = [model.loglik for model in error_models]\n",
    "\n",
    "plt.scatter(trs, ll)\n",
    "plt.xlim([min(trs)-5e-8, max(trs)+5e-8])"
   ]
  }
 ],
 "metadata": {
  "kernelspec": {
   "display_name": "Python 3 (ipykernel)",
   "language": "python",
   "name": "python3"
  },
  "language_info": {
   "codemirror_mode": {
    "name": "ipython",
    "version": 3
   },
   "file_extension": ".py",
   "mimetype": "text/x-python",
   "name": "python",
   "nbconvert_exporter": "python",
   "pygments_lexer": "ipython3",
   "version": "3.12.3"
  }
 },
 "nbformat": 4,
 "nbformat_minor": 5
}
