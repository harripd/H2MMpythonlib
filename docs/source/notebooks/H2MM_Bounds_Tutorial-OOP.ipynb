{
 "cells": [
  {
   "cell_type": "markdown",
   "id": "e32a35b5",
   "metadata": {},
   "source": [
    "# Bounding H<sup>2</sup>MM, with object oriented calls\n",
    "\n",
    "Let's get our obligitory imports in order, and we'll load the 3 detector data as well."
   ]
  },
  {
   "cell_type": "code",
   "execution_count": 1,
   "id": "ca9b4442",
   "metadata": {},
   "outputs": [],
   "source": [
    "import os\n",
    "import numpy as np\n",
    "from matplotlib import pyplot as plt\n",
    "\n",
    "import H2MM_C as hm\n",
    "\n",
    "# load the data\n",
    "def load_txtdata(filename):\n",
    "    color = list()\n",
    "    times = list()\n",
    "    with open(filename,'r') as f:\n",
    "        for i, line in enumerate(f):\n",
    "            if i % 2 == 0:\n",
    "                times.append(np.array([int(x) for x in line.split()],dtype=np.int64))\n",
    "            else:\n",
    "                color.append(np.array([int(x) for x in line.split()],dtype=np.uint8))\n",
    "    return color, times\n",
    "\n",
    "color3, times3 = load_txtdata('sample_data_3det.txt')"
   ]
  },
  {
   "cell_type": "markdown",
   "id": "1ce3255d",
   "metadata": {},
   "source": [
    "## Built in Limits\n",
    "\n",
    "Sometimes we may want to restrain what values are possible in the H<sup>2</sup>MM model, for instance to keep transition rates within reasonable values, or because you know something about how the emmission probability matrix (`obs`) should behave.\n",
    "\n",
    "This is expected to happen most often (but not exclusively) when some experimental parameter is periodic, but not important to the data. For instance in $\\mu$sALEX experiments, the laser alternation period causes donor and acceptor excitation photons, which arrive in separate streams to alternate (and thus transition) perfectly periodically, yet that has no bearing on transitions between our system. Thus transition rates close to the rate of laser alternation are likely to be artifacts, and thus we want to exclude them. For $\\mu sALEX$ experiments, we find this still is not enough.\n",
    "\n",
    "To define some bounds, we need to define the bounds, this is done using the `hm.h2mm_limits` object, which we pass into the `.optimize()` method through the keyword argument `bounds`, and we also need to supply a method string to another keyword argument, `bounds_func`.\n",
    "\n",
    "#### Let's see an example"
   ]
  },
  {
   "cell_type": "code",
   "execution_count": 2,
   "id": "d88a0a00",
   "metadata": {},
   "outputs": [
    {
     "name": "stdout",
     "output_type": "stream",
     "text": [
      "Optimization reached maximum number of iterations\n"
     ]
    },
    {
     "data": {
      "text/plain": [
       "nstate: 4, ndet: 3, nphot: 436084, niter: 100, loglik: -408205.4633854566 converged state: 0x47\n",
       "prior:\n",
       "0.20622330088162216, 0.5504011574069695, 0.24336181217518293, 1.372953622543032e-05\n",
       "trans:\n",
       "0.9999559888800702, 2.505789429514852e-05, 1.9174623115099346e-06, 1.703576332311929e-05\n",
       "6.677972362402849e-06, 0.9999732927606048, 7.0322764522245714e-06, 1.2996990580657173e-05\n",
       "1.2772527542127852e-06, 1.7684650991590822e-05, 0.9999780429283311, 2.9951679229095923e-06\n",
       "2.1450285869445282e-05, 9.87253409784041e-05, 8.216688681280442e-06, 0.9998716076844709\n",
       "obs:\n",
       "0.8479274340954586, 0.07591874802826876, 0.07615381787627265\n",
       "0.4690546684989466, 0.0911710739345837, 0.4397742575664697\n",
       "0.14920402430710009, 0.3125951035187595, 0.5382008721741404\n",
       "0.14884955858218496, 0.07632719552261542, 0.7748232458951997"
      ]
     },
     "execution_count": 2,
     "metadata": {},
     "output_type": "execute_result"
    }
   ],
   "source": [
    "alt_period = 4000 # a fake alternation period\n",
    "us_bounds = hm.h2mm_limits(max_trans = 1/(alt_period))\n",
    "\n",
    "prior = np.array([1/4, 1/4, 1/4, 1/4])\n",
    "trans = np.array([[1-3e-6, 1e-6, 1e-6, 1e-6],\n",
    "                  [1e-6, 1-3e-6, 1e-6, 1e-6],\n",
    "                  [1e-6, 1e-6, 1-3e-6, 1e-6],\n",
    "                  [1e-6, 1e-6, 1e-6, 1-3e-6]])\n",
    "obs = np.array([[0.4,0.4,0.2],\n",
    "                [0.3,0.1,0.6],\n",
    "                [0.2,0.4,0.4],\n",
    "                [0.1,0.1,0.8]])\n",
    "\n",
    "imodel_4s3d = hm.h2mm_model(prior, trans, obs)\n",
    "\n",
    "us_opt_model4 = imodel_4s3d.optimize(color3, times3, bounds_func='revert', bounds=us_bounds, max_iter=100)\n",
    "us_opt_model4"
   ]
  },
  {
   "cell_type": "markdown",
   "id": "91f401cb",
   "metadata": {},
   "source": [
    "So, what did we just do? The `hm.h2mm_limits` object `us_bounds` prevents any value (off the diagonal) of the **transition probability** matrix (`.trans`) from ever being larger (i.e. faster transition rate) than `1/(4000)`. \n",
    "\n",
    "#### Bounds process\n",
    "\n",
    "When you use a bounds method, each iteration goes through the following steps:\n",
    "1. Calculate *loglikelihood* and new model\n",
    "2. Check if the **model** converged\n",
    "3. Analyze the **new model**, and correct if necessary\n",
    "    1. Check if any values are smaller or larger than a pre-set minimum or maximum\n",
    "    2. If values are out of bounds, apply correction, method defined by argument passed to `bounds_func`\n",
    "4. Repeat optimization (back to step 1)\n",
    "\n",
    "The inputs to `hm.h2mm_limits` are all keyword argumetns, and come in the form of `min/max_[array]` where `[array]` is `prior`, `trans` or `obs`, and specify the minimum and maximum values in the respective array.\n",
    "Specifying as a float will set the value for all states, and thus the created `hm.h2mm_limits` object can be used for models with any model, while values can be specified as arrays, where each element sets the min/max of the value at that position in the given array of the model.\n",
    "\n",
    "#### `bounds_func`\n",
    "\n",
    "As mentioned in the above outline, the bounding process needs to choose how to correct the way in which a model value that is out of bound is corrected.\n",
    "There are 3 options:\n",
    "\n",
    "1. `minmax` shallowest correction, sets the value to its minimum or maximum\n",
    "2. `revert` prefered method, sets the value to the value in the previous model\n",
    "3. `revert_old` a more extreme form of `revert` which goes to the model before the last in the optimization, and sets the value to that.\n",
    "\n",
    "### Using `hm.factory_h2mm_model()` with bounds\n",
    "\n",
    "You will note in the previous example, we specified the `hm.h2mm_model` explicitly, instead of using `hm.factory_h2mm_model()`. \n",
    "This is because it is possible that the `hm.factory_h2mm_model()` could create an initial model that contains out of bounds values, which could result in odd behavior during optimization.\n",
    "\n",
    "There is a way around this, you can give the `hm.h2mm_limits` object to `hm.factory_h2mm_model()` through the keyword argument `bounds`, and the function will automatically ensure the model is with bounds:\n",
    "\n",
    "> See the full documentation to see full list of options for customizing the `hm.factory_h2mm_model()` function's output"
   ]
  },
  {
   "cell_type": "code",
   "execution_count": 3,
   "id": "384591ca",
   "metadata": {},
   "outputs": [
    {
     "name": "stdout",
     "output_type": "stream",
     "text": [
      "The model converged after 197 iterations\n"
     ]
    }
   ],
   "source": [
    "us_bounds = hm.h2mm_limits(max_trans = 1/4000)\n",
    "# make factory_h2mm_model make a model within bounds\n",
    "imodel = hm.factory_h2mm_model(3,3, bounds=us_bounds)\n",
    "us_model = imodel.optimize(color3, times3, bounds=us_bounds, bounds_func='revert')"
   ]
  },
  {
   "cell_type": "markdown",
   "id": "4793aa59",
   "metadata": {},
   "source": [
    "## Custom Bounds\n",
    "\n",
    "Finally, it is possible to supply a custom bounding function to `bounds_func`.\n",
    "\n",
    "> **Note**\n",
    ">\n",
    "> This feature was designed to allow the user to handle things/circumstances\n",
    "> that the writers of H2MM_C had not anticipated.\n",
    "> Therefore this example is very simple, and does not show a useful method.\n",
    "\n",
    "This function must is called at the end of the optimization loop, after a given model's loglik has been \n",
    "calculated (and the standard H<sup>2</sup>MM next model for the next iteration produced).\n",
    "\n",
    "This function takes the signature \n",
    "`bounds_func(new:h2mm_model, current:h2mm_model, old:h2mm_model, *bounds, **bounds_func)->h2mm_model|int|tuple[h2mm_model,int]`\n",
    "\n",
    "`new`, `current` and `old` are the `h2mm_model`s of the current iteration.\n",
    "\n",
    "1. `new` is the model suggested/produced by the current iteration\n",
    "2. `current` is the model whose loglik was just computed\n",
    "3. `old` is the model computed in the previous iteration\n",
    "\n",
    "These are always supplied each iteration. `bounds` and `bounds_kwargs` come from the\n",
    "identically named keyword arguments in `EM_H2MM_C`. `bounds` by default is `None`, which \n",
    "is internally converted to a 0-size (empty) `tuple`, likewise `bounds_kwargs` is by default `None`\n",
    "and is internally converted into an empty dict.\n",
    "\n",
    "The return value can either or both specify\n",
    "1. The \"bounded\" `new` model\n",
    "2. If the optimization has converged\n",
    "\n",
    "If only the `new` model is specified, convergence will be determined like all other optimizaztions,\n",
    "by the difference in loglik of `current` and `old`. \n",
    "\n",
    "**However,** if the bounds function returns a value specifying if the model has converged, then\n",
    "`EM_H2MM_C` will **not** separately check if the optimization has converged.\n",
    "\n",
    "> **Note**\n",
    "> `max_iter` and `max_time` are enforced separetely from `bounds_func`. \n",
    "\n",
    "If specifying the converged state, this can be either a `bool` or 0, 1, 2.\n",
    "\n",
    "As a `bool`, `True` indicates that the optimization has converged, and thus\n",
    "can stop, the `old` model will be returned as the \"optimal\" model. `False`\n",
    "will allow the optimization to proceed using the `new` model.\n",
    "\n",
    "If specifying as `0` is equivalent to `False`, `1` to `True`, and `2` will return\n",
    "the 'current' model as the optimal model.\n",
    "\n",
    "If both the `new` model and converged state are specified, this must be done by returning a 2-tuple\n",
    "of `(new, converged_state)`.\n",
    "\n",
    "> **Warning**\n",
    "> Make sure the model you return makes sense, otherwise the optimization will proceed unpredictably.\n",
    "> Think of this as the “gloves off” approach, you might have a very powerful new method, or you might\n",
    "> get something meaningless depending on how you code it. That’s your responsibility.\n",
    "\n",
    "Below is a function that that re-implements the behavior of `\"minmax\"` but now the limits\n",
    "normally specified with a `h2mm_limits` object supplied to `bounds` are replaced with kwargs:"
   ]
  },
  {
   "cell_type": "code",
   "execution_count": 4,
   "id": "5bfa9b65",
   "metadata": {},
   "outputs": [],
   "source": [
    "def minmax_py(new, current, old, converged_min=1e-9, \n",
    "                  min_prior=None, max_prior=None,\n",
    "                  min_trans=None, max_trans=None, \n",
    "                  min_obs=None, max_obs=None):\n",
    "    # bounding of trans matrix\n",
    "    if min_trans is not None or max_trans is not None:\n",
    "        trans = new.trans\n",
    "        idxs = np.arange(new.nstate)\n",
    "        if isinstance(min_trans, float):\n",
    "            trans[trans < min_trans*(~np.eye(new.nstate, dtype=np.bool_))] = min_trans\n",
    "        elif isinstance(min_trans, np.ndarray):\n",
    "            mask = trans < min_trans\n",
    "            trans[mask] = min_trans[mask]\n",
    "        if isinstance(max_trans, float):\n",
    "            trans[trans > max_trans*(~np.eye(new.nstate, dtype=np.bool_))] = max_trans\n",
    "        elif isinstance(max_trans, np.ndarray):\n",
    "            mask = trans > max_trans\n",
    "            trans[mask] = max_trans[mask]\n",
    "        for i in range(trans.shape[0]):\n",
    "            trans[i,i] = 1.0 - trans[i, idxs!=i].sum()\n",
    "        new.trans = trans\n",
    "    # bounding of obs matrix\n",
    "    if min_obs is not None or max_obs is not None:\n",
    "        obs = new.obs\n",
    "        if min_obs is not None:\n",
    "            minmask = obs < min_obs\n",
    "            obs[minmask] = min_obs[minmask]\n",
    "        else:\n",
    "            minmask = np.zeros(obs.shape, dtype=np.bool_)\n",
    "        if max_obs is not None:\n",
    "            maxmask = obs > max_obs\n",
    "            obs[maxmask] = max_obs[maxmask]\n",
    "        else:\n",
    "            maxmask = np.zeros(obs.shape, dtype=np.bool_)\n",
    "        obsmask = minmask | maxmask\n",
    "        for i in range(obs.shape[0]):\n",
    "            obs[i,~obsmask[i,:]] += (1-obs[i,:].sum()) / (~obsmask).sum()\n",
    "        new.obs = obs\n",
    "    if min_prior is not None or max_prior is not None:\n",
    "        prior = new.prior\n",
    "        if min_prior is not None:\n",
    "            minpmask = prior < min_prior\n",
    "            prior[minpmask] = min_prior[minpmask]\n",
    "        else:\n",
    "            minpmask = np.zeros(new.nstate, base=np.bool_)\n",
    "        if max_prior is not None:\n",
    "            maxpmask = prior > max_prior\n",
    "            prior[maxpmask] = max_prior[maxpmask]\n",
    "        else:\n",
    "            maxpmask = np.zeros(new.nstate, base=np.bool_)\n",
    "        pmask = minpmask | maxpmask\n",
    "        prior[~pmask] += (1-prior.sum()) / (~pmask).sum()\n",
    "        new.prior = prior\n",
    "    return new"
   ]
  },
  {
   "cell_type": "code",
   "execution_count": 5,
   "id": "20dbeeaa",
   "metadata": {},
   "outputs": [
    {
     "name": "stdout",
     "output_type": "stream",
     "text": [
      "The model converged after 356 iterations\n"
     ]
    },
    {
     "data": {
      "text/plain": [
       "nstate: 4, ndet: 3, nphot: 436084, niter: 356, loglik: -408204.5620664286 converged state: 0x27\n",
       "prior:\n",
       "0.5555113698088963, 0.20187272080930263, 0.24261590938180105, 1.5666239655445305e-18\n",
       "trans:\n",
       "0.9999721940381106, 6.756474641260065e-06, 6.949832854302578e-06, 1.409965439388232e-05\n",
       "2.578113352073221e-05, 0.9999561165728166, 1.8078544435041634e-06, 1.6294439219297455e-05\n",
       "1.7601648340114278e-05, 1.2573192269970716e-06, 0.9999780804867833, 3.0605456496625865e-06\n",
       "0.0001, 1.9996813269414984e-05, 8.607951933024168e-06, 0.9998713952347975\n",
       "obs:\n",
       "0.47035277443847945, 0.09123832771114304, 0.43840889785037745\n",
       "0.8487006310762635, 0.0757805296634852, 0.07551883926025135\n",
       "0.14917490919538376, 0.3128864054396577, 0.5379386853649586\n",
       "0.15243955508931645, 0.07711920361357219, 0.7704412412971114"
      ]
     },
     "execution_count": 5,
     "metadata": {},
     "output_type": "execute_result"
    }
   ],
   "source": [
    "prior = np.array([1/4, 1/4, 1/4, 1/4])\n",
    "trans = np.array([[1-3e-6, 1e-6, 1e-6, 1e-6],\n",
    "                  [1e-6, 1-3e-6, 1e-6, 1e-6],\n",
    "                  [1e-6, 1e-6, 1-3e-6, 1e-6],\n",
    "                  [1e-6, 1e-6, 1e-6, 1-3e-6]])\n",
    "obs = np.array([[0.09, 0.01,  0.9],\n",
    "                [0.3,   0.1,  0.6],\n",
    "                [0.2,   0.4,  0.4],\n",
    "                [0.1,   0.1,  0.8]])\n",
    "\n",
    "imodel4s3d = hm.h2mm_model(prior, trans, obs)\n",
    "us_opt_model4 = imodel4s3d.optimize(color3, times3, bounds_func=minmax_py, bounds_kwargs=dict(max_trans=1e-4))\n",
    "us_opt_model4"
   ]
  },
  {
   "cell_type": "markdown",
   "id": "f36ff33c-263c-4468-981d-eef9e6cc3e38",
   "metadata": {},
   "source": [
    "Now let's re-implement how convergence of the optimization is handled:"
   ]
  },
  {
   "cell_type": "code",
   "execution_count": 6,
   "id": "b8e55f03-6651-4416-9a07-56c98ba96ad4",
   "metadata": {},
   "outputs": [],
   "source": [
    "def limit_converged(new, current, old, conv_min):\n",
    "    if current.loglik < old.loglik:\n",
    "        return 1\n",
    "    if (current.loglik - old.loglik) < conv_min:\n",
    "        return 2\n",
    "    return 0"
   ]
  },
  {
   "cell_type": "code",
   "execution_count": 7,
   "id": "35c14d1b-669d-4f51-b007-d4122595178f",
   "metadata": {},
   "outputs": [
    {
     "name": "stdout",
     "output_type": "stream",
     "text": [
      "The model converged after 590 iterations\n"
     ]
    },
    {
     "data": {
      "text/plain": [
       "nstate: 4, ndet: 3, nphot: 436084, niter: 590, loglik: -408203.0178092711 converged state: 0x27\n",
       "prior:\n",
       "0.1974285837494491, 0.5611213924554065, 0.24145002379514446, 5.663724687883234e-39\n",
       "trans:\n",
       "0.999956242650991, 2.6207641738997322e-05, 1.8189787919602388e-06, 1.5730728478121542e-05\n",
       "7.049515187084424e-06, 0.9999698870139253, 6.9913498407807685e-06, 1.6072121046822937e-05\n",
       "1.2716786501567213e-06, 1.7388310225537035e-05, 0.9999781790484651, 3.1609626592454363e-06\n",
       "1.7303592951104114e-05, 0.0001145196740683559, 8.076758043081241e-06, 0.9998600999749374\n",
       "obs:\n",
       "0.8495279860407297, 0.07564793243468462, 0.07482408152458558\n",
       "0.4716848692803993, 0.09134393961306521, 0.43697119110653543\n",
       "0.14909992362596436, 0.3127691549445512, 0.5381309214294844\n",
       "0.15084600961235806, 0.0768130082594134, 0.7723409821282287"
      ]
     },
     "execution_count": 7,
     "metadata": {},
     "output_type": "execute_result"
    }
   ],
   "source": [
    "us_opt_model4 = imodel_4s3d.optimize(color3, times3, bounds_func=limit_converged, bounds=5e-8)\n",
    "us_opt_model4"
   ]
  },
  {
   "cell_type": "markdown",
   "id": "92bf8f46-2f9d-46a2-b7d1-14f48b760624",
   "metadata": {},
   "source": [
    "Finally, bellow is an example that re-implements the min-max procedure and checking for convergence:"
   ]
  },
  {
   "cell_type": "code",
   "execution_count": 8,
   "id": "b6aaebe3-9685-4fdf-8a72-228c5f3da8b5",
   "metadata": {},
   "outputs": [],
   "source": [
    "def minmax_conv_py(new, current, old, conv_min, **kwargs):\n",
    "    return minmax_py(new, current, old, **kwargs), limit_converged(new, current, old, conv_min)"
   ]
  },
  {
   "cell_type": "code",
   "execution_count": 9,
   "id": "f905b0c1-78a7-467c-bd22-d6a53c62df6b",
   "metadata": {},
   "outputs": [
    {
     "name": "stdout",
     "output_type": "stream",
     "text": [
      "The model converged after 312 iterations\n"
     ]
    },
    {
     "data": {
      "text/plain": [
       "nstate: 4, ndet: 3, nphot: 436084, niter: 312, loglik: -408204.56206726376 converged state: 0x27\n",
       "prior:\n",
       "0.2018750928494694, 0.5555092492855985, 0.24261565786493217, 3.425647254747166e-17\n",
       "trans:\n",
       "0.9999561169583928, 2.5778882951705934e-05, 1.8080121398064143e-06, 1.629614651565675e-05\n",
       "6.756074148398843e-06, 0.9999721942825246, 6.949971979473454e-06, 1.4099671347632947e-05\n",
       "1.2573545270720579e-06, 1.7601802633095922e-05, 0.9999780806157591, 3.0602270807174677e-06\n",
       "1.9999001725623875e-05, 0.0001, 8.606627635929955e-06, 0.9998713943706384\n",
       "obs:\n",
       "0.8486998060312413, 0.07578060671871169, 0.07551958725004701\n",
       "0.4703530221933337, 0.09123831277632267, 0.4384086650303437\n",
       "0.14917480330653873, 0.3128859409692162, 0.5379392557242451\n",
       "0.15244034337688966, 0.07711913838505492, 0.7704405182380555"
      ]
     },
     "execution_count": 9,
     "metadata": {},
     "output_type": "execute_result"
    }
   ],
   "source": [
    "us_opt_model4 = imodel_4s3d.optimize(color3, times3, bounds_func=minmax_conv_py, bounds=5e-8, bounds_kwargs=dict(max_trans=1e-4))\n",
    "us_opt_model4"
   ]
  }
 ],
 "metadata": {
  "kernelspec": {
   "display_name": "Python 3 (ipykernel)",
   "language": "python",
   "name": "python3"
  },
  "language_info": {
   "codemirror_mode": {
    "name": "ipython",
    "version": 3
   },
   "file_extension": ".py",
   "mimetype": "text/x-python",
   "name": "python",
   "nbconvert_exporter": "python",
   "pygments_lexer": "ipython3",
   "version": "3.12.3"
  }
 },
 "nbformat": 4,
 "nbformat_minor": 5
}
