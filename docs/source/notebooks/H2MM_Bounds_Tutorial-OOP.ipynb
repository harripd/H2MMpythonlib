{
 "cells": [
  {
   "cell_type": "markdown",
   "id": "e32a35b5",
   "metadata": {},
   "source": [
    "# Bounding H<sup>2</sup>MM, with object oriented calls\n",
    "\n",
    "Let's get our obligitory imports in order, and we'll load the 3 detector data as well."
   ]
  },
  {
   "cell_type": "code",
   "execution_count": 1,
   "id": "ca9b4442",
   "metadata": {},
   "outputs": [],
   "source": [
    "import os\n",
    "import numpy as np\n",
    "from matplotlib import pyplot as plt\n",
    "\n",
    "import H2MM_C as hm\n",
    "\n",
    "# load the data\n",
    "def load_txtdata(filename):\n",
    "    color = list()\n",
    "    times = list()\n",
    "    with open(filename,'r') as f:\n",
    "        for i, line in enumerate(f):\n",
    "            if i % 2 == 0:\n",
    "                times.append(np.array([int(x) for x in line.split()],dtype=np.int64))\n",
    "            else:\n",
    "                color.append(np.array([int(x) for x in line.split()],dtype=np.uint8))\n",
    "    return color, times\n",
    "\n",
    "color3, times3 = load_txtdata('sample_data_3det.txt')"
   ]
  },
  {
   "cell_type": "markdown",
   "id": "1ce3255d",
   "metadata": {},
   "source": [
    "## Built in Limits\n",
    "\n",
    "Sometimes we may want to restrain what values are possible in the H<sup>2</sup>MM model, for instance to keep transition rates within reasonable values, or because you know something about how the emmission probability matrix (`obs`) should behave.\n",
    "\n",
    "This is expected to happen most often (but not exclusively) when some experimental parameter is periodic, but not important to the data. For instance in $\\mu$sALEX experiments, the laser alternation period causes donor and acceptor excitation photons, which arrive in separate streams to alternate (and thus transition) perfectly periodically, yet that has no bearing on transitions between our system. Thus transition rates close to the rate of laser alternation are likely to be artifacts, and thus we want to exclude them. For $\\mu sALEX$ experiments, we find this still is not enough.\n",
    "\n",
    "To define some bounds, we need to define the bounds, this is done using the `hm.h2mm_limits` object, which we pass into the `.optimize()` method through the keyword argument `bounds`, and we also need to supply a method string to another keyword argument, `bounds_func`.\n",
    "\n",
    "#### Let's see an example"
   ]
  },
  {
   "cell_type": "code",
   "execution_count": 2,
   "id": "d88a0a00",
   "metadata": {},
   "outputs": [
    {
     "name": "stdout",
     "output_type": "stream",
     "text": [
      "Optimization reached maximum number of iterations\n"
     ]
    },
    {
     "data": {
      "text/plain": [
       "nstate: 4, ndet: 3, nphot: 436084, niter: 100, loglik: -408205.4633854556 converged state: 0x47\n",
       "prior:\n",
       "0.206223300881621, 0.5504011574069707, 0.2433618121751828, 1.3729536225429369e-05\n",
       "trans:\n",
       "0.9999559888800702, 2.505789429514836e-05, 1.9174623115099494e-06, 1.7035763323119196e-05\n",
       "6.67797236240278e-06, 0.9999732927606048, 7.032276452224524e-06, 1.2996990580657323e-05\n",
       "1.27725275421276e-06, 1.7684650991590734e-05, 0.9999780429283311, 2.995167922909562e-06\n",
       "2.1450285869445106e-05, 9.872534097840427e-05, 8.21668868128047e-06, 0.9998716076844709\n",
       "obs:\n",
       "0.8479274340954588, 0.07591874802826877, 0.07615381787627239\n",
       "0.46905466849894717, 0.09117107393458351, 0.43977425756646926\n",
       "0.14920402430709975, 0.312595103518759, 0.5382008721741413\n",
       "0.14884955858218676, 0.07632719552261558, 0.7748232458951977"
      ]
     },
     "execution_count": 2,
     "metadata": {},
     "output_type": "execute_result"
    }
   ],
   "source": [
    "alt_period = 4000 # a fake alternation period\n",
    "us_bounds = hm.h2mm_limits(max_trans = 1/(alt_period))\n",
    "\n",
    "prior = np.array([1/4, 1/4, 1/4, 1/4])\n",
    "trans = np.array([[1-3e-6, 1e-6, 1e-6, 1e-6],\n",
    "                  [1e-6, 1-3e-6, 1e-6, 1e-6],\n",
    "                  [1e-6, 1e-6, 1-3e-6, 1e-6],\n",
    "                  [1e-6, 1e-6, 1e-6, 1-3e-6]])\n",
    "obs = np.array([[0.4,0.4,0.2],\n",
    "                [0.3,0.1,0.6],\n",
    "                [0.2,0.4,0.4],\n",
    "                [0.1,0.1,0.8]])\n",
    "\n",
    "imodel_4s3d = hm.h2mm_model(prior, trans, obs)\n",
    "\n",
    "us_opt_model4 = imodel_4s3d.optimize(color3, times3, bounds_func='revert', bounds=us_bounds, max_iter=100)\n",
    "us_opt_model4"
   ]
  },
  {
   "cell_type": "markdown",
   "id": "91f401cb",
   "metadata": {},
   "source": [
    "So, what did we just do? The `hm.h2mm_limits` object `us_bounds` prevents any value (off the diagonal) of the **transition probability** matrix (`.trans`) from ever being larger (i.e. faster transition rate) than `1/(4000)`. \n",
    "\n",
    "#### Bounds process\n",
    "\n",
    "When you use a bounds method, each iteration goes through the following steps:\n",
    "1. Calculate *loglikelihood* and new model\n",
    "2. Check if the **model** converged\n",
    "3. Analyze the **new model**, and correct if necessary\n",
    "    1. Check if any values are smaller or larger than a pre-set minimum or maximum\n",
    "    2. If values are out of bounds, apply correction, method defined by argument passed to `bounds_func`\n",
    "4. Repeat optimization (back to step 1)\n",
    "\n",
    "The inputs to `hm.h2mm_limits` are all keyword argumetns, and come in the form of `min/max_[array]` where `[array]` is `prior`, `trans` or `obs`, and specify the minimum and maximum values in the respective array.\n",
    "Specifying as a float will set the value for all states, and thus the created `hm.h2mm_limits` object can be used for models with any model, while values can be specified as arrays, where each element sets the min/max of the value at that position in the given array of the model.\n",
    "\n",
    "#### `bounds_func`\n",
    "\n",
    "As mentioned in the above outline, the bounding process needs to choose how to correct the way in which a model value that is out of bound is corrected.\n",
    "There are 3 options:\n",
    "\n",
    "1. `minmax` shallowest correction, sets the value to its minimum or maximum\n",
    "2. `revert` prefered method, sets the value to the value in the previous model\n",
    "3. `revert_old` a more extreme form of `revert` which goes to the model before the last in the optimization, and sets the value to that.\n",
    "\n",
    "### Using `hm.factory_h2mm_model()` with bounds\n",
    "\n",
    "You will note in the previous example, we specified the `hm.h2mm_model` explicitly, instead of using `hm.factory_h2mm_model()`. \n",
    "This is because it is possible that the `hm.factory_h2mm_model()` could create an initial model that contains out of bounds values, which could result in odd behavior during optimization.\n",
    "\n",
    "There is a way around this, you can give the `hm.h2mm_limits` object to `hm.factory_h2mm_model()` through the keyword argument `bounds`, and the function will automatically ensure the model is with bounds:\n",
    "\n",
    "> See the full documentation to see full list of options for customizing the `hm.factory_h2mm_model()` function's output"
   ]
  },
  {
   "cell_type": "code",
   "execution_count": 3,
   "id": "384591ca",
   "metadata": {},
   "outputs": [
    {
     "name": "stdout",
     "output_type": "stream",
     "text": [
      "The model converged after 200 iterations\n"
     ]
    }
   ],
   "source": [
    "us_bounds = hm.h2mm_limits(max_trans = 1/4000)\n",
    "# make factory_h2mm_model make a model within bounds\n",
    "imodel = hm.factory_h2mm_model(3,3, bounds=us_bounds)\n",
    "us_model = imodel.optimize(color3, times3, bounds=us_bounds, bounds_func='revert')"
   ]
  },
  {
   "cell_type": "markdown",
   "id": "4793aa59",
   "metadata": {},
   "source": [
    "## Custom Bounds\n",
    "\n",
    "Finally, it is possible to supply a custom bounding function to `bounds_func`.\n",
    "\n",
    "> **Note**\n",
    ">\n",
    "> This feature was designed to allow the user to handle things/circumstances\n",
    "> that the writers of H2MM_C had not anticipated.\n",
    "> Therefore this example is very simple, and does not show a useful method.\n",
    "\n",
    "This function must is called at the end of the optimization loop, after a given model's loglik has been \n",
    "calculated (and the standard H<sup>2</sup>MM next model for the next iteration produced).\n",
    "\n",
    "This function takes the signature \n",
    "`bounds_func(new:h2mm_model, current:h2mm_model, old:h2mm_model, *bounds, **bounds_func)->h2mm_model|int|tuple[h2mm_model,int]`\n",
    "\n",
    "`new`, `current` and `old` are the `h2mm_model`s of the current iteration.\n",
    "\n",
    "1. `new` is the model suggested/produced by the current iteration\n",
    "2. `current` is the model whose loglik was just computed\n",
    "3. `old` is the model computed in the previous iteration\n",
    "\n",
    "These are always supplied each iteration. `bounds` and `bounds_kwargs` come from the\n",
    "identically named keyword arguments in `EM_H2MM_C`. `bounds` by default is `None`, which \n",
    "is internally converted to a 0-size (empty) `tuple`, likewise `bounds_kwargs` is by default `None`\n",
    "and is internally converted into an empty dict.\n",
    "\n",
    "The return value can either or both specify\n",
    "1. The \"bounded\" `new` model\n",
    "2. If the optimization has converged\n",
    "\n",
    "If only the `new` model is specified, convergence will be determined like all other optimizaztions,\n",
    "by the difference in loglik of `current` and `old`. \n",
    "\n",
    "**However,** if the bounds function returns a value specifying if the model has converged, then\n",
    "`EM_H2MM_C` will **not** separately check if the optimization has converged.\n",
    "\n",
    "> **Note**\n",
    "> `max_iter` and `max_time` are enforced separetely from `bounds_func`. \n",
    "\n",
    "If specifying the converged state, this can be either a `bool` or 0, 1, 2.\n",
    "\n",
    "As a `bool`, `True` indicates that the optimization has converged, and thus\n",
    "can stop, the `old` model will be returned as the \"optimal\" model. `False`\n",
    "will allow the optimization to proceed using the `new` model.\n",
    "\n",
    "If specifying as `0` is equivalent to `False`, `1` to `True`, and `2` will return\n",
    "the 'current' model as the optimal model.\n",
    "\n",
    "If both the `new` model and converged state are specified, this must be done by returning a 2-tuple\n",
    "of `(new, converged_state)`.\n",
    "\n",
    "> **Warning**\n",
    "> Make sure the model you return makes sense, otherwise the optimization will proceed unpredictably.\n",
    "> Think of this as the “gloves off” approach, you might have a very powerful new method, or you might\n",
    "> get something meaningless depending on how you code it. That’s your responsibility.\n",
    "\n",
    "Below is a function that that re-implements the behavior of `\"minmax\"` but now the limits\n",
    "normally specified with a `h2mm_limits` object supplied to `bounds` are replaced with kwargs:"
   ]
  },
  {
   "cell_type": "code",
   "execution_count": 4,
   "id": "5bfa9b65",
   "metadata": {},
   "outputs": [],
   "source": [
    "def minmax_py(new, current, old, converged_min=1e-9, \n",
    "                  min_prior=None, max_prior=None,\n",
    "                  min_trans=None, max_trans=None, \n",
    "                  min_obs=None, max_obs=None):\n",
    "    # bounding of trans matrix\n",
    "    if min_trans is not None or max_trans is not None:\n",
    "        trans = new.trans\n",
    "        idxs = np.arange(new.nstate)\n",
    "        if isinstance(min_trans, float):\n",
    "            trans[trans < min_trans*(~np.eye(new.nstate, dtype=np.bool_))] = min_trans\n",
    "        elif isinstance(min_trans, np.ndarray):\n",
    "            mask = trans < min_trans\n",
    "            trans[mask] = min_trans[mask]\n",
    "        if isinstance(max_trans, float):\n",
    "            trans[trans > max_trans*(~np.eye(new.nstate, dtype=np.bool_))] = max_trans\n",
    "        elif isinstance(max_trans, np.ndarray):\n",
    "            mask = trans > max_trans\n",
    "            trans[mask] = max_trans[mask]\n",
    "        for i in range(trans.shape[0]):\n",
    "            trans[i,i] = 1.0 - trans[i, idxs!=i].sum()\n",
    "        new.trans = trans\n",
    "    # bounding of obs matrix\n",
    "    if min_obs is not None or max_obs is not None:\n",
    "        obs = new.obs\n",
    "        if min_obs is not None:\n",
    "            minmask = obs < min_obs\n",
    "            obs[minmask] = min_obs[minmask]\n",
    "        else:\n",
    "            minmask = np.zeros(obs.shape, dtype=np.bool_)\n",
    "        if max_obs is not None:\n",
    "            maxmask = obs > max_obs\n",
    "            obs[maxmask] = max_obs[maxmask]\n",
    "        else:\n",
    "            maxmask = np.zeros(obs.shape, dtype=np.bool_)\n",
    "        obsmask = minmask | maxmask\n",
    "        for i in range(obs.shape[0]):\n",
    "            obs[i,~obsmask[i,:]] += (1-obs[i,:].sum()) / (~obsmask).sum()\n",
    "        new.obs = obs\n",
    "    if min_prior is not None or max_prior is not None:\n",
    "        prior = new.prior\n",
    "        if min_prior is not None:\n",
    "            minpmask = prior < min_prior\n",
    "            prior[minpmask] = min_prior[minpmask]\n",
    "        else:\n",
    "            minpmask = np.zeros(new.nstate, base=np.bool_)\n",
    "        if max_prior is not None:\n",
    "            maxpmask = prior > max_prior\n",
    "            prior[maxpmask] = max_prior[maxpmask]\n",
    "        else:\n",
    "            maxpmask = np.zeros(new.nstate, base=np.bool_)\n",
    "        pmask = minpmask | maxpmask\n",
    "        prior[~pmask] += (1-prior.sum()) / (~pmask).sum()\n",
    "        new.prior = prior\n",
    "    return new"
   ]
  },
  {
   "cell_type": "code",
   "execution_count": 5,
   "id": "20dbeeaa",
   "metadata": {},
   "outputs": [
    {
     "name": "stdout",
     "output_type": "stream",
     "text": [
      "The model converged after 353 iterations\n"
     ]
    },
    {
     "data": {
      "text/plain": [
       "nstate: 4, ndet: 3, nphot: 436084, niter: 353, loglik: -408204.56206643867 converged state: 0x27\n",
       "prior:\n",
       "0.555511292028721, 0.20187279524670518, 0.2426159127245738, 2.290248382075502e-18\n",
       "trans:\n",
       "0.9999721940546923, 6.7564748402267116e-06, 6.949837089371968e-06, 1.4099633378069805e-05\n",
       "2.578112302739589e-05, 0.9999561165704784, 1.807862675191751e-06, 1.629444381899416e-05\n",
       "1.760165286748779e-05, 1.2573208141643173e-06, 0.9999780804891675, 3.0605371508596436e-06\n",
       "0.0001, 1.9996828413314854e-05, 8.607912320919078e-06, 0.9998713952592657\n",
       "obs:\n",
       "0.47035275052579106, 0.09123832561179585, 0.4384089238624131\n",
       "0.8487006169493665, 0.07578053207001928, 0.07551885098061428\n",
       "0.14917490857012658, 0.3128863921690178, 0.5379386992608556\n",
       "0.1524394769411197, 0.07711919201543699, 0.7704413310434433"
      ]
     },
     "execution_count": 5,
     "metadata": {},
     "output_type": "execute_result"
    }
   ],
   "source": [
    "prior = np.array([1/4, 1/4, 1/4, 1/4])\n",
    "trans = np.array([[1-3e-6, 1e-6, 1e-6, 1e-6],\n",
    "                  [1e-6, 1-3e-6, 1e-6, 1e-6],\n",
    "                  [1e-6, 1e-6, 1-3e-6, 1e-6],\n",
    "                  [1e-6, 1e-6, 1e-6, 1-3e-6]])\n",
    "obs = np.array([[0.09, 0.01,  0.9],\n",
    "                [0.3,   0.1,  0.6],\n",
    "                [0.2,   0.4,  0.4],\n",
    "                [0.1,   0.1,  0.8]])\n",
    "\n",
    "imodel4s3d = hm.h2mm_model(prior, trans, obs)\n",
    "us_opt_model4 = imodel4s3d.optimize(color3, times3, bounds_func=minmax_py, bounds_kwargs=dict(max_trans=1e-4))\n",
    "us_opt_model4"
   ]
  },
  {
   "cell_type": "markdown",
   "id": "f36ff33c-263c-4468-981d-eef9e6cc3e38",
   "metadata": {},
   "source": [
    "Now let's re-implement how convergence of the optimization is handled:"
   ]
  },
  {
   "cell_type": "code",
   "execution_count": 6,
   "id": "b8e55f03-6651-4416-9a07-56c98ba96ad4",
   "metadata": {},
   "outputs": [],
   "source": [
    "def limit_converged(new, current, old, conv_min):\n",
    "    if current.loglik < old.loglik:\n",
    "        return 1\n",
    "    if (current.loglik - old.loglik) < conv_min:\n",
    "        return 2\n",
    "    return 0"
   ]
  },
  {
   "cell_type": "code",
   "execution_count": 7,
   "id": "35c14d1b-669d-4f51-b007-d4122595178f",
   "metadata": {},
   "outputs": [
    {
     "name": "stdout",
     "output_type": "stream",
     "text": [
      "The model converged after 590 iterations\n"
     ]
    },
    {
     "data": {
      "text/plain": [
       "nstate: 4, ndet: 3, nphot: 436084, niter: 590, loglik: -408203.0178092703 converged state: 0x27\n",
       "prior:\n",
       "0.19742858374944877, 0.5611213924554073, 0.2414500237951439, 5.6637246878799196e-39\n",
       "trans:\n",
       "0.999956242650991, 2.6207641738997607e-05, 1.8189787919602147e-06, 1.57307284781214e-05\n",
       "7.049515187084413e-06, 0.9999698870139253, 6.9913498407807685e-06, 1.6072121046823086e-05\n",
       "1.2716786501567033e-06, 1.7388310225536896e-05, 0.9999781790484651, 3.160962659245406e-06\n",
       "1.7303592951104063e-05, 0.00011451967406835668, 8.076758043081165e-06, 0.9998600999749374\n",
       "obs:\n",
       "0.8495279860407297, 0.07564793243468468, 0.07482408152458554\n",
       "0.47168486928039943, 0.09134393961306514, 0.43697119110653554\n",
       "0.1490999236259642, 0.31276915494455165, 0.5381309214294842\n",
       "0.15084600961235717, 0.07681300825941306, 0.7723409821282297"
      ]
     },
     "execution_count": 7,
     "metadata": {},
     "output_type": "execute_result"
    }
   ],
   "source": [
    "us_opt_model4 = imodel_4s3d.optimize(color3, times3, bounds_func=limit_converged, bounds=5e-8)\n",
    "us_opt_model4"
   ]
  },
  {
   "cell_type": "markdown",
   "id": "92bf8f46-2f9d-46a2-b7d1-14f48b760624",
   "metadata": {},
   "source": [
    "Finally, bellow is an example that re-implements the min-max procedure and checking for convergence:"
   ]
  },
  {
   "cell_type": "code",
   "execution_count": 8,
   "id": "b6aaebe3-9685-4fdf-8a72-228c5f3da8b5",
   "metadata": {},
   "outputs": [],
   "source": [
    "def minmax_conv_py(new, current, old, conv_min, **kwargs):\n",
    "    return minmax_py(new, current, old, **kwargs), limit_converged(new, current, old, conv_min)"
   ]
  },
  {
   "cell_type": "code",
   "execution_count": 9,
   "id": "f905b0c1-78a7-467c-bd22-d6a53c62df6b",
   "metadata": {},
   "outputs": [
    {
     "name": "stdout",
     "output_type": "stream",
     "text": [
      "The model converged after 312 iterations\n"
     ]
    },
    {
     "data": {
      "text/plain": [
       "nstate: 4, ndet: 3, nphot: 436084, niter: 312, loglik: -408204.56206726417 converged state: 0x27\n",
       "prior:\n",
       "0.20187509284947042, 0.5555092492855974, 0.24261565786493208, 3.425647254746729e-17\n",
       "trans:\n",
       "0.9999561169583928, 2.5778882951706266e-05, 1.8080121398063821e-06, 1.6296146515656762e-05\n",
       "6.756074148398856e-06, 0.9999721942825246, 6.949971979473458e-06, 1.4099671347632857e-05\n",
       "1.257354527072051e-06, 1.7601802633095908e-05, 0.9999780806157591, 3.0602270807174864e-06\n",
       "1.9999001725624092e-05, 0.0001, 8.606627635929915e-06, 0.9998713943706384\n",
       "obs:\n",
       "0.8486998060312413, 0.07578060671871177, 0.07551958725004693\n",
       "0.47035302219333386, 0.09123831277632269, 0.4384086650303435\n",
       "0.14917480330653887, 0.3128859409692166, 0.5379392557242445\n",
       "0.15244034337688955, 0.07711913838505507, 0.7704405182380555"
      ]
     },
     "execution_count": 9,
     "metadata": {},
     "output_type": "execute_result"
    }
   ],
   "source": [
    "us_opt_model4 = imodel_4s3d.optimize(color3, times3, bounds_func=minmax_conv_py, bounds=5e-8, bounds_kwargs=dict(max_trans=1e-4))\n",
    "us_opt_model4"
   ]
  }
 ],
 "metadata": {
  "kernelspec": {
   "display_name": "Python 3 (ipykernel)",
   "language": "python",
   "name": "python3"
  },
  "language_info": {
   "codemirror_mode": {
    "name": "ipython",
    "version": 3
   },
   "file_extension": ".py",
   "mimetype": "text/x-python",
   "name": "python",
   "nbconvert_exporter": "python",
   "pygments_lexer": "ipython3",
   "version": "3.12.3"
  }
 },
 "nbformat": 4,
 "nbformat_minor": 5
}
