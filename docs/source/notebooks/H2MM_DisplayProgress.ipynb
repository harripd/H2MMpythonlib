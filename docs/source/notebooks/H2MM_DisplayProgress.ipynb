{
 "cells": [
  {
   "cell_type": "markdown",
   "id": "e936351e",
   "metadata": {},
   "source": [
    "# `H2MM_C` Displaying Optimization Progress\n",
    "\n",
    "Let's get our obligitory imports in order, and we'll load the 3 detector data as well."
   ]
  },
  {
   "cell_type": "code",
   "execution_count": 1,
   "id": "0bda2531",
   "metadata": {},
   "outputs": [],
   "source": [
    "import os\n",
    "import numpy as np\n",
    "from matplotlib import pyplot as plt\n",
    "\n",
    "import H2MM_C as hm\n",
    "\n",
    "# load the data\n",
    "color3 = list()\n",
    "times3 = list()\n",
    "\n",
    "i = 0\n",
    "with open('sample_data_3det.txt','r') as f:\n",
    "    for line in f:\n",
    "        if i % 2 == 0:\n",
    "            times3.append(np.array([int(x) for x in line.split()],dtype='Q'))\n",
    "        else:\n",
    "            color3.append(np.array([int(x) for x in line.split()],dtype='L'))\n",
    "        i += 1"
   ]
  },
  {
   "cell_type": "markdown",
   "id": "81db52f9",
   "metadata": {},
   "source": [
    "## Customizing Display of Optmization progression\n",
    "\n",
    "> Note\n",
    ">\n",
    "> These functions are best demonstrated in Jupyter notebooks\n",
    "\n",
    "You've probably seen that whenever `hm.EM_H2MM_C()` is run, you see the number of iterations currently computed gets displayed. This behavior can be modified however with the `print_func` keyword argument. This lets us choose how much/what information gets displayed! See the list of options below:\n",
    "\n",
    "\n",
    "### Basic `print_func` options\n",
    "\n",
    "- `'iter'` Prints only the iteration number- compact way to still track optimization progress in Jupyter Notebook\n",
    "- `'all'` prints a representation of the whole model to be optimized in the next iteration (this will be very verbose).\n",
    "- `'diff'` Print the difference between the previous and current model logliklihoods and the current loglikelihood.\n",
    "- `'diff_time'` Same as `'diff'` but with additional information about how long the current iteration took, and the total time taken. These times however are not very accurate, because they use an inaccurate, but fast clock function.\n",
    "- `'comp'` Print the old and current loglikelihoods\n",
    "- `'comp_time'` Like `'diff_time'` but for `'comp'`\n",
    "- `'console'` (not recomended anymore) normally prints to the **console** window, and provides basic information on the progress of the optimization.\n",
    "    > This option may not work on your computer due to how the compilation works and different systems having different default console outputs\n",
    "- `None` Suppresses all printing of iteration information."
   ]
  },
  {
   "cell_type": "code",
   "execution_count": 2,
   "id": "9f666fe8",
   "metadata": {},
   "outputs": [
    {
     "data": {
      "text/plain": [
       "The model converged after 191 iterations"
      ]
     },
     "metadata": {},
     "output_type": "display_data"
    }
   ],
   "source": [
    "model_3d3c = hm.EM_H2MM_C(hm.factory_h2mm_model(3,3), color3,  times3, print_func='diff')"
   ]
  },
  {
   "cell_type": "markdown",
   "id": "345d7a1e",
   "metadata": {},
   "source": [
    "These updates can be further customized. By default only the current itteration is displayed, but what if you would like to record the progress, for instance to see how the loglik improves with each iteration?\n",
    "\n",
    "This can be done by passing another keyword argument: `print_args=True`\n",
    "\n",
    "#### Recording each iteration with the `print_args` kwarg:"
   ]
  },
  {
   "cell_type": "code",
   "execution_count": 3,
   "id": "56875d60",
   "metadata": {
    "scrolled": true
   },
   "outputs": [
    {
     "data": {
      "text/plain": [
       "Iteration:    0, loglik:-4.387899e+05, improvement:   inf\n",
       "Iteration:    1, loglik:-4.203991e+05, improvement:1.839076e+04\n",
       "Iteration:    2, loglik:-4.172495e+05, improvement:3.149621e+03\n",
       "Iteration:    3, loglik:-4.168160e+05, improvement:4.334909e+02\n",
       "Iteration:    4, loglik:-4.166697e+05, improvement:1.463433e+02\n",
       "Iteration:    5, loglik:-4.165714e+05, improvement:9.831467e+01\n",
       "Iteration:    6, loglik:-4.164868e+05, improvement:8.460410e+01\n",
       "Iteration:    7, loglik:-4.164030e+05, improvement:8.370726e+01\n",
       "Iteration:    8, loglik:-4.163116e+05, improvement:9.142352e+01\n",
       "Iteration:    9, loglik:-4.162055e+05, improvement:1.061152e+02\n",
       "Iteration:   10, loglik:-4.160785e+05, improvement:1.269588e+02\n",
       "Iteration:   11, loglik:-4.159256e+05, improvement:1.529380e+02\n",
       "Iteration:   12, loglik:-4.157447e+05, improvement:1.808611e+02\n",
       "Iteration:   13, loglik:-4.155401e+05, improvement:2.046643e+02\n",
       "Iteration:   14, loglik:-4.153189e+05, improvement:2.211944e+02\n",
       "Iteration:   15, loglik:-4.150866e+05, improvement:2.322782e+02\n",
       "Iteration:   16, loglik:-4.148451e+05, improvement:2.415008e+02\n",
       "Iteration:   17, loglik:-4.145964e+05, improvement:2.486755e+02\n",
       "Iteration:   18, loglik:-4.143435e+05, improvement:2.529542e+02\n",
       "Iteration:   19, loglik:-4.140881e+05, improvement:2.554187e+02\n",
       "Iteration:   20, loglik:-4.138319e+05, improvement:2.561196e+02\n",
       "Iteration:   21, loglik:-4.135787e+05, improvement:2.532579e+02\n",
       "Iteration:   22, loglik:-4.133311e+05, improvement:2.475722e+02\n",
       "Iteration:   23, loglik:-4.130892e+05, improvement:2.418696e+02\n",
       "Iteration:   24, loglik:-4.128514e+05, improvement:2.378508e+02\n",
       "Iteration:   25, loglik:-4.126157e+05, improvement:2.356415e+02\n",
       "Iteration:   26, loglik:-4.123811e+05, improvement:2.346992e+02\n",
       "Iteration:   27, loglik:-4.121466e+05, improvement:2.344752e+02\n",
       "Iteration:   28, loglik:-4.119119e+05, improvement:2.346358e+02\n",
       "Iteration:   29, loglik:-4.116771e+05, improvement:2.348715e+02\n",
       "Iteration:   30, loglik:-4.114426e+05, improvement:2.344301e+02\n",
       "Iteration:   31, loglik:-4.112106e+05, improvement:2.320622e+02\n",
       "Iteration:   32, loglik:-4.109840e+05, improvement:2.266024e+02\n",
       "Iteration:   33, loglik:-4.107665e+05, improvement:2.175059e+02\n",
       "Iteration:   34, loglik:-4.105615e+05, improvement:2.049792e+02\n",
       "Iteration:   35, loglik:-4.103717e+05, improvement:1.897585e+02\n",
       "Iteration:   36, loglik:-4.101993e+05, improvement:1.724524e+02\n",
       "Iteration:   37, loglik:-4.100461e+05, improvement:1.531493e+02\n",
       "Iteration:   38, loglik:-4.099140e+05, improvement:1.321656e+02\n",
       "Iteration:   39, loglik:-4.098032e+05, improvement:1.107497e+02\n",
       "Iteration:   40, loglik:-4.097127e+05, improvement:9.049932e+01\n",
       "Iteration:   41, loglik:-4.096402e+05, improvement:7.254715e+01\n",
       "Iteration:   42, loglik:-4.095828e+05, improvement:5.736204e+01\n",
       "Iteration:   43, loglik:-4.095379e+05, improvement:4.492736e+01\n",
       "Iteration:   44, loglik:-4.095029e+05, improvement:3.497448e+01\n",
       "Iteration:   45, loglik:-4.094758e+05, improvement:2.713812e+01\n",
       "Iteration:   46, loglik:-4.094547e+05, improvement:2.103855e+01\n",
       "Iteration:   47, loglik:-4.094384e+05, improvement:1.632438e+01\n",
       "Iteration:   48, loglik:-4.094257e+05, improvement:1.269319e+01\n",
       "Iteration:   49, loglik:-4.094158e+05, improvement:9.897353e+00\n",
       "Iteration:   50, loglik:-4.094081e+05, improvement:7.740962e+00\n",
       "Iteration:   51, loglik:-4.094020e+05, improvement:6.072558e+00\n",
       "Iteration:   52, loglik:-4.093972e+05, improvement:4.776702e+00\n",
       "Iteration:   53, loglik:-4.093935e+05, improvement:3.766078e+00\n",
       "Iteration:   54, loglik:-4.093905e+05, improvement:2.974800e+00\n",
       "Iteration:   55, loglik:-4.093881e+05, improvement:2.353085e+00\n",
       "Iteration:   56, loglik:-4.093863e+05, improvement:1.863156e+00\n",
       "Iteration:   57, loglik:-4.093848e+05, improvement:1.476176e+00\n",
       "Iteration:   58, loglik:-4.093836e+05, improvement:1.169979e+00\n",
       "Iteration:   59, loglik:-4.093827e+05, improvement:9.274102e-01\n",
       "Iteration:   60, loglik:-4.093820e+05, improvement:7.351031e-01\n",
       "Iteration:   61, loglik:-4.093814e+05, improvement:5.825859e-01\n",
       "Iteration:   62, loglik:-4.093809e+05, improvement:4.616147e-01\n",
       "Iteration:   63, loglik:-4.093805e+05, improvement:3.656763e-01\n",
       "Iteration:   64, loglik:-4.093803e+05, improvement:2.896107e-01\n",
       "Iteration:   65, loglik:-4.093800e+05, improvement:2.293229e-01\n",
       "Iteration:   66, loglik:-4.093798e+05, improvement:1.815593e-01\n",
       "Iteration:   67, loglik:-4.093797e+05, improvement:1.437336e-01\n",
       "Iteration:   68, loglik:-4.093796e+05, improvement:1.137899e-01\n",
       "Iteration:   69, loglik:-4.093795e+05, improvement:9.009406e-02\n",
       "Iteration:   70, loglik:-4.093794e+05, improvement:7.134807e-02\n",
       "Iteration:   71, loglik:-4.093794e+05, improvement:5.652127e-02\n",
       "Iteration:   72, loglik:-4.093793e+05, improvement:4.479604e-02\n",
       "Iteration:   73, loglik:-4.093793e+05, improvement:3.552414e-02\n",
       "Iteration:   74, loglik:-4.093793e+05, improvement:2.819196e-02\n",
       "Iteration:   75, loglik:-4.093792e+05, improvement:2.239293e-02\n",
       "Iteration:   76, loglik:-4.093792e+05, improvement:1.780534e-02\n",
       "Iteration:   77, loglik:-4.093792e+05, improvement:1.417483e-02\n",
       "Iteration:   78, loglik:-4.093792e+05, improvement:1.130034e-02\n",
       "Iteration:   79, loglik:-4.093792e+05, improvement:9.023057e-03\n",
       "Iteration:   80, loglik:-4.093792e+05, improvement:7.217586e-03\n",
       "Iteration:   81, loglik:-4.093792e+05, improvement:5.784897e-03\n",
       "Iteration:   82, loglik:-4.093792e+05, improvement:4.646821e-03\n",
       "Iteration:   83, loglik:-4.093792e+05, improvement:3.741739e-03\n",
       "Iteration:   84, loglik:-4.093792e+05, improvement:3.020925e-03\n",
       "Iteration:   85, loglik:-4.093792e+05, improvement:2.445972e-03\n",
       "Iteration:   86, loglik:-4.093792e+05, improvement:1.986615e-03\n",
       "Iteration:   87, loglik:-4.093792e+05, improvement:1.618849e-03\n",
       "Iteration:   88, loglik:-4.093792e+05, improvement:1.323798e-03\n",
       "Iteration:   89, loglik:-4.093792e+05, improvement:1.086527e-03\n",
       "Iteration:   90, loglik:-4.093792e+05, improvement:8.952360e-04\n",
       "Iteration:   91, loglik:-4.093792e+05, improvement:7.405652e-04\n",
       "Iteration:   92, loglik:-4.093792e+05, improvement:6.151490e-04\n",
       "Iteration:   93, loglik:-4.093792e+05, improvement:5.131078e-04\n",
       "Iteration:   94, loglik:-4.093791e+05, improvement:4.298025e-04\n",
       "Iteration:   95, loglik:-4.093791e+05, improvement:3.615542e-04\n",
       "Iteration:   96, loglik:-4.093791e+05, improvement:3.054178e-04\n",
       "Iteration:   97, loglik:-4.093791e+05, improvement:2.590742e-04\n",
       "Iteration:   98, loglik:-4.093791e+05, improvement:2.206636e-04\n",
       "Iteration:   99, loglik:-4.093791e+05, improvement:1.886645e-04\n",
       "Iteration:  100, loglik:-4.093791e+05, improvement:1.619316e-04\n",
       "Iteration:  101, loglik:-4.093791e+05, improvement:1.394761e-04\n",
       "Iteration:  102, loglik:-4.093791e+05, improvement:1.205583e-04\n",
       "Iteration:  103, loglik:-4.093791e+05, improvement:1.045374e-04\n",
       "Iteration:  104, loglik:-4.093791e+05, improvement:9.091588e-05\n",
       "Iteration:  105, loglik:-4.093791e+05, improvement:7.927796e-05\n",
       "Iteration:  106, loglik:-4.093791e+05, improvement:6.932241e-05\n",
       "Iteration:  107, loglik:-4.093791e+05, improvement:6.076507e-05\n",
       "Iteration:  108, loglik:-4.093791e+05, improvement:5.337654e-05\n",
       "Iteration:  109, loglik:-4.093791e+05, improvement:4.697451e-05\n",
       "Iteration:  110, loglik:-4.093791e+05, improvement:4.142412e-05\n",
       "Iteration:  111, loglik:-4.093791e+05, improvement:3.657449e-05\n",
       "Iteration:  112, loglik:-4.093791e+05, improvement:3.234454e-05\n",
       "Iteration:  113, loglik:-4.093791e+05, improvement:2.865802e-05\n",
       "Iteration:  114, loglik:-4.093791e+05, improvement:2.540828e-05\n",
       "Iteration:  115, loglik:-4.093791e+05, improvement:2.254714e-05\n",
       "Iteration:  116, loglik:-4.093791e+05, improvement:2.003607e-05\n",
       "Iteration:  117, loglik:-4.093791e+05, improvement:1.780293e-05\n",
       "Iteration:  118, loglik:-4.093791e+05, improvement:1.586316e-05\n",
       "Iteration:  119, loglik:-4.093791e+05, improvement:1.410628e-05\n",
       "Iteration:  120, loglik:-4.093791e+05, improvement:1.258566e-05\n",
       "Iteration:  121, loglik:-4.093791e+05, improvement:1.121312e-05\n",
       "Iteration:  122, loglik:-4.093791e+05, improvement:1.000304e-05\n",
       "Iteration:  123, loglik:-4.093791e+05, improvement:8.930860e-06\n",
       "Iteration:  124, loglik:-4.093791e+05, improvement:7.965777e-06\n",
       "Iteration:  125, loglik:-4.093791e+05, improvement:7.116178e-06\n",
       "Iteration:  126, loglik:-4.093791e+05, improvement:6.356451e-06\n",
       "Iteration:  127, loglik:-4.093791e+05, improvement:5.673268e-06\n",
       "Iteration:  128, loglik:-4.093791e+05, improvement:5.070295e-06\n",
       "Iteration:  129, loglik:-4.093791e+05, improvement:4.542002e-06\n",
       "Iteration:  130, loglik:-4.093791e+05, improvement:4.038273e-06\n",
       "Iteration:  131, loglik:-4.093791e+05, improvement:3.644032e-06\n",
       "Iteration:  132, loglik:-4.093791e+05, improvement:3.240420e-06\n",
       "Iteration:  133, loglik:-4.093791e+05, improvement:2.879999e-06\n",
       "Iteration:  134, loglik:-4.093791e+05, improvement:2.597866e-06\n",
       "Iteration:  135, loglik:-4.093791e+05, improvement:2.324930e-06\n",
       "Iteration:  136, loglik:-4.093791e+05, improvement:2.074987e-06\n",
       "Iteration:  137, loglik:-4.093791e+05, improvement:1.862936e-06\n",
       "Iteration:  138, loglik:-4.093791e+05, improvement:1.656765e-06\n",
       "Iteration:  139, loglik:-4.093791e+05, improvement:1.486333e-06\n",
       "Iteration:  140, loglik:-4.093791e+05, improvement:1.323293e-06\n",
       "Iteration:  141, loglik:-4.093791e+05, improvement:1.183944e-06\n",
       "Iteration:  142, loglik:-4.093791e+05, improvement:1.080683e-06\n",
       "Iteration:  143, loglik:-4.093791e+05, improvement:9.394716e-07\n",
       "Iteration:  144, loglik:-4.093791e+05, improvement:8.565257e-07\n",
       "Iteration:  145, loglik:-4.093791e+05, improvement:7.698545e-07\n",
       "Iteration:  146, loglik:-4.093791e+05, improvement:6.844639e-07\n",
       "Iteration:  147, loglik:-4.093791e+05, improvement:6.149057e-07\n",
       "Iteration:  148, loglik:-4.093791e+05, improvement:5.328911e-07\n",
       "Iteration:  149, loglik:-4.093791e+05, improvement:4.927278e-07\n",
       "Iteration:  150, loglik:-4.093791e+05, improvement:4.382455e-07\n",
       "Iteration:  151, loglik:-4.093791e+05, improvement:4.019821e-07\n",
       "Iteration:  152, loglik:-4.093791e+05, improvement:3.408641e-07\n",
       "Iteration:  153, loglik:-4.093791e+05, improvement:3.190362e-07\n",
       "Iteration:  154, loglik:-4.093791e+05, improvement:2.873130e-07\n",
       "Iteration:  155, loglik:-4.093791e+05, improvement:2.449960e-07\n",
       "Iteration:  156, loglik:-4.093791e+05, improvement:2.325396e-07\n",
       "Iteration:  157, loglik:-4.093791e+05, improvement:2.058223e-07\n",
       "Iteration:  158, loglik:-4.093791e+05, improvement:1.802109e-07\n",
       "Iteration:  159, loglik:-4.093791e+05, improvement:1.523877e-07\n",
       "Iteration:  160, loglik:-4.093791e+05, improvement:1.388835e-07\n",
       "Iteration:  161, loglik:-4.093791e+05, improvement:1.395238e-07\n",
       "Iteration:  162, loglik:-4.093791e+05, improvement:1.112930e-07\n",
       "Iteration:  163, loglik:-4.093791e+05, improvement:1.122244e-07\n",
       "Iteration:  164, loglik:-4.093791e+05, improvement:9.220093e-08\n",
       "Iteration:  165, loglik:-4.093791e+05, improvement:7.665949e-08\n",
       "Iteration:  166, loglik:-4.093791e+05, improvement:7.881317e-08\n",
       "Iteration:  167, loglik:-4.093791e+05, improvement:5.715992e-08\n",
       "Iteration:  168, loglik:-4.093791e+05, improvement:7.048948e-08\n",
       "Iteration:  169, loglik:-4.093791e+05, improvement:4.499452e-08\n",
       "Iteration:  170, loglik:-4.093791e+05, improvement:5.908078e-08\n",
       "Iteration:  171, loglik:-4.093791e+05, improvement:3.393507e-08\n",
       "Iteration:  172, loglik:-4.093791e+05, improvement:3.428431e-08\n",
       "Iteration:  173, loglik:-4.093791e+05, improvement:4.435424e-08\n",
       "Iteration:  174, loglik:-4.093791e+05, improvement:2.246816e-08\n",
       "Iteration:  175, loglik:-4.093791e+05, improvement:2.601882e-08\n",
       "Iteration:  176, loglik:-4.093791e+05, improvement:2.863817e-08\n",
       "Iteration:  177, loglik:-4.093791e+05, improvement:2.805609e-08\n",
       "Iteration:  178, loglik:-4.093791e+05, improvement:1.792796e-08\n",
       "Iteration:  179, loglik:-4.093791e+05, improvement:1.408625e-08\n",
       "Iteration:  180, loglik:-4.093791e+05, improvement:1.379522e-08\n",
       "Iteration:  181, loglik:-4.093791e+05, improvement:1.589069e-08\n",
       "Iteration:  182, loglik:-4.093791e+05, improvement:1.629815e-08\n",
       "Iteration:  183, loglik:-4.093791e+05, improvement:1.024455e-08\n",
       "Iteration:  184, loglik:-4.093791e+05, improvement:8.265488e-09\n",
       "Iteration:  185, loglik:-4.093791e+05, improvement:8.847564e-09\n",
       "Iteration:  186, loglik:-4.093791e+05, improvement:9.080395e-09\n",
       "Iteration:  187, loglik:-4.093791e+05, improvement:1.478475e-08\n",
       "Iteration:  188, loglik:-4.093791e+05, improvement:4.016329e-09\n",
       "Iteration:  189, loglik:-4.093791e+05, improvement:9.022187e-09\n",
       "Iteration:  190, loglik:-4.093791e+05, improvement:8.731149e-10\n",
       "Iteration:  191, loglik:-4.093791e+05, improvement:1.571607e-09\n",
       "Iteration:  192, loglik:-4.093791e+05, improvement:-3.899913e-09\n",
       "The model converged after 192 iterations"
      ]
     },
     "metadata": {},
     "output_type": "display_data"
    }
   ],
   "source": [
    "model_3d3c = hm.EM_H2MM_C(hm.factory_h2mm_model(3,3), color3,  times3, print_func='diff', print_args=True)"
   ]
  },
  {
   "cell_type": "markdown",
   "id": "b5f591a6",
   "metadata": {},
   "source": [
    "`print_args` can also be used to specify how frequently the display updates, by passing an *integer* value into `print_args`, then the display will only update after that many iterations, which means it stays around for longer, \n",
    "so you can actually read the full line before it updates.\n",
    "\n",
    "Update the display every 10 iterations:"
   ]
  },
  {
   "cell_type": "code",
   "execution_count": 4,
   "id": "6f6a8d4f",
   "metadata": {},
   "outputs": [
    {
     "data": {
      "text/plain": [
       "The model converged after 191 iterations"
      ]
     },
     "metadata": {},
     "output_type": "display_data"
    }
   ],
   "source": [
    "model_3d3c = hm.EM_H2MM_C(hm.factory_h2mm_model(3,3), color3,  times3, print_func='diff', print_args=10)"
   ]
  },
  {
   "cell_type": "markdown",
   "id": "8c0de854",
   "metadata": {},
   "source": [
    "These options can be combined, using a tuple of precicely 2 elements, the first must be a positive `int` and the second must be either `True` or `False`. So `print_args=(10,True)` will update every 10 iterations, and keep the record of each iteration, while `print_args=(20,False)` will update the display every 20 iterations, and only display the latest iteration.\n",
    "\n",
    "Show every 10 minuts and keep previous printout:"
   ]
  },
  {
   "cell_type": "code",
   "execution_count": 5,
   "id": "189cac18",
   "metadata": {},
   "outputs": [
    {
     "data": {
      "text/plain": [
       "Iteration:    0, loglik:-4.387899e+05, improvement:   inf\n",
       "Iteration:   10, loglik:-4.160785e+05, improvement:1.269588e+02\n",
       "Iteration:   20, loglik:-4.138319e+05, improvement:2.561196e+02\n",
       "Iteration:   30, loglik:-4.114426e+05, improvement:2.344301e+02\n",
       "Iteration:   40, loglik:-4.097127e+05, improvement:9.049932e+01\n",
       "Iteration:   50, loglik:-4.094081e+05, improvement:7.740962e+00\n",
       "Iteration:   60, loglik:-4.093820e+05, improvement:7.351031e-01\n",
       "Iteration:   70, loglik:-4.093794e+05, improvement:7.134807e-02\n",
       "Iteration:   80, loglik:-4.093792e+05, improvement:7.217587e-03\n",
       "Iteration:   90, loglik:-4.093792e+05, improvement:8.952386e-04\n",
       "Iteration:  100, loglik:-4.093791e+05, improvement:1.619327e-04\n",
       "Iteration:  110, loglik:-4.093791e+05, improvement:4.142115e-05\n",
       "Iteration:  120, loglik:-4.093791e+05, improvement:1.258310e-05\n",
       "Iteration:  130, loglik:-4.093791e+05, improvement:4.038040e-06\n",
       "Iteration:  140, loglik:-4.093791e+05, improvement:1.323235e-06\n",
       "Iteration:  150, loglik:-4.093791e+05, improvement:4.379544e-07\n",
       "Iteration:  160, loglik:-4.093791e+05, improvement:1.401058e-07\n",
       "Iteration:  170, loglik:-4.093791e+05, improvement:5.675247e-08\n",
       "Iteration:  180, loglik:-4.093791e+05, improvement:1.193257e-08\n",
       "Iteration:  190, loglik:-4.093791e+05, improvement:5.064066e-09\n",
       "The model converged after 191 iterations"
      ]
     },
     "metadata": {},
     "output_type": "display_data"
    }
   ],
   "source": [
    "model_3d3c = hm.EM_H2MM_C(hm.factory_h2mm_model(3,3), color3,  times3, print_func='diff', print_args=(10, True))"
   ]
  },
  {
   "cell_type": "markdown",
   "id": "4c32f928",
   "metadata": {},
   "source": [
    "### Customized display using your own function\n",
    "\n",
    "If you want to customize the display, you can define  your own printer function.\n",
    "\n",
    "The function should have the following general signature:\n",
    "\n",
    "`print_func(niter, new_model, current_model, old_model, t_iter, t_total)`\n",
    "\n",
    "> NOTE: It is not necessary, but recommended to keep these variable names in the function declaration.\n",
    "\n",
    "where:\n",
    "- `niter` is the number of iterations\n",
    "- `new_model` is a `h2mm_model` object that represents the next model to be optimized (**before** checking for out of bounds values) note that its `.loglik` will be irrelevant because it has not been calculated yet.\n",
    "- `current_model` is a `h2mm_model` object that represents the model whose `.loglik` was just calculated\n",
    "- `old_model` is a `h2mm_model` object that represents the model from the previous iteration.\n",
    "- `t_iter` is a float which is the time in seconds based on the **inaccurate C clock** that it took to calculate the latest iteration\n",
    "- `t_total` is a float which is the time in seconds based on the **inaccurate C clock** that the full optimization has taken\n",
    "\n",
    "Your function can return a string, which is the prefered method, or you can call `print` from within the function.\n",
    "\n",
    "The `print_args` keyword argument works in the same way as before.\n",
    "\n",
    "So bellow is an example of a custom print function:"
   ]
  },
  {
   "cell_type": "code",
   "execution_count": 6,
   "id": "7cce9632",
   "metadata": {},
   "outputs": [],
   "source": [
    "def silly_print(niter, new, current, old, titer, time):\n",
    "    return f\"\"\"We haven't finished after {niter} iterations\n",
    "    with {new.loglik - current.loglik} improvement in loglik \n",
    "    after {time} (inaccurate) seconds\"\"\""
   ]
  },
  {
   "cell_type": "code",
   "execution_count": 7,
   "id": "d6be3a5b",
   "metadata": {},
   "outputs": [
    {
     "data": {
      "text/plain": [
       "The model converged after 192 iterations"
      ]
     },
     "metadata": {},
     "output_type": "display_data"
    },
    {
     "data": {
      "text/plain": [
       "nstate: 3, ndet: 3, nphot: 436084, niter: 192, loglik: -409379.14701996546 converged state: 3\n",
       "prior:\n",
       "0.2599161389040611, 0.49437669708180326, 0.24570716401413564\n",
       "trans:\n",
       "0.9999762009998817, 2.109153713283627e-05, 2.707462985396962e-06\n",
       "8.392833666553347e-06, 0.9999812080745007, 1.0399091832742116e-05\n",
       "6.290339969797629e-06, 4.466207443278959e-05, 0.9999490475855974\n",
       "obs:\n",
       "0.14570425052915176, 0.29344316376623253, 0.5608525857046157\n",
       "0.44173952091701757, 0.08763105664801644, 0.4706294224349659\n",
       "0.8414287396718038, 0.0785286841458778, 0.08004257618231851"
      ]
     },
     "execution_count": 7,
     "metadata": {},
     "output_type": "execute_result"
    }
   ],
   "source": [
    "hm.EM_H2MM_C(hm.factory_h2mm_model(3,3), color3, times3, print_func=silly_print, print_args=(10, False))"
   ]
  },
  {
   "cell_type": "markdown",
   "id": "bcdc96ed",
   "metadata": {},
   "source": [
    "If your function calls `print` directly (and potentially you could use other display features). This will be more direct, but `print_args` arguments will be ignored."
   ]
  },
  {
   "cell_type": "code",
   "execution_count": 8,
   "id": "c01abe63",
   "metadata": {},
   "outputs": [],
   "source": [
    "def silly_fix_print(niter, new, current, old, titer, time, *args):\n",
    "    print( f\"\"\"We haven't finished after {niter} iterations\n",
    "    with {new.loglik - current.loglik} improvement in loglik \n",
    "    after {time} (inaccurate) seconds, {args}\"\"\")"
   ]
  },
  {
   "cell_type": "code",
   "execution_count": 9,
   "id": "53dbc932",
   "metadata": {},
   "outputs": [
    {
     "data": {
      "text/plain": [
       "The model converged after 191 iterations"
      ]
     },
     "metadata": {},
     "output_type": "display_data"
    },
    {
     "name": "stdout",
     "output_type": "stream",
     "text": [
      "We haven't finished after 1 iterations\n",
      "    with 0.0002 improvement in loglik \n",
      "    after 0.2 (inaccurate) seconds, ('eggs',)\n",
      "We haven't finished after 0 iterations\n",
      "    with 29410.734241753118 improvement in loglik \n",
      "    after 0.116358 (inaccurate) seconds, ('eggs',)\n",
      "We haven't finished after 75 iterations\n",
      "    with 409379.2380262765 improvement in loglik \n",
      "    after 8.661903 (inaccurate) seconds, ('eggs',)\n",
      "We haven't finished after 150 iterations\n",
      "    with 409379.1470236728 improvement in loglik \n",
      "    after 17.169087 (inaccurate) seconds, ('eggs',)\n"
     ]
    },
    {
     "data": {
      "text/plain": [
       "nstate: 3, ndet: 3, nphot: 436084, niter: 191, loglik: -409379.14701996325 converged state: 3\n",
       "prior:\n",
       "0.25991614498503507, 0.4943766688551135, 0.2457071861598515\n",
       "trans:\n",
       "0.99997620100061, 2.1091530647357813e-05, 2.7074687426012225e-06\n",
       "8.392831156401862e-06, 0.9999812080804615, 1.0399088382200984e-05\n",
       "6.290351439278532e-06, 4.466205603341905e-05, 0.9999490475925273\n",
       "obs:\n",
       "0.14570425274135482, 0.2934431598919638, 0.5608525873666814\n",
       "0.441739522150704, 0.08763105601610267, 0.47062942183319323\n",
       "0.841428729938364, 0.07852868414074789, 0.0800425859208882"
      ]
     },
     "execution_count": 9,
     "metadata": {},
     "output_type": "execute_result"
    }
   ],
   "source": [
    "hm.EM_H2MM_C(hm.factory_h2mm_model(3,3), color3, times3, \n",
    "             print_func=silly_fix_print, print_args=(75, True, \"eggs\"))"
   ]
  },
  {
   "cell_type": "markdown",
   "id": "048f0b0e",
   "metadata": {},
   "source": [
    "### Extra args in `print_func`\n",
    "\n",
    "If `print_args` gets a tuple with more than 2 arguments, it will pass the remaining arguments as \\*args:"
   ]
  },
  {
   "cell_type": "code",
   "execution_count": 10,
   "id": "c35edbea",
   "metadata": {},
   "outputs": [],
   "source": [
    "def silly_print(niter, new, current, old, titer, time, args):\n",
    "    return f\"\"\"\n",
    "    We haven't finished after {niter} iterations\n",
    "    with {new.loglik - current.loglik} improvement in loglik \n",
    "    after {time} (inaccurate) seconds, {args}\"\"\""
   ]
  },
  {
   "cell_type": "code",
   "execution_count": 11,
   "id": "c75c8ee2",
   "metadata": {
    "scrolled": false
   },
   "outputs": [
    {
     "data": {
      "text/plain": [
       "\n",
       "    We haven't finished after 0 iterations\n",
       "    with 438789.88126171695 improvement in loglik \n",
       "    after 0.120712 (inaccurate) seconds, I'm very silly\n",
       "    We haven't finished after 75 iterations\n",
       "    with 409379.238026278 improvement in loglik \n",
       "    after 8.561962 (inaccurate) seconds, I'm very silly\n",
       "    We haven't finished after 150 iterations\n",
       "    with 409379.1470236733 improvement in loglik \n",
       "    after 17.064443 (inaccurate) seconds, I'm very sillyThe model converged after 192 iterations"
      ]
     },
     "metadata": {},
     "output_type": "display_data"
    },
    {
     "data": {
      "text/plain": [
       "nstate: 3, ndet: 3, nphot: 436084, niter: 192, loglik: -409379.1470199657 converged state: 3\n",
       "prior:\n",
       "0.2599161389040611, 0.4943766970818051, 0.2457071640141338\n",
       "trans:\n",
       "0.9999762009998817, 2.1091537132836017e-05, 2.7074629853969673e-06\n",
       "8.392833666553302e-06, 0.9999812080745007, 1.0399091832742082e-05\n",
       "6.290339969797655e-06, 4.4662074432789244e-05, 0.9999490475855974\n",
       "obs:\n",
       "0.14570425052915192, 0.2934431637662306, 0.5608525857046175\n",
       "0.44173952091701685, 0.08763105664801694, 0.4706294224349663\n",
       "0.8414287396718046, 0.07852868414587744, 0.0800425761823178"
      ]
     },
     "execution_count": 11,
     "metadata": {},
     "output_type": "execute_result"
    }
   ],
   "source": [
    "hm.EM_H2MM_C(hm.factory_h2mm_model(3,3), color3, times3, \n",
    "             print_func=silly_print, print_args=(75, True, \"I'm very silly\"))"
   ]
  },
  {
   "cell_type": "code",
   "execution_count": null,
   "id": "91b6e740",
   "metadata": {},
   "outputs": [],
   "source": []
  }
 ],
 "metadata": {
  "kernelspec": {
   "display_name": "Python 3 (ipykernel)",
   "language": "python",
   "name": "python3"
  },
  "language_info": {
   "codemirror_mode": {
    "name": "ipython",
    "version": 3
   },
   "file_extension": ".py",
   "mimetype": "text/x-python",
   "name": "python",
   "nbconvert_exporter": "python",
   "pygments_lexer": "ipython3",
   "version": "3.9.12"
  }
 },
 "nbformat": 4,
 "nbformat_minor": 5
}
