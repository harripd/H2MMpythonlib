{
 "cells": [
  {
   "cell_type": "markdown",
   "id": "6e37c7b6",
   "metadata": {},
   "source": [
    "# `H2MM_C` tutorial: simulations\n",
    "\n",
    "The other side of `H2MM_C` are some functions for simulating data.\n",
    "\n",
    "The simulation functions of `H2MM_C` are all prefixed with '`sim_`'\n",
    "Within H<sup>2</sup>MM, there are several \"levels\" of data:\n",
    "- data times, treated as fixed points, part of normal data\n",
    "- states of each data point- can be simulated from model and times\n",
    "- data indexes, are the observables of H<sup>2</sup>MM, and can be simulated with times, a model, and potentially states\n",
    "\n",
    "> Note:\n",
    "> These simulations are pure hidden Markov model simulations.\n",
    "> These are NOT molecular, fluorescence or other more complicated simulation.\n",
    "\n",
    "#### Import Modules\n",
    "\n",
    "As before, we start by importing the basic modules\n",
    "- `os`: for basic file I/O\n",
    "- [numpy](https://numpy.org) : the core of nearly all scientific computing in python\n",
    "- [matplotlib](https://matplotlib.org/) : for plotting results, not needed for H<sup>2</sup>MM analysis\n",
    "- `H2MM_C`: module for photon by photon hidden Markov modeling analysis\n"
   ]
  },
  {
   "cell_type": "code",
   "execution_count": 1,
   "id": "c3ac2dc6",
   "metadata": {},
   "outputs": [],
   "source": [
    "import os\n",
    "import numpy as np\n",
    "from matplotlib import pyplot as plt\n",
    "\n",
    "import H2MM_C as hm"
   ]
  },
  {
   "cell_type": "markdown",
   "id": "dff904ad",
   "metadata": {},
   "source": [
    "## Basic simulation\n",
    "\n",
    "The most likely simulation function you will use is the `hm.sim_phtraj_from_times()` function, which takes a `h2mm_model` object and an array of arrival times (equivalent to 1 element of the `times` array given in `hm.EM_H2MM_C()`, and generates a simulated set of states, and the accompanying detector indices (`color`)\n",
    "\n",
    "So let's make a random distribution of times:"
   ]
  },
  {
   "cell_type": "code",
   "execution_count": 2,
   "id": "a0d2b58f",
   "metadata": {},
   "outputs": [],
   "source": [
    "time = np.cumsum(np.random.exponential(100, size=50).astype(int))"
   ]
  },
  {
   "cell_type": "markdown",
   "id": "6573f510",
   "metadata": {},
   "source": [
    "Then a model (we'll make a rough approximation of the model from the 3 detector setup from the Optimization Tutorial)"
   ]
  },
  {
   "cell_type": "code",
   "execution_count": 3,
   "id": "3b6f718c",
   "metadata": {},
   "outputs": [],
   "source": [
    "# define the arrays\n",
    "prior = np.array([0.63, 0.03, 0.19, 0.15])\n",
    "trans = np.array([[0.9997, 0.0001, 0.0001, 0.0001],\n",
    "                  [2e-5, 1-3.2e-5, 1e-5, 2e-6],\n",
    "                  [5e-6, 7e-6, 1-2.2e-5, 1e-5],\n",
    "                  [3e-6, 3e-6, 4e-5, 1-4.6e-5]])\n",
    "obs = np.array([[0.62, 0.37, 0.01],\n",
    "                [0.14, 0.29, 0.57],\n",
    "                [0.44, 0.09, 0.47],\n",
    "                [0.84, 0.08, 0.08]])\n",
    "\n",
    "# make the model\n",
    "sim_model = hm.h2mm_model(prior, trans, obs)"
   ]
  },
  {
   "cell_type": "markdown",
   "id": "234a009a",
   "metadata": {},
   "source": [
    "And finally simulate the data to get a set of arrays that are equivalent to the `color` list of arrays from the same tutorial"
   ]
  },
  {
   "cell_type": "code",
   "execution_count": 4,
   "id": "9c3a98aa",
   "metadata": {},
   "outputs": [
    {
     "data": {
      "text/plain": [
       "(array([3, 3, 3, 3, 3, 3, 3, 3, 3, 3, 3, 3, 3, 3, 3, 3, 3, 3, 3, 3, 3, 3,\n",
       "        3, 3, 3, 3, 3, 3, 3, 3, 3, 3, 3, 3, 3, 3, 3, 3, 3, 3, 3, 3, 3, 3,\n",
       "        3, 3, 3, 3, 3, 3], dtype=uint32),\n",
       " array([0, 0, 1, 1, 2, 0, 0, 1, 2, 0, 0, 0, 0, 0, 0, 0, 0, 0, 0, 0, 0, 2,\n",
       "        0, 0, 0, 1, 0, 0, 1, 0, 0, 0, 0, 0, 0, 0, 0, 0, 0, 0, 0, 2, 0, 0,\n",
       "        0, 0, 0, 2, 0, 2], dtype=uint32))"
      ]
     },
     "execution_count": 4,
     "metadata": {},
     "output_type": "execute_result"
    }
   ],
   "source": [
    "simstate, simcolor = hm.sim_phtraj_from_times(sim_model, time)\n",
    "simstate, simcolor"
   ]
  },
  {
   "cell_type": "markdown",
   "id": "3ae07f67",
   "metadata": {},
   "source": [
    "### Recreating Data: Multiple arrays\n",
    "\n",
    "Now, if we want to simulate a full data set, instead, you will want to do this in a loop, so that many simulated chuncks of data are made, which mimics how data is inputed into `hm.EM_H2MM_C()`"
   ]
  },
  {
   "cell_type": "code",
   "execution_count": 5,
   "id": "1796a631",
   "metadata": {},
   "outputs": [],
   "source": [
    "# initiate arrays\n",
    "simtimes = list()\n",
    "simstates = list()\n",
    "simcolors = list()\n",
    "\n",
    "# loop to create each set\n",
    "for _ in range(1000):\n",
    "    # generate new time array\n",
    "    simtime = np.cumsum(np.random.exponential(100, size=np.random.randint(50,150)).astype(int))\n",
    "    # simulate data\n",
    "    simstate, simcolor = hm.sim_phtraj_from_times(sim_model, simtime)\n",
    "    # append arrays to lists\n",
    "    simtimes.append(simtime)\n",
    "    simstates.append(simstate)\n",
    "    simcolors.append(simcolor)"
   ]
  },
  {
   "cell_type": "markdown",
   "id": "9b1caac6",
   "metadata": {},
   "source": [
    "### Using Existing Times\n",
    "\n",
    "Another strategy, which can be a way to check the reasonableness of a model, is to use the actual times of an experiment, and the resulting ideal model, and check if the results look qualitatively similar based on some metric.\n",
    "> That metric is up to you, and should be based on your knowledge of the best way to characterize your system. This will likely involve some re-creation of ratios of the abudance of different indices\n",
    "\n",
    "So lets load the times from the 3 detector data, and simulate the data from that"
   ]
  },
  {
   "cell_type": "code",
   "execution_count": 6,
   "id": "0d3b2362",
   "metadata": {},
   "outputs": [],
   "source": [
    "##############################################################\n",
    "# The code here is just for loading the data\n",
    "\n",
    "# load the data\n",
    "# color3 = list() # to save memory, we will not load this\n",
    "times3 = list()\n",
    "\n",
    "i = 0\n",
    "with open('sample_data_3det.txt','r') as f:\n",
    "    for line in f:\n",
    "        if i % 2 == 0:\n",
    "            times3.append(np.array([int(x) for x in line.split()],dtype='Q'))\n",
    "        # No need to load the color, so comment it out\n",
    "#         else:\n",
    "#             color3.append(np.array([int(x) for x in line.split()],dtype='L'))\n",
    "        i += 1\n",
    "# End of data loading segment\n",
    "##############################################################\n",
    "\n",
    "# initiate arrays\n",
    "simstates3 = list()\n",
    "simcolors3 = list()\n",
    "\n",
    "# loop over each time array and simulate each set\n",
    "for tm3 in times3:\n",
    "    # conduct the simulation\n",
    "    simstate3, simcolor3 = hm.sim_phtraj_from_times(sim_model, tm3)\n",
    "    # append arrays to lists\n",
    "    simstates3.append(simstate3)\n",
    "    simcolors3.append(simcolor3)"
   ]
  },
  {
   "cell_type": "markdown",
   "id": "b8ffb94b",
   "metadata": {},
   "source": [
    "## Simulating from Components\n",
    "\n",
    "It is also possible to simulate first states, and then with a separate function the times.\n",
    "If you only wan tthe state path, you can just do the first step, and then save the memory, computational time and code complexity.\n",
    "\n",
    "This is done with the `hm.sim_sparsestatepath()` function, and then the `hm.sim_phtraj_from_state()` function.\n",
    "\n",
    "Their signatures are similar: `hm.sim_sparsestatepath(model: h2mm_model, times: numpy.ndarray)` and `hm.sim_sparsestatepath(model: h2mm_model, states: numpy.ndarray)`\n",
    "\n",
    "> Note:\n",
    "> `hm.sim_sparsestatepath()` uses only the initiall probability and transition probability matrix.\n",
    "> The emission probability matrix is ignored.\n",
    ">\n",
    ">Conversely, `hm.sim_ph_traj_from_state()` only uses the emission probability matrix of the `h2mm_model`\n",
    "\n",
    "### Simulating State Path\n",
    "\n"
   ]
  },
  {
   "cell_type": "code",
   "execution_count": 7,
   "id": "f871e628",
   "metadata": {},
   "outputs": [
    {
     "data": {
      "text/plain": [
       "array([1, 1, 1, 1, 1, 1, 1, 1, 1, 1, 1, 1, 1, 1, 1, 1, 1, 1, 1, 1, 1, 1,\n",
       "       1, 1, 1, 1, 1, 1, 1, 1, 1, 1, 1, 1, 1, 1, 1, 1, 1, 1, 1, 1, 1, 1,\n",
       "       1, 1, 1, 1, 1, 1], dtype=uint32)"
      ]
     },
     "execution_count": 7,
     "metadata": {},
     "output_type": "execute_result"
    }
   ],
   "source": [
    "simtime = np.cumsum(np.random.exponential(100, size=50).astype(int))\n",
    "\n",
    "statepath = hm.sim_sparsestatepath(sim_model, simtime)\n",
    "statepath"
   ]
  },
  {
   "cell_type": "markdown",
   "id": "847125f8",
   "metadata": {},
   "source": [
    "### Simulating Data from States"
   ]
  },
  {
   "cell_type": "code",
   "execution_count": 8,
   "id": "a8102a73",
   "metadata": {},
   "outputs": [
    {
     "data": {
      "text/plain": [
       "array([2, 1, 1, 2, 0, 2, 1, 2, 2, 1, 2, 2, 2, 1, 1, 1, 1, 2, 1, 2, 1, 2,\n",
       "       2, 2, 1, 2, 0, 2, 2, 2, 1, 1, 2, 1, 0, 2, 0, 1, 2, 2, 2, 2, 1, 1,\n",
       "       1, 2, 1, 2, 1, 2], dtype=uint32)"
      ]
     },
     "execution_count": 8,
     "metadata": {},
     "output_type": "execute_result"
    }
   ],
   "source": [
    "color = hm.sim_phtraj_from_state(sim_model, statepath)\n",
    "color"
   ]
  },
  {
   "cell_type": "markdown",
   "id": "cf8f69cb",
   "metadata": {},
   "source": [
    "## Setting the Random Seed for Reproducability\n",
    "\n",
    "Since these simulations are based on random number generators, results will be different each time. However, if repeatability is desired, the seed of the random number generator can be set with the keyword argument seed=int. The same syntax is used across all three simulation functions.\n",
    "\n",
    "> Note:\n",
    ">\n",
    "> The random seed is persistent, so there is no need to set it more than once.\n",
    "> In fact setting it multiple times will reset the random number counter, producing the exact same\n",
    "> sequence of random results as when it was first set.\n",
    "\n",
    "Bellow is an example of a use of his keyword argument:"
   ]
  },
  {
   "cell_type": "code",
   "execution_count": 9,
   "id": "3bd9c75c",
   "metadata": {},
   "outputs": [
    {
     "data": {
      "text/plain": [
       "(array([0, 0, 0, 0, 0, 0, 0, 2, 2, 2, 2, 2, 2, 2, 2, 2, 2, 2, 2, 2, 2, 2,\n",
       "        2, 2, 2, 2, 2, 2, 2, 2, 2, 2, 2, 2, 2, 2, 2, 2, 2, 2, 2, 2, 2, 2,\n",
       "        2, 2, 2, 2, 2, 2], dtype=uint32),\n",
       " array([0, 0, 0, 0, 0, 0, 0, 2, 1, 0, 0, 0, 2, 2, 2, 0, 0, 2, 0, 2, 2, 0,\n",
       "        0, 2, 0, 2, 2, 1, 2, 2, 1, 2, 0, 2, 1, 0, 2, 0, 0, 0, 1, 2, 1, 0,\n",
       "        1, 0, 1, 2, 2, 2], dtype=uint32))"
      ]
     },
     "execution_count": 9,
     "metadata": {},
     "output_type": "execute_result"
    }
   ],
   "source": [
    "simpath, simcolor = hm.sim_phtraj_from_times(sim_model, time, seed=100)\n",
    "simpath, simcolor"
   ]
  }
 ],
 "metadata": {
  "kernelspec": {
   "display_name": "Python 3 (ipykernel)",
   "language": "python",
   "name": "python3"
  },
  "language_info": {
   "codemirror_mode": {
    "name": "ipython",
    "version": 3
   },
   "file_extension": ".py",
   "mimetype": "text/x-python",
   "name": "python",
   "nbconvert_exporter": "python",
   "pygments_lexer": "ipython3",
   "version": "3.9.12"
  }
 },
 "nbformat": 4,
 "nbformat_minor": 5
}
