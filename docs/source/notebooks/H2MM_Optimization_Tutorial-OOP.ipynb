{
 "cells": [
  {
   "cell_type": "markdown",
   "id": "06d441ca",
   "metadata": {},
   "source": [
    "# `H2MM_C` tutorial Object Oriented approach\n",
    "\n",
    "## Import Modules\n",
    "\n",
    "As with most python projects, we start by importing the packages that we will use:\n",
    "- `os`: for basic file I/O\n",
    "- [numpy](https://numpy.org) : the core of nearly all scientific computing in python\n",
    "- [matplotlib](https://matplotlib.org/) : for plotting results, not needed for H<sup>2</sup>MM analysis\n",
    "- `H2MM_C`: module for photon by photon hidden Markov modeling analysis\n"
   ]
  },
  {
   "cell_type": "code",
   "execution_count": 1,
   "id": "94c2e718",
   "metadata": {},
   "outputs": [],
   "source": [
    "import os\n",
    "import numpy as np\n",
    "from matplotlib import pyplot as plt\n",
    "\n",
    "import H2MM_C as hm"
   ]
  },
  {
   "cell_type": "markdown",
   "id": "bcccdc06",
   "metadata": {},
   "source": [
    "## Basic Analysis\n",
    "\n",
    "The basic steps of analysis are:\n",
    "\n",
    "1. Load data\n",
    "2. Make initial model\n",
    "3. Optimize Model\n",
    "4. *Viterbi* analysis to clasify photons and assess quality\n",
    "\n",
    "> Note: steps 2-4 are usually repeated multiple times with different numbers of states, and results compared to select the ideal model.\n",
    "\n",
    "### Step 1: Load data\n",
    "\n",
    "Now that the data is imported, we can start to perform the basic analysis of H<sup>2</sup>MM, for which we will need some data to anlayze.\n",
    "So we'll load some with the following lines of code:"
   ]
  },
  {
   "cell_type": "code",
   "execution_count": 2,
   "id": "838d7286",
   "metadata": {},
   "outputs": [
    {
     "name": "stdout",
     "output_type": "stream",
     "text": [
      "Done loading data\n"
     ]
    }
   ],
   "source": [
    "# This cell will only be used if you export your data to an ascii file, \n",
    "# if you are using a software package such as FRETBursts, a different\n",
    "# function (for FRETBursts, look at our other Jupyter Notebooks, it is\n",
    "# the data_sort function)\n",
    "color2 = list()\n",
    "times2 = list()\n",
    "\n",
    "i = 0\n",
    "# load the data\n",
    "with open('sample_data_2det.txt', 'r') as f:\n",
    "    for line in f: # this reads each line one at a time\n",
    "        if i % 2 == 0: # even lines are times\n",
    "            times2.append(np.array([int(x) for x in line.split()],dtype='Q'))\n",
    "        else: # odd lines are color\n",
    "            color2.append(np.array([int(x) for x in line.split()],dtype='L'))\n",
    "        i += 1\n",
    "print(\"Done loading data\")"
   ]
  },
  {
   "cell_type": "markdown",
   "id": "39285b64",
   "metadata": {},
   "source": [
    "> #### Data Organization\n",
    "> So what does this data look like?\n",
    "> It comes 2 lists of arrays, one list contains the detectors of the data, the second the detectors of the times.\n",
    "> \n",
    "> - `color2` contains the detectors (indices starting from 0)\n",
    "> - `times2` contains the **absolute** times of the data\n",
    "> \n",
    "> Both of these are **lists** of **numpy arrays**.\n",
    ">\n",
    ">> The length of both lists must be the same, because the arrays within form pairs.\n",
    ">> The elements of each array also form pairs, together representing individual data points\n",
    ">> Therefore the size of each pair of arrays must also be the same.\n",
    ">> But the size of one pair is independent of another pair.\n",
    ">\n",
    "> For the next step, it is important that the number of detectors is known, as this affects the initial model to be used.\n",
    "> In the example loaded above, there are 2 detectors- 0 and 1 (note indices should start from 0 and proceed in ascending order, 3 detectors must be indices 0, 1, and 2, 4 detectors 0, 1, 2, 3, and so on)."
   ]
  },
  {
   "cell_type": "code",
   "execution_count": 3,
   "id": "71ed963e",
   "metadata": {},
   "outputs": [
    {
     "data": {
      "text/plain": [
       "(array([1, 0, 1, 1, 0, 0, 0, 0, 1, 0, 0, 1, 1, 0, 0, 0, 0, 0, 0, 1, 1, 1,\n",
       "        1, 1, 1, 1, 0, 1, 1, 0, 0, 1, 0, 0, 1, 1, 1, 1, 1, 0, 0],\n",
       "       dtype=uint64),\n",
       " array([12763662, 12766593, 12769260, 12769677, 12775221, 12781399,\n",
       "        12783890, 12795124, 12795391, 12796727, 12797800, 12798471,\n",
       "        12798527, 12799163, 12799626, 12802748, 12808470, 12811473,\n",
       "        12826887, 12841103, 12842716, 12842791, 12844203, 12844446,\n",
       "        12845687, 12846645, 12847506, 12848115, 12850099, 12853216,\n",
       "        12853259, 12853526, 12853632, 12853845, 12855027, 12858436,\n",
       "        12858750, 12860935, 12861560, 12861894, 12869843], dtype=uint64))"
      ]
     },
     "execution_count": 3,
     "metadata": {},
     "output_type": "execute_result"
    }
   ],
   "source": [
    "color2[0], times2[0]"
   ]
  },
  {
   "cell_type": "markdown",
   "id": "f834fcab",
   "metadata": {},
   "source": [
    "### Step 2: Create Initial Model\n",
    "\n",
    "H<sup>2</sup>MM is fundamentally an optimization, which means that an initial, unoptimized model must be used to initiate the optimization so that the algorithm has a starting point.\n",
    "\n",
    "`H2MM_C` provides a simple function for creating initial models. All you need to do is specify the number of states, and number of detectors.\n",
    "\n",
    "> The number of states is arbitrary, as we will show later, you should compare several differnt numbers of states.>\n",
    "> The number of detectors however, is determined by your data, for th file `sample_data_2det.txt`, there are 2 detectors.\n",
    "\n",
    "So let's make the initial model syntax `hm.facotry_h2mm_model(nstate: int, ndet: int)`:"
   ]
  },
  {
   "cell_type": "code",
   "execution_count": 4,
   "id": "cb05f4ca",
   "metadata": {},
   "outputs": [],
   "source": [
    "model_3s2d = hm.factory_h2mm_model(3,2) # 3 states, 2 detectors"
   ]
  },
  {
   "cell_type": "markdown",
   "id": "9cd1ab55",
   "metadata": {},
   "source": [
    "### Step 3: Optimize model\n",
    "\n",
    "Now that we have an initial model, we can optimize it against the data, for this use the `.optimize()` method.\n",
    "\n",
    "The syntax is `model.optimize(detectors: list[numpy.ndarray], times: list[numpy.ndarray])`"
   ]
  },
  {
   "cell_type": "code",
   "execution_count": 5,
   "id": "2a93d877",
   "metadata": {},
   "outputs": [
    {
     "data": {
      "text/plain": [
       "The model converged after 2789 iterations"
      ]
     },
     "metadata": {},
     "output_type": "display_data"
    },
    {
     "data": {
      "text/plain": [
       "nstate: 3, ndet: 2, nphot: 239701, niter: 2789, loglik: -120029.31040616546 converged state: 3\n",
       "prior:\n",
       "0.22722681741002712, 0.33564579836051117, 0.4371273842294617\n",
       "trans:\n",
       "0.9999737418742424, 2.625812411138797e-05, 1.6462613777938785e-12\n",
       "1.4552276358418814e-05, 0.9999710725957118, 1.4375127929780719e-05\n",
       "1.1159736236375195e-06, 1.0270623528838894e-05, 0.9999886134028476\n",
       "obs:\n",
       "0.3071558789099935, 0.6928441210900065\n",
       "0.7830415389514909, 0.21695846104850924\n",
       "0.890566196913597, 0.10943380308640302"
      ]
     },
     "execution_count": 5,
     "metadata": {},
     "output_type": "execute_result"
    }
   ],
   "source": [
    "model_3s2d = model_3s2d.optimize(color2, times2)\n",
    "model_3s2d"
   ]
  },
  {
   "cell_type": "markdown",
   "id": "c673bcc0",
   "metadata": {},
   "source": [
    "#### Examining the optimized model\n",
    "\n",
    "The core of a `h2mm_model` is composed of 3 arrays:\n",
    "\n",
    "- `prior` : the prior probability vector, shape: N, the probability of a system starting in a given state\n",
    "- `trans` : the transition probability matrix, shape N x N, the probability of a transition happening from state i to state j.\n",
    "    > Note: the units of this matrix are in the clock-rate of the data\n",
    "- `obs` : the emission probability matrix: shape N x M, the probability of state i producing a photon with index j.\n",
    "\n",
    "These are all printed as part of the repr for an `h2mm_model`"
   ]
  },
  {
   "cell_type": "markdown",
   "id": "38cf8330",
   "metadata": {},
   "source": [
    "But you can also access them as numpy arrays using attributes.\n",
    "\n",
    "This allows further calculations to be performed"
   ]
  },
  {
   "cell_type": "code",
   "execution_count": 6,
   "id": "3edb7ab2",
   "metadata": {
    "scrolled": true
   },
   "outputs": [
    {
     "data": {
      "text/plain": [
       "(array([0.22722682, 0.3356458 , 0.43712738]),\n",
       " array([[9.99973742e-01, 2.62581241e-05, 1.64626138e-12],\n",
       "        [1.45522764e-05, 9.99971073e-01, 1.43751279e-05],\n",
       "        [1.11597362e-06, 1.02706235e-05, 9.99988613e-01]]),\n",
       " nstate: 3, ndet: 2, nphot: 239701, niter: 2789, loglik: -120029.31040616546 converged state: 3\n",
       " prior:\n",
       " 0.22722681741002712, 0.33564579836051117, 0.4371273842294617\n",
       " trans:\n",
       " 0.9999737418742424, 2.625812411138797e-05, 1.6462613777938785e-12\n",
       " 1.4552276358418814e-05, 0.9999710725957118, 1.4375127929780719e-05\n",
       " 1.1159736236375195e-06, 1.0270623528838894e-05, 0.9999886134028476\n",
       " obs:\n",
       " 0.3071558789099935, 0.6928441210900065\n",
       " 0.7830415389514909, 0.21695846104850924\n",
       " 0.890566196913597, 0.10943380308640302)"
      ]
     },
     "execution_count": 6,
     "metadata": {},
     "output_type": "execute_result"
    }
   ],
   "source": [
    "prior_3s2d, trans_3s2d, obs_3s2d = model_3s2d.prior, model_3s2d.trans, model_3s2d\n",
    "prior_3s2d, trans_3s2d, obs_3s2d"
   ]
  },
  {
   "cell_type": "markdown",
   "id": "5cbfdfd7",
   "metadata": {},
   "source": [
    "Note that all the above matrices are **row stochastic**, i.e. the sum of the elements in a row is always 1.\n",
    "This is because these are all probabilities, and by definition must sum to 1.\n",
    "Calculate relevant parameters accordingly.\n",
    "\n",
    "-------------------------------------------------------------\n",
    "\n",
    "There are a number of other secondary parameter stored in `h2mm_model` objects.\n",
    "Some describe the size of the matrices:\n",
    "\n",
    "- `nstate`\n",
    "- `ndet`"
   ]
  },
  {
   "cell_type": "code",
   "execution_count": 7,
   "id": "b7e5a0c9",
   "metadata": {},
   "outputs": [
    {
     "data": {
      "text/plain": [
       "(3, 2)"
      ]
     },
     "execution_count": 7,
     "metadata": {},
     "output_type": "execute_result"
    }
   ],
   "source": [
    "model_3s2d.nstate, model_3s2d.ndet"
   ]
  },
  {
   "cell_type": "markdown",
   "id": "9eedca39",
   "metadata": {},
   "source": [
    "Others are specific to the course of the optimization:\n",
    "\n",
    "- `niter` The number of iterations during the optimization\n",
    "- `nphot` The number of data points in the input data"
   ]
  },
  {
   "cell_type": "code",
   "execution_count": 8,
   "id": "b32e2b65",
   "metadata": {},
   "outputs": [
    {
     "data": {
      "text/plain": [
       "(2789, 239701)"
      ]
     },
     "execution_count": 8,
     "metadata": {},
     "output_type": "execute_result"
    }
   ],
   "source": [
    "model_3s2d.niter, model_3s2d.nphot"
   ]
  },
  {
   "cell_type": "markdown",
   "id": "21ee2286",
   "metadata": {},
   "source": [
    "And  finally there are the statistical parameters that reflect the likelilihood of th model:\n",
    "\n",
    "- `loglik`: the loglikelihood of the model, this represents the value which is optimized during optimization.\n",
    "- `bic`The Bayes Information Criterion, a statistical discriminator $BIC = k\\ln(n) - 2\\ln(LL)$ where $k = nstate^2 + (ndet-1) nstate -1$, this is used for comparing likelihoods of different models with different numbers of states. Essentially the loglikelihood always improves when more states are added, so the $BIC$ adds a penalty for the number of states, and scalles for the number of data points in the input data."
   ]
  },
  {
   "cell_type": "code",
   "execution_count": 9,
   "id": "ce7ec5cd",
   "metadata": {},
   "outputs": [
    {
     "data": {
      "text/plain": [
       "(-120029.31040616546, 240194.87943584617)"
      ]
     },
     "execution_count": 9,
     "metadata": {},
     "output_type": "execute_result"
    }
   ],
   "source": [
    "model_3s2d.loglik, model_3s2d.bic"
   ]
  },
  {
   "cell_type": "markdown",
   "id": "47e3b73a",
   "metadata": {},
   "source": [
    "### Step 4: *Viterbi* analysis\n",
    "\n",
    "The final stage of standard H<sup>2</sup>MM analysis is analysis with the *Viterbi* algorithm.\n",
    "This goes back over the data, with the optimized model, and identifies the most likely state of each data-point.\n",
    "\n",
    "For this, we use the `hm.viterbi_path` function.\n",
    "This function also returns some additional values that also come out of the *Viterbi* analysis.\n",
    "The return values of `hm.viterbi_path` are:\n",
    "- `path`: the most likely state of each data-point\n",
    "- `scale`: the likelihood of the state assignment, i.e. the posterior probability\n",
    "- `loglik`: the log likelihood of the state path per array\n",
    "- `icl`: The Integrated Complete Likelihood, a statistical discriminator of models, which adds penalties for more states.\n",
    "\n",
    "The syntax is `hm.viterbi_path(model: hm.h2mm_model, detectors: list[numpy.ndarray], times: list[numpy.ndarray])`"
   ]
  },
  {
   "cell_type": "code",
   "execution_count": 10,
   "id": "ee8cac2e",
   "metadata": {},
   "outputs": [
    {
     "data": {
      "text/plain": [
       "array([0, 0, 0, 0, 1, 1, 1, 1, 1, 1, 1, 1, 1, 1, 1, 1, 1, 1, 1, 0, 0, 0,\n",
       "       0, 0, 0, 0, 0, 0, 0, 0, 0, 0, 0, 0, 0, 0, 0, 0, 0, 0, 0],\n",
       "      dtype=uint64)"
      ]
     },
     "execution_count": 10,
     "metadata": {},
     "output_type": "execute_result"
    }
   ],
   "source": [
    "path_3s2d, scale_3s2d, ll_3s2d, icl_3s2d = hm.viterbi_path(model_3s2d, color2, times2)\n",
    "path_3s2d[0]"
   ]
  },
  {
   "cell_type": "markdown",
   "id": "17337789",
   "metadata": {},
   "source": [
    "## Loop based analysis\n",
    "\n",
    "Since we need to compare different models, it is generally more usefull to run the analysis in a loop, and then compare the different optimizations.\n",
    "\n",
    "In particular, the *ICL*  is very useful to identify the best model.\n",
    "\n",
    "We will also now use a data set with 3 detectors, so we can see how different detector number affects the analysis.\n",
    "\n",
    "#### Load 3 detector data"
   ]
  },
  {
   "cell_type": "code",
   "execution_count": 11,
   "id": "d6460513",
   "metadata": {},
   "outputs": [],
   "source": [
    "# load the data\n",
    "color3 = list()\n",
    "times3 = list()\n",
    "\n",
    "i = 0\n",
    "with open('sample_data_3det.txt','r') as f:\n",
    "    for line in f:\n",
    "        if i % 2 == 0:\n",
    "            times3.append(np.array([int(x) for x in line.split()],dtype='Q'))\n",
    "        else:\n",
    "            color3.append(np.array([int(x) for x in line.split()],dtype='L'))\n",
    "        i += 1"
   ]
  },
  {
   "cell_type": "markdown",
   "id": "6dc2e684",
   "metadata": {},
   "source": [
    "#### Loop analysis\n",
    "\n",
    "For this we will start with a simple loop, optimizing for 1 to 4 states (no such thing as a 0 state model)"
   ]
  },
  {
   "cell_type": "code",
   "execution_count": 12,
   "id": "9266aa45",
   "metadata": {},
   "outputs": [
    {
     "data": {
      "text/plain": [
       "The model converged after 2 iterations"
      ]
     },
     "metadata": {},
     "output_type": "display_data"
    },
    {
     "data": {
      "text/plain": [
       "The model converged after 83 iterations"
      ]
     },
     "metadata": {},
     "output_type": "display_data"
    },
    {
     "data": {
      "text/plain": [
       "The model converged after 191 iterations"
      ]
     },
     "metadata": {},
     "output_type": "display_data"
    },
    {
     "data": {
      "text/plain": [
       "Optimization reached maximum number of iterations"
      ]
     },
     "metadata": {},
     "output_type": "display_data"
    },
    {
     "data": {
      "text/plain": [
       "[nstate: 1, ndet: 3, nphot: 436084, niter: 2, loglik: -436870.26641812804 converged state: 3\n",
       " prior:\n",
       " 1.0\n",
       " trans:\n",
       " 1.0\n",
       " obs:\n",
       " 0.40807734289723996, 0.14158969372873118, 0.45033296337402884,\n",
       " nstate: 2, ndet: 3, nphot: 436084, niter: 83, loglik: -416808.4605440036 converged state: 3\n",
       " prior:\n",
       " 0.28420054140898177, 0.7157994585910181\n",
       " trans:\n",
       " 0.9999702727327167, 2.97272672832727e-05\n",
       " 1.3614941424220847e-05, 0.9999863850585758\n",
       " obs:\n",
       " 0.15584402506221612, 0.26498199494253655, 0.5791739799952473\n",
       " 0.5300103898756776, 0.08194016213702757, 0.3880494479872949,\n",
       " nstate: 3, ndet: 3, nphot: 436084, niter: 191, loglik: -409379.1470199639 converged state: 3\n",
       " prior:\n",
       " 0.25991614498503424, 0.4943766688551141, 0.24570718615985165\n",
       " trans:\n",
       " 0.99997620100061, 2.109153064735772e-05, 2.707468742601254e-06\n",
       " 8.39283115640174e-06, 0.9999812080804615, 1.0399088382200984e-05\n",
       " 6.290351439278591e-06, 4.466205603341896e-05, 0.9999490475925273\n",
       " obs:\n",
       " 0.14570425274135504, 0.29344315989196346, 0.5608525873666814\n",
       " 0.4417395221507047, 0.08763105601610259, 0.47062942183319273\n",
       " 0.8414287299383633, 0.0785286841407482, 0.0800425859208886,\n",
       " nstate: 4, ndet: 3, nphot: 436084, niter: 3600, loglik: -408229.88708305696 converged state: 4\n",
       " prior:\n",
       " 0.6260350194522541, 0.030652080944894224, 0.19098128141080958, 0.15233161819204202\n",
       " trans:\n",
       " 0.7553565229506587, 0.10496527792314289, 0.13967819912619842, 2.547336003534118e-93\n",
       " 1.9483774568906725e-05, 0.9999676455004775, 1.0873612638554591e-05, 1.9971123150751867e-06\n",
       " 4.5572958022660685e-06, 6.53315197049733e-06, 0.9999789904946441, 9.919057583121102e-06\n",
       " 2.8922172351091084e-06, 2.6479397449630166e-06, 3.7989974430694654e-05, 0.9999564698685893\n",
       " obs:\n",
       " 0.6182798684674428, 0.38172013153255724, 2.4250145435053152e-68\n",
       " 0.1442614560651574, 0.2895270449307162, 0.5662114990041265\n",
       " 0.44163860604389377, 0.08700819494930961, 0.4713531990067966\n",
       " 0.8409805356960819, 0.07645731068492281, 0.08256215361899531]"
      ]
     },
     "execution_count": 12,
     "metadata": {},
     "output_type": "execute_result"
    }
   ],
   "source": [
    "# initiate lists\n",
    "models = list()\n",
    "paths = list()\n",
    "scales = list()\n",
    "logliks = list()\n",
    "ICL = list()\n",
    "\n",
    "# loop from 1 to 4 states\n",
    "for i in range(1,5):\n",
    "    # make initial model with i states\n",
    "    model_temp = hm.factory_h2mm_model(i, 3) # i states, 3 detectors\n",
    "    # optimize model\n",
    "    model_temp = model_temp.optimize(color3, times3)\n",
    "    # calculate ideal state path\n",
    "    path_temp, scale_temp, ll_temp, icl = hm.viterbi_path(model_temp, color3, times3)\n",
    "    # append results to lists\n",
    "    models.append(model_temp)\n",
    "    paths.append(path_temp)\n",
    "    scales.append(scale_temp)\n",
    "    logliks.append(ll_temp)\n",
    "    ICL.append(icl)\n",
    "models"
   ]
  },
  {
   "cell_type": "markdown",
   "id": "97c9cd1d",
   "metadata": {},
   "source": [
    "#### Ideal model selection\n",
    "\n",
    "Now that several models have been calculated, it is important to select the ideal model, so you do not use over-or under-fit models that do not propery represent the data.\n",
    "\n",
    "There are two primary criterion for this:\n",
    "1. A statistical discriminator\n",
    "2. Reasonableness of model and results based on prior knowledge of the system.\n",
    "\n"
   ]
  },
  {
   "cell_type": "code",
   "execution_count": 13,
   "id": "7ee9930b",
   "metadata": {},
   "outputs": [
    {
     "data": {
      "text/plain": [
       "Text(0.5, 1.0, 'ICL')"
      ]
     },
     "execution_count": 13,
     "metadata": {},
     "output_type": "execute_result"
    },
    {
     "data": {
      "image/png": "[encoded data removed]",
      "text/plain": [
       "<Figure size 432x288 with 1 Axes>"
      ]
     },
     "metadata": {
      "needs_background": "light"
     },
     "output_type": "display_data"
    }
   ],
   "source": [
    "states = np.arange(1,5)\n",
    "plt.scatter(states, ICL)\n",
    "plt.xlabel(\"States\")\n",
    "plt.ylabel(\"ICL\")\n",
    "plt.title(\"ICL\")"
   ]
  },
  {
   "cell_type": "code",
   "execution_count": 14,
   "id": "10f1a4c1",
   "metadata": {},
   "outputs": [
    {
     "data": {
      "text/plain": [
       "Text(0.5, 1.0, 'BIC')"
      ]
     },
     "execution_count": 14,
     "metadata": {},
     "output_type": "execute_result"
    },
    {
     "data": {
      "image/png": "[encoded data removed]",
      "text/plain": [
       "<Figure size 432x288 with 1 Axes>"
      ]
     },
     "metadata": {
      "needs_background": "light"
     },
     "output_type": "display_data"
    }
   ],
   "source": [
    "states = np.arange(1,5)\n",
    "plt.scatter(states, [model.bic for model in models])\n",
    "plt.xlabel(\"States\")\n",
    "plt.ylabel(\"BIC\")\n",
    "plt.title(\"BIC\")"
   ]
  },
  {
   "cell_type": "markdown",
   "id": "bb879886",
   "metadata": {},
   "source": [
    "So it looks like the ideal model is the 4 state model (if you are using our sample data), as it minimizes the ICL.\n",
    "\n",
    "But since this is the model with the most states that we have optimized, it would be best to optimize a 5 state model to make sure that we have found the optimal model:"
   ]
  },
  {
   "cell_type": "code",
   "execution_count": 15,
   "id": "9bd828e3",
   "metadata": {},
   "outputs": [
    {
     "data": {
      "text/plain": [
       "Optimization reached maximum number of iterations"
      ]
     },
     "metadata": {},
     "output_type": "display_data"
    }
   ],
   "source": [
    "model_temp = hm.factory_h2mm_model(5,3)\n",
    "model_temp = model_temp.optimize(color3, times3)\n",
    "path_temp, scale_temp, ll_temp, icl = hm.viterbi_path(model_temp, color3, times3)\n",
    "models.append(model_temp)\n",
    "paths.append(path_temp)\n",
    "scales.append(scale_temp)\n",
    "logliks.append(ll_temp)\n",
    "ICL.append(icl)"
   ]
  },
  {
   "cell_type": "code",
   "execution_count": 16,
   "id": "59664fed",
   "metadata": {},
   "outputs": [
    {
     "data": {
      "text/plain": [
       "Text(0.5, 1.0, 'BIC')"
      ]
     },
     "execution_count": 16,
     "metadata": {},
     "output_type": "execute_result"
    },
    {
     "data": {
      "image/png": "[encoded data removed]",
      "text/plain": [
       "<Figure size 864x360 with 2 Axes>"
      ]
     },
     "metadata": {
      "needs_background": "light"
     },
     "output_type": "display_data"
    }
   ],
   "source": [
    "states = [model.nstate for model in models]\n",
    "bic = [model.bic for model in models]\n",
    "\n",
    "fig, ax = plt.subplots(1,2, figsize=(12,5))\n",
    "\n",
    "ax[0].scatter(states, ICL)\n",
    "ax[0].set_xlabel(\"States\")\n",
    "ax[0].set_ylabel(\"ICL\")\n",
    "ax[0].set_title(\"ICL\")\n",
    "\n",
    "ax[1].scatter(states, bic)\n",
    "ax[1].set_xlabel(\"States\")\n",
    "ax[1].set_ylabel(\"BIC\")\n",
    "ax[1].set_title(\"BIC\")"
   ]
  },
  {
   "cell_type": "markdown",
   "id": "5902959c",
   "metadata": {},
   "source": [
    "Indeed, it looks like the 4 state model is the ideal model, so let's examine it:"
   ]
  },
  {
   "cell_type": "code",
   "execution_count": 17,
   "id": "c44404b8",
   "metadata": {},
   "outputs": [
    {
     "data": {
      "text/plain": [
       "nstate: 4, ndet: 3, nphot: 436084, niter: 3600, loglik: -408229.88708305696 converged state: 4\n",
       "prior:\n",
       "0.6260350194522541, 0.030652080944894224, 0.19098128141080958, 0.15233161819204202\n",
       "trans:\n",
       "0.7553565229506587, 0.10496527792314289, 0.13967819912619842, 2.547336003534118e-93\n",
       "1.9483774568906725e-05, 0.9999676455004775, 1.0873612638554591e-05, 1.9971123150751867e-06\n",
       "4.5572958022660685e-06, 6.53315197049733e-06, 0.9999789904946441, 9.919057583121102e-06\n",
       "2.8922172351091084e-06, 2.6479397449630166e-06, 3.7989974430694654e-05, 0.9999564698685893\n",
       "obs:\n",
       "0.6182798684674428, 0.38172013153255724, 2.4250145435053152e-68\n",
       "0.1442614560651574, 0.2895270449307162, 0.5662114990041265\n",
       "0.44163860604389377, 0.08700819494930961, 0.4713531990067966\n",
       "0.8409805356960819, 0.07645731068492281, 0.08256215361899531"
      ]
     },
     "execution_count": 17,
     "metadata": {},
     "output_type": "execute_result"
    }
   ],
   "source": [
    "models[3]"
   ]
  },
  {
   "cell_type": "markdown",
   "id": "ce107d92",
   "metadata": {},
   "source": [
    "## User Defined Initial Models\n",
    "\n",
    "Usually the `hm.factory_h2mm_model` function is sufficient for making initial models, but it is also possible to define your own initial models with more precise initial values."
   ]
  },
  {
   "cell_type": "code",
   "execution_count": 18,
   "id": "8b215538",
   "metadata": {},
   "outputs": [
    {
     "data": {
      "text/plain": [
       "The model converged after 83 iterations"
      ]
     },
     "metadata": {},
     "output_type": "display_data"
    }
   ],
   "source": [
    "# define input prior, trans and obs matricies\n",
    "prior = np.array([0.5,0.5])\n",
    "trans = np.array([[0.99999, 0.00001], [0.00001, 0.99999]])\n",
    "obs = np.array([[0.2, 0.3, 0.5], [0.4, 0.2, 0.4]])\n",
    "\n",
    "# make the initial model\n",
    "model_user = hm.h2mm_model(prior, trans, obs)\n",
    "\n",
    "# optimize model\n",
    "model_user = model_user.optimize(color3, times3)"
   ]
  },
  {
   "cell_type": "markdown",
   "id": "bf45cbf1",
   "metadata": {},
   "source": [
    "We can now look at the resultant model:"
   ]
  },
  {
   "cell_type": "code",
   "execution_count": 19,
   "id": "53eb410d",
   "metadata": {},
   "outputs": [
    {
     "data": {
      "text/plain": [
       "nstate: 2, ndet: 3, nphot: 436084, niter: 83, loglik: -416808.460544002 converged state: 3\n",
       "prior:\n",
       "0.28420055845201697, 0.715799441547983\n",
       "trans:\n",
       "0.9999702727091151, 2.9727290884946713e-05\n",
       "1.3614955421971517e-05, 0.9999863850445782\n",
       "obs:\n",
       "0.1558440233510743, 0.2649819841918534, 0.5791739924570724\n",
       "0.5300104139081373, 0.08194015598206059, 0.388049430109802"
      ]
     },
     "execution_count": 19,
     "metadata": {},
     "output_type": "execute_result"
    }
   ],
   "source": [
    "model_user"
   ]
  },
  {
   "cell_type": "markdown",
   "id": "cc3a72e7",
   "metadata": {},
   "source": [
    "## `.evaluate()` method\n",
    "\n",
    "You will notice that so far the H<sup>2</sup>MM analysis does not give an estimation of the error of the parameter values.\n",
    "\n",
    "One way to estimate the error is to compare how quickly the loglikelihood falls off as the given parameter is varied around the optimized value.\n",
    "\n",
    "For this, we need to not optimize, but just calculate the loglikelihood of a set of models. \n",
    "To calcualte the loglikelihood of a specific model, there is the `.evaluate()` method.\n",
    "\n",
    "> See also\n",
    ">\n",
    "> `H2MM_C` also offers the `hm.H2MM_arr()` function.\n",
    "> This provides the same basic service as `.evaluate()` however, when analyzing the loglikelihood of many models against the same set of data, using `hm.H2MM_arr()` will be faster because it can execute everything at the C level and skip re-converting the data each time.\n",
    "\n",
    "The method is called as so:\n",
    "\n",
    "`model.evalutate(indexes: list[numpy.ndarray], times: list[numpy.ndarray])`\n",
    "\n",
    "The call is essentially identical to that of `.optimize()`\n",
    "\n",
    "### Make list of models with one parameter varied\n",
    "\n",
    "Since the 4 state model looks like the best model, let's pull that model and tweek the transition rate from state 1 to state 2, and the `.evaluate()` the loglikelihood:"
   ]
  },
  {
   "cell_type": "code",
   "execution_count": 20,
   "id": "56f9c26f",
   "metadata": {},
   "outputs": [],
   "source": [
    "# pull out the parameters of the model\n",
    "prior_4s3d = models[3].prior\n",
    "trans_4s3d = models[3].trans\n",
    "obs_4s3d = models[3].obs\n",
    "\n",
    "error_models = list()\n",
    "for tk in np.linspace(-2e-6, 2e-6, 41):\n",
    "    new_trans = trans_4s3d.copy() # copy so that tweeks can be make without changing the original array\n",
    "    new_trans[1,2] += tk\n",
    "    new_trans[1,1] -= tk # adjust the diagonal so that matrix remains row stochastic\n",
    "    tk_model = hm.h2mm_model(prior_4s3d, new_trans, obs_4s3d)\n",
    "    tk_model.evaluate(color3, times3)\n",
    "    error_models.append(tk_model)"
   ]
  },
  {
   "cell_type": "markdown",
   "id": "8662c2fd",
   "metadata": {},
   "source": [
    "Now we can plot the loglik to see how sharply the loglikelihood is centered on the optimal model"
   ]
  },
  {
   "cell_type": "code",
   "execution_count": 21,
   "id": "e74710b0",
   "metadata": {},
   "outputs": [
    {
     "data": {
      "text/plain": [
       "(8.823612638554592e-06, 1.292361263855459e-05)"
      ]
     },
     "execution_count": 21,
     "metadata": {},
     "output_type": "execute_result"
    },
    {
     "data": {
      "image/png": "[encoded data removed]",
      "text/plain": [
       "<Figure size 432x288 with 1 Axes>"
      ]
     },
     "metadata": {
      "needs_background": "light"
     },
     "output_type": "display_data"
    }
   ],
   "source": [
    "trs  = [model.trans[1,2] for model in error_models]\n",
    "ll = [model.loglik for model in error_models]\n",
    "\n",
    "plt.scatter(trs, ll)\n",
    "plt.xlim([min(trs)-5e-8, max(trs)+5e-8])"
   ]
  }
 ],
 "metadata": {
  "kernelspec": {
   "display_name": "Python 3 (ipykernel)",
   "language": "python",
   "name": "python3"
  },
  "language_info": {
   "codemirror_mode": {
    "name": "ipython",
    "version": 3
   },
   "file_extension": ".py",
   "mimetype": "text/x-python",
   "name": "python",
   "nbconvert_exporter": "python",
   "pygments_lexer": "ipython3",
   "version": "3.9.12"
  }
 },
 "nbformat": 4,
 "nbformat_minor": 5
}
