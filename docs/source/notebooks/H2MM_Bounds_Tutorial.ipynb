{
 "cells": [
  {
   "cell_type": "markdown",
   "id": "e32a35b5",
   "metadata": {},
   "source": [
    "# Bounding H<sup>2</sup>MM\n",
    "\n",
    "Let's get our obligitory imports in order, and we'll load the 3 detector data as well."
   ]
  },
  {
   "cell_type": "code",
   "execution_count": 1,
   "id": "ca9b4442",
   "metadata": {},
   "outputs": [],
   "source": [
    "import os\n",
    "import numpy as np\n",
    "from matplotlib import pyplot as plt\n",
    "\n",
    "import H2MM_C as hm\n",
    "\n",
    "# load the data\n",
    "color3 = list()\n",
    "times3 = list()\n",
    "\n",
    "i = 0\n",
    "with open('sample_data_3det.txt','r') as f:\n",
    "    for line in f:\n",
    "        if i % 2 == 0:\n",
    "            times3.append(np.array([int(x) for x in line.split()],dtype='Q'))\n",
    "        else:\n",
    "            color3.append(np.array([int(x) for x in line.split()],dtype='L'))\n",
    "        i += 1"
   ]
  },
  {
   "cell_type": "markdown",
   "id": "1ce3255d",
   "metadata": {},
   "source": [
    "## Built in Limits\n",
    "\n",
    "Sometimes we may want to restrain what values are possible in the H<sup>2</sup>MM model, for instance to keep transition rates within reasonable values, or because you know something about how the emmission probability matrix (`obs`) should behave.\n",
    "\n",
    "This is expected to happen most often (but not exclusively) when some experimental parameter is periodic, but not important to the data. For instance in $\\mu$sALEX experiments, the laser alternation period causes donor and acceptor excitation photons, which arrive in separate streams to alternate (and thus transition) perfectly periodically, yet that has no bearing on transitions between our system. Thus transition rates close to the rate of laser alternation are likely to be artifacts, and thus we want to exclude them. For $\\mu sALEX$ experiments, we find this still is not enough.\n",
    "\n",
    "To define some bounds, we need to define the bounds, this is done using the `hm.h2mm_limits` object, which we pass into the `hm.EM_H2MM_C()` function through the keyword argument `bounds`, and we also need to supply a method string to another keyword argument, `bounds_func`.\n",
    "\n",
    "#### Let's see an example"
   ]
  },
  {
   "cell_type": "code",
   "execution_count": 2,
   "id": "d88a0a00",
   "metadata": {},
   "outputs": [
    {
     "data": {
      "text/plain": [
       "The model converged after 631 iterations"
      ]
     },
     "metadata": {},
     "output_type": "display_data"
    },
    {
     "data": {
      "text/plain": [
       "nstate: 4, ndet: 3, nphot: 436084, niter: 631, loglik: -408203.017808074 converged state: 3\n",
       "prior:\n",
       "0.19742522045704178, 0.5611254558625479, 0.24144932368041036, 7.251074733803034e-42\n",
       "trans:\n",
       "0.9999562426518485, 2.6208398260601524e-05, 1.8189622724271977e-06, 1.5729987618497374e-05\n",
       "7.049720131796059e-06, 0.9999698856343252, 6.991342045371919e-06, 1.607330349756008e-05\n",
       "1.2716807355059996e-06, 1.7388217608512197e-05, 0.9999781791003083, 3.1610013477365123e-06\n",
       "1.7301823234579334e-05, 0.00011452568669777619, 8.076641015599586e-06, 0.999860095849052\n",
       "obs:\n",
       "0.8495286641815055, 0.075647826573297, 0.07482350924519751\n",
       "0.4716858174332927, 0.09134399902467145, 0.43697018354203593\n",
       "0.14909987819343531, 0.3127691899027325, 0.5381309319038322\n",
       "0.15084679777174023, 0.07681315977150331, 0.7723400424567564"
      ]
     },
     "execution_count": 2,
     "metadata": {},
     "output_type": "execute_result"
    }
   ],
   "source": [
    "alt_period = 4000 # a fake alternation period\n",
    "us_bounds = hm.h2mm_limits(max_trans = 1/(alt_period))\n",
    "\n",
    "prior = np.array([1/4, 1/4, 1/4, 1/4])\n",
    "trans = np.array([[1-3e-6, 1e-6, 1e-6, 1e-6],\n",
    "                  [1e-6, 1-3e-6, 1e-6, 1e-6],\n",
    "                  [1e-6, 1e-6, 1-3e-6, 1e-6],\n",
    "                  [1e-6, 1e-6, 1e-6, 1-3e-6]])\n",
    "obs = np.array([[0.4,0.4,0.2],\n",
    "                [0.3,0.1,0.6],\n",
    "                [0.2,0.4,0.4],\n",
    "                [0.1,0.1,0.8]])\n",
    "\n",
    "imodel_4s3d = hm.h2mm_model(prior, trans, obs)\n",
    "\n",
    "us_opt_model4 = hm.EM_H2MM_C(imodel_4s3d, color3, times3, bounds_func='revert', bounds=us_bounds)\n",
    "us_opt_model4"
   ]
  },
  {
   "cell_type": "markdown",
   "id": "91f401cb",
   "metadata": {},
   "source": [
    "So, what did we just do? The `hm.h2mm_limits` object `us_bounds` prevents any value (off the diagonal) of the **transition probability** matrix (`.trans`) from ever being larger (i.e. faster transition rate) than `1/(4000)`. \n",
    "\n",
    "#### Bounds process\n",
    "\n",
    "When you use a bounds method, each iteration goes through the following steps:\n",
    "1. Calculate *loglikelihood* and new model\n",
    "2. Check if the **model** converged\n",
    "3. Analyze the **new model**, and correct if necessary\n",
    "    1. Check if any values are smaller or larger than a pre-set minimum or maximum\n",
    "    2. If values are out of bounds, apply correction, method defined by argument passed to `bounds_func`\n",
    "4. Repeat optimization (back to step 1)\n",
    "\n",
    "The inputs to `hm.h2mm_limits` are all keyword argumetns, and come in the form of `min/max_[array]` where `[array]` is `prior`, `trans` or `obs`, and specify the minimum and maximum values in the respective array.\n",
    "Specifying as a float will set the value for all states, and thus the created `hm.h2mm_limits` object can be used for models with any model, while values can be specified as arrays, where each element sets the min/max of the value at that position in the given array of the model.\n",
    "\n",
    "#### `bounds_func`\n",
    "\n",
    "As mentioned in the above outline, the bounding process needs to choose how to correct the way in which a model value that is out of bound is corrected.\n",
    "There are 3 options:\n",
    "\n",
    "1. `minmax` shallowest correction, sets the value to its minimum or maximum\n",
    "2. `revert` prefered method, sets the value to the value in the previous model\n",
    "3. `revert_old` a more extreme form of `revert` which goes to the model before the last in the optimization, and sets the value to that.\n",
    "\n",
    "### Using `hm.factory_h2mm_model()` with bounds\n",
    "\n",
    "You will note in the previous example, we specified the `hm.h2mm_model` explicitly, instead of using `hm.factory_h2mm_model()`. \n",
    "This is because it is possible that the `hm.factory_h2mm_model()` could create an initial model that contains out of bounds values, which could result in odd behavior during optimization.\n",
    "\n",
    "There is a way around this, you can give the `hm.h2mm_limits` object to `hm.factory_h2mm_model()` through the keyword argument `bounds`, and the function will automatically ensure the model is with bounds:\n",
    "\n",
    "> See the full documentation to see full list of options for customizing the `hm.factory_h2mm_model()` function's output"
   ]
  },
  {
   "cell_type": "code",
   "execution_count": 3,
   "id": "384591ca",
   "metadata": {},
   "outputs": [
    {
     "data": {
      "text/plain": [
       "The model converged after 198 iterations"
      ]
     },
     "metadata": {},
     "output_type": "display_data"
    }
   ],
   "source": [
    "us_bounds = hm.h2mm_limits(max_trans = 1/4000)\n",
    "# make factory_h2mm_model make a model within bounds\n",
    "imodel = hm.factory_h2mm_model(3,3, bounds=us_bounds)\n",
    "us_model = hm.EM_H2MM_C(imodel, color3, times3, bounds=us_bounds, bounds_func='revert')"
   ]
  },
  {
   "cell_type": "markdown",
   "id": "4793aa59",
   "metadata": {},
   "source": [
    "## Custom Bounds"
   ]
  },
  {
   "cell_type": "code",
   "execution_count": 4,
   "id": "5bfa9b65",
   "metadata": {},
   "outputs": [],
   "source": [
    "def sample_bounds(new_model,current_model,old_model,bound):\n",
    "    # it's usually best to just keep the function signature the same\n",
    "    # grab the obs matrix\n",
    "    obs = new_model.obs\n",
    "    # set first row of obs matrix to bound\n",
    "    obs[0,:] = bound\n",
    "    # change the obs matrix of the new model\n",
    "    new_model.obs = obs\n",
    "    # return the adjusted model\n",
    "    return new_model"
   ]
  },
  {
   "cell_type": "code",
   "execution_count": 5,
   "id": "20dbeeaa",
   "metadata": {},
   "outputs": [
    {
     "data": {
      "text/plain": [
       "The model converged after 712 iterations"
      ]
     },
     "metadata": {},
     "output_type": "display_data"
    }
   ],
   "source": [
    "bnd = np.array([0.09,0.01,0.9])\n",
    "prior = np.array([1/4, 1/4, 1/4, 1/4])\n",
    "trans = np.array([[1-3e-6, 1e-6, 1e-6, 1e-6],\n",
    "                  [1e-6, 1-3e-6, 1e-6, 1e-6],\n",
    "                  [1e-6, 1e-6, 1-3e-6, 1e-6],\n",
    "                  [1e-6, 1e-6, 1e-6, 1-3e-6]])\n",
    "obs = np.array([bnd,\n",
    "                [0.3,0.1,0.6],\n",
    "                [0.2,0.4,0.4],\n",
    "                [0.1,0.1,0.8]])\n",
    "\n",
    "imodel4s3d = hm.h2mm_model(prior, trans, obs)\n",
    "us_opt_model4 = hm.EM_H2MM_C(imodel_4s3d, color3, times3, bounds_func=sample_bounds, bounds=bnd)"
   ]
  }
 ],
 "metadata": {
  "kernelspec": {
   "display_name": "Python 3 (ipykernel)",
   "language": "python",
   "name": "python3"
  },
  "language_info": {
   "codemirror_mode": {
    "name": "ipython",
    "version": 3
   },
   "file_extension": ".py",
   "mimetype": "text/x-python",
   "name": "python",
   "nbconvert_exporter": "python",
   "pygments_lexer": "ipython3",
   "version": "3.9.12"
  }
 },
 "nbformat": 4,
 "nbformat_minor": 5
}
