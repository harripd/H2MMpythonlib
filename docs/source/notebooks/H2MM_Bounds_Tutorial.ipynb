{
 "cells": [
  {
   "cell_type": "markdown",
   "id": "e32a35b5",
   "metadata": {},
   "source": [
    "# Bounding H<sup>2</sup>MM\n",
    "\n",
    "Let's get our obligitory imports in order, and we'll load the 3 detector data as well."
   ]
  },
  {
   "cell_type": "code",
   "execution_count": 1,
   "id": "ca9b4442",
   "metadata": {},
   "outputs": [],
   "source": [
    "import os\n",
    "import numpy as np\n",
    "from matplotlib import pyplot as plt\n",
    "\n",
    "import H2MM_C as hm\n",
    "\n",
    "def load_txtdata(filename):\n",
    "    \"\"\"\n",
    "    load the space-separated bursts file\n",
    "    \"\"\"\n",
    "    color = list()\n",
    "    times = list()\n",
    "    with open(filename,'r') as f:\n",
    "        for i, line in enumerate(f):\n",
    "            if i % 2 == 0:\n",
    "                times.append(np.array([int(x) for x in line.split()],dtype=np.int64))\n",
    "            else:\n",
    "                color.append(np.array([int(x) for x in line.split()],dtype=np.uint8))\n",
    "    return color, times\n",
    "\n",
    "color3, times3 = load_txtdata('sample_data_3det.txt')"
   ]
  },
  {
   "cell_type": "markdown",
   "id": "1ce3255d",
   "metadata": {},
   "source": [
    "## Built in Limits\n",
    "\n",
    "Sometimes we may want to restrain what values are possible in the H<sup>2</sup>MM model, for instance to keep transition rates within reasonable values, or because you know something about how the emmission probability matrix (`obs`) should behave.\n",
    "\n",
    "This is expected to happen most often (but not exclusively) when some experimental parameter is periodic, but not important to the data. For instance in $\\mu$sALEX experiments, the laser alternation period causes donor and acceptor excitation photons, which arrive in separate streams to alternate (and thus transition) perfectly periodically, yet that has no bearing on transitions between our system. Thus transition rates close to the rate of laser alternation are likely to be artifacts, and thus we want to exclude them. For $\\mu sALEX$ experiments, we find this still is not enough.\n",
    "\n",
    "To define some bounds, we need to define the bounds, this is done using the `hm.h2mm_limits` object, which we pass into the `hm.EM_H2MM_C()` function through the keyword argument `bounds`, and we also need to supply a method string to another keyword argument, `bounds_func`.\n",
    "\n",
    "#### Let's see an example"
   ]
  },
  {
   "cell_type": "code",
   "execution_count": 2,
   "id": "d88a0a00",
   "metadata": {},
   "outputs": [
    {
     "name": "stdout",
     "output_type": "stream",
     "text": [
      "The model converged after 685 iterations\n"
     ]
    },
    {
     "data": {
      "text/plain": [
       "nstate: 4, ndet: 3, nphot: 436084, niter: 685, loglik: -408203.01780763164 converged state: 0x27\n",
       "prior:\n",
       "0.19742292717072724, 0.5611282263485261, 0.24144884648074677, 1.122540068877687e-45\n",
       "trans:\n",
       "0.9999562426522093, 2.620891499277239e-05, 1.8189510111391713e-06, 1.5729481786860157e-05\n",
       "7.049860033086539e-06, 0.9999698846938487, 6.991336733963374e-06, 1.6074109384330446e-05\n",
       "1.2716821568198554e-06, 1.7388154493563593e-05, 0.9999781791356339, 3.1610277156832627e-06\n",
       "1.7300615959528748e-05, 0.00011452978544642856, 8.076561260936627e-06, 0.9998600930373331\n",
       "obs:\n",
       "0.849529126745175, 0.0756477543895781, 0.07482311886524697\n",
       "0.4716864635066353, 0.09134403951110426, 0.4369694969822604\n",
       "0.1490998472367156, 0.3127692137566102, 0.5381309390066742\n",
       "0.15084733434554878, 0.07681326299829001, 0.7723394026561613"
      ]
     },
     "execution_count": 2,
     "metadata": {},
     "output_type": "execute_result"
    }
   ],
   "source": [
    "alt_period = 4000 # a fake alternation period\n",
    "us_bounds = hm.h2mm_limits(max_trans = 1/(alt_period))\n",
    "\n",
    "prior = np.array([1/4, 1/4, 1/4, 1/4])\n",
    "trans = np.array([[1-3e-6, 1e-6, 1e-6, 1e-6],\n",
    "                  [1e-6, 1-3e-6, 1e-6, 1e-6],\n",
    "                  [1e-6, 1e-6, 1-3e-6, 1e-6],\n",
    "                  [1e-6, 1e-6, 1e-6, 1-3e-6]])\n",
    "obs = np.array([[0.4,0.4,0.2],\n",
    "                [0.3,0.1,0.6],\n",
    "                [0.2,0.4,0.4],\n",
    "                [0.1,0.1,0.8]])\n",
    "\n",
    "imodel_4s3d = hm.h2mm_model(prior, trans, obs)\n",
    "\n",
    "us_opt_model4 = hm.EM_H2MM_C(imodel_4s3d, color3, times3, bounds_func='revert', bounds=us_bounds)\n",
    "us_opt_model4"
   ]
  },
  {
   "cell_type": "markdown",
   "id": "91f401cb",
   "metadata": {},
   "source": [
    "So, what did we just do? The `hm.h2mm_limits` object `us_bounds` prevents any value (off the diagonal) of the **transition probability** matrix (`.trans`) from ever being larger (i.e. faster transition rate) than `1/(4000)`. \n",
    "\n",
    "#### Bounds process\n",
    "\n",
    "When you use a bounds method, each iteration goes through the following steps:\n",
    "1. Calculate *loglikelihood* and new model\n",
    "2. Check if the **model** converged\n",
    "3. Analyze the **new model**, and correct if necessary\n",
    "    1. Check if any values are smaller or larger than a pre-set minimum or maximum\n",
    "    2. If values are out of bounds, apply correction, method defined by argument passed to `bounds_func`\n",
    "4. Repeat optimization (back to step 1)\n",
    "\n",
    "The inputs to `hm.h2mm_limits` are all keyword argumetns, and come in the form of `min/max_[array]` where `[array]` is `prior`, `trans` or `obs`, and specify the minimum and maximum values in the respective array.\n",
    "Specifying as a float will set the value for all states, and thus the created `hm.h2mm_limits` object can be used for models with any model, while values can be specified as arrays, where each element sets the min/max of the value at that position in the given array of the model.\n",
    "\n",
    "#### `bounds_func`\n",
    "\n",
    "As mentioned in the above outline, the bounding process needs to choose how to correct the way in which a model value that is out of bound is corrected.\n",
    "There are 3 options:\n",
    "\n",
    "1. `minmax` shallowest correction, sets the value to its minimum or maximum\n",
    "2. `revert` prefered method, sets the value to the value in the previous model\n",
    "3. `revert_old` a more extreme form of `revert` which goes to the model before the last in the optimization, and sets the value to that.\n",
    "\n",
    "### Using `hm.factory_h2mm_model()` with bounds\n",
    "\n",
    "You will note in the previous example, we specified the `hm.h2mm_model` explicitly, instead of using `hm.factory_h2mm_model()`. \n",
    "This is because it is possible that the `hm.factory_h2mm_model()` could create an initial model that contains out of bounds values, which could result in odd behavior during optimization.\n",
    "\n",
    "There is a way around this, you can give the `hm.h2mm_limits` object to `hm.factory_h2mm_model()` through the keyword argument `bounds`, and the function will automatically ensure the model is with bounds:\n",
    "\n",
    "> See the full documentation to see full list of options for customizing the `hm.factory_h2mm_model()` function's output"
   ]
  },
  {
   "cell_type": "code",
   "execution_count": 3,
   "id": "384591ca",
   "metadata": {},
   "outputs": [
    {
     "name": "stdout",
     "output_type": "stream",
     "text": [
      "The model converged after 200 iterations\n"
     ]
    }
   ],
   "source": [
    "us_bounds = hm.h2mm_limits(max_trans = 1/4000)\n",
    "# make factory_h2mm_model make a model within bounds\n",
    "imodel = hm.factory_h2mm_model(3,3, bounds=us_bounds)\n",
    "us_model = hm.EM_H2MM_C(imodel, color3, times3, bounds=us_bounds, bounds_func='revert')"
   ]
  },
  {
   "cell_type": "markdown",
   "id": "4793aa59",
   "metadata": {},
   "source": [
    "## Custom Bounds\n",
    "\n",
    "Finally, it is possible to supply a custom bounding function to `bounds_func`.\n",
    "\n",
    "> **Note**\n",
    ">\n",
    "> This feature was designed to allow the user to handle things/circumstances\n",
    "> that the writers of H2MM_C had not anticipated.\n",
    "> Therefore this example is very simple, and does not show a useful method.\n",
    "\n",
    "This function must is called at the end of the optimization loop, after a given model's loglik has been \n",
    "calculated (and the standard H<sup>2</sup>MM next model for the next iteration produced).\n",
    "\n",
    "This function takes the signature \n",
    "`bounds_func(new:h2mm_model, current:h2mm_model, old:h2mm_model, *bounds, **bounds_func)->h2mm_model|int|tuple[h2mm_model,int]`\n",
    "\n",
    "`new`, `current` and `old` are the `h2mm_model`s of the current iteration.\n",
    "\n",
    "1. `new` is the model suggested/produced by the current iteration\n",
    "2. `current` is the model whose loglik was just computed\n",
    "3. `old` is the model computed in the previous iteration\n",
    "\n",
    "These are always supplied each iteration. `bounds` and `bounds_kwargs` come from the\n",
    "identically named keyword arguments in `EM_H2MM_C`. `bounds` by default is `None`, which \n",
    "is internally converted to a 0-size (empty) `tuple`, likewise `bounds_kwargs` is by default `None`\n",
    "and is internally converted into an empty dict.\n",
    "\n",
    "The return value can either or both specify\n",
    "1. The \"bounded\" `new` model\n",
    "2. If the optimization has converged\n",
    "\n",
    "If only the `new` model is specified, convergence will be determined like all other optimizaztions,\n",
    "by the difference in loglik of `current` and `new`. \n",
    "\n",
    "**However,** if the bounds function returns a value specifying if the model has converged, then\n",
    "`EM_H2MM_C` will **not** separately check if the optimization has converged.\n",
    "\n",
    "> **Note**\n",
    "> `max_iter` and `max_time` are enforced separetely from `bounds_func`. \n",
    "\n",
    "If specifying the converged state, this can be either a `bool` or 0, 1, 2.\n",
    "\n",
    "As a `bool`, `True` indicates that the optimization has converged, and thus\n",
    "can stop, the `old` model will be returned as the \"optimal\" model. `False`\n",
    "will allow the optimization to proceed using the `new` model.\n",
    "\n",
    "If specifying as `0` is equivalent to `False`, `1` to `True`, and `2` will return\n",
    "the 'current' model as the optimal model.\n",
    "\n",
    "If both the `new` model and converged state are specified, this must be done by returning a 2-tuple\n",
    "of `(new, converged_state)`.\n",
    "\n",
    "> **Warning**\n",
    "> Make sure the model you return makes sense, otherwise the optimization will proceed unpredictably.\n",
    "> Think of this as the “gloves off” approach, you might have a very powerful new method, or you might\n",
    "> get something meaningless depending on how you code it. That’s your responsibility.\n",
    "\n",
    "Below is a function that that re-implements the behavior of `\"minmax\"` but now the limits\n",
    "normally specified with a `h2mm_limits` object supplied to `bounds` are replaced with kwargs:"
   ]
  },
  {
   "cell_type": "code",
   "execution_count": 4,
   "id": "2a3f0e36-ce6c-4100-91a0-1e5500c04ea6",
   "metadata": {},
   "outputs": [],
   "source": [
    "def minmax_py(new, current, old, converged_min=1e-9, \n",
    "                  min_prior=None, max_prior=None,\n",
    "                  min_trans=None, max_trans=None, \n",
    "                  min_obs=None, max_obs=None):\n",
    "    # bounding of trans matrix\n",
    "    if min_trans is not None or max_trans is not None:\n",
    "        trans = new.trans\n",
    "        idxs = np.arange(new.nstate)\n",
    "        if isinstance(min_trans, float):\n",
    "            trans[trans < min_trans*(~np.eye(new.nstate, dtype=np.bool_))] = min_trans\n",
    "        elif isinstance(min_trans, np.ndarray):\n",
    "            mask = trans < min_trans\n",
    "            trans[mask] = min_trans[mask]\n",
    "        if isinstance(max_trans, float):\n",
    "            trans[trans > max_trans*(~np.eye(new.nstate, dtype=np.bool_))] = max_trans\n",
    "        elif isinstance(max_trans, np.ndarray):\n",
    "            mask = trans > max_trans\n",
    "            trans[mask] = max_trans[mask]\n",
    "        for i in range(trans.shape[0]):\n",
    "            trans[i,i] = 1.0 - trans[i, idxs!=i].sum()\n",
    "        new.trans = trans\n",
    "    # bounding of obs matrix\n",
    "    if min_obs is not None or max_obs is not None:\n",
    "        obs = new.obs\n",
    "        if min_obs is not None:\n",
    "            minmask = obs < min_obs\n",
    "            obs[minmask] = min_obs[minmask]\n",
    "        else:\n",
    "            minmask = np.zeros(obs.shape, dtype=np.bool_)\n",
    "        if max_obs is not None:\n",
    "            maxmask = obs > max_obs\n",
    "            obs[maxmask] = max_obs[maxmask]\n",
    "        else:\n",
    "            maxmask = np.zeros(obs.shape, dtype=np.bool_)\n",
    "        obsmask = minmask | maxmask\n",
    "        for i in range(obs.shape[0]):\n",
    "            obs[i,~obsmask[i,:]] += (1-obs[i,:].sum()) / (~obsmask).sum()\n",
    "        new.obs = obs\n",
    "    if min_prior is not None or max_prior is not None:\n",
    "        prior = new.prior\n",
    "        if min_prior is not None:\n",
    "            minpmask = prior < min_prior\n",
    "            prior[minpmask] = min_prior[minpmask]\n",
    "        else:\n",
    "            minpmask = np.zeros(new.nstate, base=np.bool_)\n",
    "        if max_prior is not None:\n",
    "            maxpmask = prior > max_prior\n",
    "            prior[maxpmask] = max_prior[maxpmask]\n",
    "        else:\n",
    "            maxpmask = np.zeros(new.nstate, base=np.bool_)\n",
    "        pmask = minpmask | maxpmask\n",
    "        prior[~pmask] += (1-prior.sum()) / (~pmask).sum()\n",
    "        new.prior = prior\n",
    "    return new"
   ]
  },
  {
   "cell_type": "code",
   "execution_count": 5,
   "id": "20dbeeaa",
   "metadata": {},
   "outputs": [
    {
     "name": "stdout",
     "output_type": "stream",
     "text": [
      "The model converged after 357 iterations\n"
     ]
    },
    {
     "data": {
      "text/plain": [
       "nstate: 4, ndet: 3, nphot: 436084, niter: 357, loglik: -408204.5620664633 converged state: 0x27\n",
       "prior:\n",
       "0.20187287395552383, 0.555511314468409, 0.2426158115760672, 1.1509971417545699e-19\n",
       "trans:\n",
       "0.9999561167094794, 2.5780522430529397e-05, 1.8078370356740301e-06, 1.6294931054526093e-05\n",
       "6.75634983004153e-06, 0.9999721939851459, 6.949840784328292e-06, 1.4099824239669596e-05\n",
       "1.2573173537528151e-06, 1.760165736328294e-05, 0.9999780805061623, 3.0605191207252682e-06\n",
       "1.999736876873411e-05, 0.0001, 8.60787110843201e-06, 0.9998713947601229\n",
       "obs:\n",
       "0.8487004871938238, 0.0757805347445635, 0.07551897806161263\n",
       "0.47035303616448293, 0.09123833982326249, 0.4384086240122546\n",
       "0.14917488290484934, 0.31288637104022915, 0.5379387460549215\n",
       "0.15244039977854387, 0.07711927285636504, 0.770440327365091"
      ]
     },
     "execution_count": 5,
     "metadata": {},
     "output_type": "execute_result"
    }
   ],
   "source": [
    "prior = np.array([1/4, 1/4, 1/4, 1/4])\n",
    "trans = np.array([[1-3e-6, 1e-6, 1e-6, 1e-6],\n",
    "                  [1e-6, 1-3e-6, 1e-6, 1e-6],\n",
    "                  [1e-6, 1e-6, 1-3e-6, 1e-6],\n",
    "                  [1e-6, 1e-6, 1e-6, 1-3e-6]])\n",
    "obs = np.array([[0.09,0.01,0.9],\n",
    "                [0.3,0.1,0.6],\n",
    "                [0.2,0.4,0.4],\n",
    "                [0.1,0.1,0.8]])\n",
    "\n",
    "imodel4s3d = hm.h2mm_model(prior, trans, obs)\n",
    "us_opt_model4 = hm.EM_H2MM_C(imodel_4s3d, color3, times3, bounds_func=minmax_py, bounds_kwargs=dict(max_trans=1e-4))\n",
    "us_opt_model4"
   ]
  },
  {
   "cell_type": "markdown",
   "id": "48aef2e2-73c6-4961-b945-7bc0fb377fad",
   "metadata": {},
   "source": [
    "Now let's re-implement how convergence of the optimization is handled:"
   ]
  },
  {
   "cell_type": "code",
   "execution_count": 6,
   "id": "17ad0494-8c71-4741-8e7c-5b2b9cf4bcfc",
   "metadata": {},
   "outputs": [],
   "source": [
    "def limit_converged(new, current, old, conv_min):\n",
    "    if current.loglik < old.loglik:\n",
    "        return 1\n",
    "    if (current.loglik - old.loglik) < conv_min:\n",
    "        return 2\n",
    "    return 0"
   ]
  },
  {
   "cell_type": "code",
   "execution_count": 7,
   "id": "ae1c6c7e-3bd9-4e8e-8a6e-dbb5246b06e7",
   "metadata": {},
   "outputs": [
    {
     "name": "stdout",
     "output_type": "stream",
     "text": [
      "The model converged after 590 iterations\n"
     ]
    },
    {
     "data": {
      "text/plain": [
       "nstate: 4, ndet: 3, nphot: 436084, niter: 590, loglik: -408203.01780927106 converged state: 0x27\n",
       "prior:\n",
       "0.19742858374944935, 0.5611213924554063, 0.24145002379514446, 5.6637246878749904e-39\n",
       "trans:\n",
       "0.999956242650991, 2.6207641738997573e-05, 1.8189787919602367e-06, 1.5730728478121254e-05\n",
       "7.049515187084447e-06, 0.9999698870139253, 6.991349840780761e-06, 1.6072121046822896e-05\n",
       "1.2716786501567262e-06, 1.738831022553693e-05, 0.9999781790484651, 3.1609626592454228e-06\n",
       "1.7303592951104056e-05, 0.0001145196740683564, 8.07675804308128e-06, 0.9998600999749374\n",
       "obs:\n",
       "0.8495279860407301, 0.0756479324346845, 0.07482408152458539\n",
       "0.4716848692803993, 0.09134393961306525, 0.4369711911065354\n",
       "0.14909992362596441, 0.3127691549445511, 0.5381309214294844\n",
       "0.1508460096123563, 0.07681300825941291, 0.7723409821282308"
      ]
     },
     "execution_count": 7,
     "metadata": {},
     "output_type": "execute_result"
    }
   ],
   "source": [
    "us_opt_model4 = hm.EM_H2MM_C(imodel_4s3d, color3, times3, bounds_func=limit_converged, bounds=5e-8)\n",
    "us_opt_model4"
   ]
  },
  {
   "cell_type": "markdown",
   "id": "c2041c83-8a0a-4bb8-82bb-f0e430ddf67d",
   "metadata": {},
   "source": [
    "Finally, bellow is an example that re-implements the min-max procedure and checking for convergence:"
   ]
  },
  {
   "cell_type": "code",
   "execution_count": 8,
   "id": "bda2d19d-7c70-4365-80cd-42b3a839bd07",
   "metadata": {},
   "outputs": [],
   "source": [
    "def minmax_conv_py(new, current, old, conv_min, **kwargs):\n",
    "    return minmax_py(new, current, old, **kwargs), limit_converged(new, current, old, conv_min)"
   ]
  },
  {
   "cell_type": "code",
   "execution_count": 9,
   "id": "1a8b2439-4f0a-4756-bedd-5b4069492e51",
   "metadata": {},
   "outputs": [
    {
     "name": "stdout",
     "output_type": "stream",
     "text": [
      "The model converged after 311 iterations\n"
     ]
    },
    {
     "data": {
      "text/plain": [
       "nstate: 4, ndet: 3, nphot: 436084, niter: 311, loglik: -408204.5620673125 converged state: 0x27\n",
       "prior:\n",
       "0.20187518613651556, 0.5555091603111131, 0.2426156535523714, 3.887861722177637e-17\n",
       "trans:\n",
       "0.9999561169674445, 2.5778819786260227e-05, 1.8080192889913623e-06, 1.629619348030376e-05\n",
       "6.756063773342994e-06, 0.9999721942959813, 6.9499771063802756e-06, 1.4099663139054152e-05\n",
       "1.2573560248595228e-06, 1.760180807618561e-05, 0.9999780806198352, 3.060216063830061e-06\n",
       "1.999906525257261e-05, 0.0001, 8.606579409041733e-06, 0.9998713943553383\n",
       "obs:\n",
       "0.8486997786227224, 0.07578060975327044, 0.07551961162400707\n",
       "0.4703530185422313, 0.09123831157048955, 0.43840866988727906\n",
       "0.14917480048855306, 0.3128859241466044, 0.5379392753648427\n",
       "0.15244033018999173, 0.0771191316859059, 0.7704405381241024"
      ]
     },
     "execution_count": 9,
     "metadata": {},
     "output_type": "execute_result"
    }
   ],
   "source": [
    "us_opt_model4 = hm.EM_H2MM_C(imodel_4s3d, color3, times3, bounds_func=minmax_conv_py, bounds=5e-8, bounds_kwargs=dict(max_trans=1e-4))\n",
    "us_opt_model4"
   ]
  },
  {
   "cell_type": "code",
   "execution_count": null,
   "id": "57e3076e-742f-4b92-a9a7-ec31460e97e0",
   "metadata": {},
   "outputs": [],
   "source": []
  }
 ],
 "metadata": {
  "kernelspec": {
   "display_name": "Python 3 (ipykernel)",
   "language": "python",
   "name": "python3"
  },
  "language_info": {
   "codemirror_mode": {
    "name": "ipython",
    "version": 3
   },
   "file_extension": ".py",
   "mimetype": "text/x-python",
   "name": "python",
   "nbconvert_exporter": "python",
   "pygments_lexer": "ipython3",
   "version": "3.12.3"
  }
 },
 "nbformat": 4,
 "nbformat_minor": 5
}
