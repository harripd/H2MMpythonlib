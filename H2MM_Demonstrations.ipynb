{
 "cells": [
  {
   "cell_type": "code",
   "execution_count": null,
   "metadata": {},
   "outputs": [],
   "source": [
    "import os\n",
    "import time\n",
    "import numpy as np\n",
    "from numpy.linalg import matrix_power\n",
    "import h5py\n",
    "from fretbursts import *\n",
    "\n",
    "sns = init_notebook"
   ]
  },
  {
   "cell_type": "markdown",
   "metadata": {},
   "source": [
    "# H2MM processing"
   ]
  },
  {
   "cell_type": "code",
   "execution_count": null,
   "metadata": {},
   "outputs": [],
   "source": [
    "class h2mm_model:\n",
    "    def __init__(self,prior,trans,obs,loglik=-np.inf):\n",
    "        self.nstate = prior.size\n",
    "        self.nchannels = obs.shape[1]\n",
    "        if self.nstate == prior.shape[0] == trans.shape[1] == trans.shape[0] == obs.shape[0]:\n",
    "            self.prior = prior\n",
    "            self.obs = obs\n",
    "            self.trans = trans\n",
    "            self.loglik = loglik\n",
    "        else:\n",
    "            print('Error: prior, trans and obs must have same number of states')\n",
    "            self.prior = prior\n",
    "            self.obs = obs\n",
    "            self.trans = trans\n",
    "            self.loglik = loglik\n",
    "    def normalize(self):\n",
    "        self.prior = self.prior / np.sum(self.prior)\n",
    "        for i in range(0,self.nstate):\n",
    "            self.trans[i,:] = self.trans[i,:] / np.sum(self.trans[i,:])\n",
    "            self.obs[i,:] = self.obs[i,:] / np.sum(self.obs[i,:])\n",
    "            \n",
    "class fwdback_values:\n",
    "    def __init__(self,alpha,beta,gamma,loglik,xi_summed,scale):\n",
    "        self.alpha = alpha\n",
    "        self.beta = beta\n",
    "        self.gamma = gamma\n",
    "        self.loglik = loglik\n",
    "        self.xi_summed = xi_summed\n",
    "        self.scale = scale\n"
   ]
  },
  {
   "cell_type": "code",
   "execution_count": null,
   "metadata": {},
   "outputs": [],
   "source": [
    "class ph_factors:\n",
    "    def __init__(self,deltas):\n",
    "        deltas = np.unique(deltas)\n",
    "        deltas = deltas[deltas!=0]\n",
    "        if deltas[0] != 1:\n",
    "            deltas = np.append(1,deltas)\n",
    "        self.deltas = deltas\n",
    "        self.R = self.factorize(deltas)\n",
    "        self.expand()\n",
    "    def factorize(self,deltas):\n",
    "        deltas = np.unique(deltas)\n",
    "        deltas = deltas[deltas!=0]\n",
    "        if deltas[0] != 1:\n",
    "            deltas = np.append(1,deltas)\n",
    "        R = [np.array([[0,1]])]\n",
    "        for i in range(1,deltas.size):\n",
    "            d = deltas[i] // deltas[i-1]\n",
    "            m = deltas[i] % deltas[i-1]\n",
    "            R.append(np.array([[i-1,d]]))\n",
    "            while m != 0:\n",
    "                k = np.argwhere(deltas == m)\n",
    "                if k.size != 0:\n",
    "                    R[i] = np.append(R[i],np.array([[k[0,0], 1]]),axis=0)\n",
    "                    m = 0\n",
    "                else:\n",
    "                    k = np.argwhere(deltas < m)[-1,0]\n",
    "                    d = m // deltas[k]\n",
    "                    m = m % deltas[k]\n",
    "                    R[i] = np.append(R[i],np.array([[k,d]],dtype=int),axis=0)\n",
    "        return R\n",
    "    def expand(self):\n",
    "        B = np.array([],dtype=int)\n",
    "        for i in range(0,len(self.R)):\n",
    "            if self.R[i].shape[0] > 1:\n",
    "                k = np.argwhere(self.R[i][:,1]>1)\n",
    "                for j in range(0,k.shape[0]):\n",
    "                    temp_ind = self.R[i][k[j,0],0]\n",
    "                    temp_d = self.R[i][k[j,0],1]\n",
    "                    temp_t = self.deltas[temp_ind]\n",
    "                    temp_add = temp_t*temp_d\n",
    "                    B = np.append(B,temp_t*temp_d)\n",
    "        B = np.unique(B)\n",
    "        deltas = np.append(self.deltas,B)\n",
    "        deltas = np.unique(deltas)\n",
    "        if deltas.size != self.deltas.size:\n",
    "            self.deltas = deltas\n",
    "            self.R = self.factorize(deltas)\n",
    "            S = True\n",
    "        else:\n",
    "            S = False\n",
    "        return S"
   ]
  },
  {
   "cell_type": "code",
   "execution_count": null,
   "metadata": {},
   "outputs": [],
   "source": [
    "def CalculatePowerofTransMatrices(h_model,R):\n",
    "    nfact = len(R)\n",
    "    nstat = h_model.nstate\n",
    "    M = np.zeros((nfact,h_model.nstate,h_model.nstate))\n",
    "    M[0,:,:] = h_model.trans\n",
    "    for ii in range(1,nfact):\n",
    "        M_temp = np.eye(h_model.nstate)\n",
    "        for iii in range(0,R[ii].shape[0]):\n",
    "            M[ii,:,:] = M_temp @ matrix_power(M[R[ii][iii,0],:,:],R[ii][iii,1])\n",
    "            M_temp = M[ii,:,:]\n",
    "    return M"
   ]
  },
  {
   "cell_type": "code",
   "execution_count": null,
   "metadata": {},
   "outputs": [],
   "source": [
    "def Rho_product_fast(A_dt1,A_dt2,Rho1,Rho2):\n",
    "    N = Rho1.shape[0]\n",
    "    Rho12 = np.zeros((N,N,N,N))\n",
    "    for m in range(0,N):\n",
    "        for n in range(0,N):\n",
    "            Rho12[m,n,:,:] = Rho1[m,n,:,:]@A_dt2 + A_dt1@Rho2[m,n,:,:]\n",
    "    return Rho12"
   ]
  },
  {
   "cell_type": "code",
   "execution_count": null,
   "metadata": {},
   "outputs": [],
   "source": [
    "def Rho_power_fast(A_dt0,Rho0,power):\n",
    "    N = A_dt0.shape[0]\n",
    "    A0 = np.eye(N)\n",
    "    Rho = Rho0\n",
    "    for i in range(0,power-1):\n",
    "        A0 = A0@A_dt0\n",
    "        Rho = Rho_product_fast(A0,A_dt0,Rho,Rho0)\n",
    "    return Rho"
   ]
  },
  {
   "cell_type": "code",
   "execution_count": null,
   "metadata": {},
   "outputs": [],
   "source": [
    "def Calc_Rho(transmat_t,R):\n",
    "    len_t = transmat_t.shape[0]\n",
    "    Ns = transmat_t.shape[1]\n",
    "    Rho = np.zeros((len_t,Ns,Ns,Ns,Ns))\n",
    "    # the follwoing nested for loop is the initiation (eq. 24) step of the h2mm Rho calculation\n",
    "    for i in range(0,Ns):\n",
    "        for j in range(0,Ns):\n",
    "            Rho[0,i,j,i,j] = transmat_t[0,i,j]\n",
    "    # this is the recursion step\n",
    "    for t in range(1,len_t):\n",
    "        R_temp = R[t]\n",
    "        tempRsize = R_temp.shape[0]\n",
    "        if tempRsize > 1:\n",
    "            for Rind in range(0,tempRsize-1):\n",
    "                if Rind == 0:\n",
    "                    # this side of the if statement is used to initiate the initiation step\n",
    "                    transmat_1 = transmat_t[R_temp[Rind,0],:,:]\n",
    "                    if R_temp[Rind,1] == 1:\n",
    "                        Rho_1 = Rho[R_temp[Rind,0],:,:,:,:]\n",
    "                    else:\n",
    "                        Rho_1 = Rho_product_fast(transmat_1,Rho_1,R_temp[Rind,1])\n",
    "                        transmat_1 = matrix_power(transmat_1,R_temp[Rind,1])\n",
    "                    transmat_2 = transmat_t[R_temp[Rind+1,0],:,:]\n",
    "                    if R_temp[Rind+1,1] == 1:\n",
    "                        Rho_2 = Rho[R_temp[Rind+1,0],:,:,:,:]\n",
    "                    else:\n",
    "                        Rho_2 = Rho_power_fast(transmat_2,Rho_2,R_temp[Rind,1])\n",
    "                        transmat_2 = matrix_power(transmat_2,Rho_2,R_temp[Rind,1])\n",
    "                    Rho_temp = Rho_product_fast(transmat_1,transmat_2,Rho_1,Rho_2)\n",
    "                else:\n",
    "                    Rho_1 = Rho_temp\n",
    "                    transmat_1 = transmat_2 @ transmat_2\n",
    "                    transmat_2 = transmat_t[R_temp[Rind+1,0],:,:]\n",
    "                    if R_temp[Rind+1,1] == 1:\n",
    "                        Rho_2 = Rho[R_temp[Rind+1,0],:,:,:,:]\n",
    "                    else:\n",
    "                        Rho_2 = Rho_power_fast(transmat_2,Rho[R_temp[Rind+1,0],:,:,:,:],R_temp[Rind+1,1])\n",
    "                        transmat_2 = matrix_power(transmat_2,R_temp[Rind+1,1])\n",
    "                    Rho_temp = Rho_product_fast(transmat_1,transmat_2,Rho_1,Rho_2)\n",
    "            Rho[t,:,:,:,:] = Rho_temp\n",
    "        else:\n",
    "            Rho_1 = Rho[R_temp[0,0],:,:,:,:]\n",
    "            transmat_1 = transmat_t[R_temp[0,0],:,:]\n",
    "            Rho[t,:,:,:,:] = Rho_power_fast(transmat_1,Rho[R_temp[0,0],:,:,:,:],R_temp[0,1])\n",
    "    return Rho"
   ]
  },
  {
   "cell_type": "code",
   "execution_count": null,
   "metadata": {},
   "outputs": [],
   "source": [
    "def fwdback_photonByphoton_new(h_model,ph_color,arrivalinds,Rho,transmat_t):\n",
    "    loglik = 0\n",
    "    T = arrivalinds.shape[0]\n",
    "    S = h_model.nstate\n",
    "    alpha = np.zeros((T,S))\n",
    "    beta = np.zeros((T,S))\n",
    "    gamma = np.zeros((T,S))\n",
    "    xi_summed = np.zeros((S,S))\n",
    "    obslik = np.zeros((T,S))\n",
    "    scale = np.zeros(T)\n",
    "    # Setting up obslik (equivalent to multinomial_prob)\n",
    "    for t in range(0,T):\n",
    "        obslik[t,:] = h_model.obs[:,ph_color[t]]\n",
    "    # alpha initiation\n",
    "    alpha[0,:] = h_model.prior*obslik[0,:]\n",
    "    scale[0] = alpha[0,:].sum()\n",
    "    alpha[0,:] = alpha[0,:]/scale[0]\n",
    "    # alpha recursion\n",
    "    for t in range(1,T):\n",
    "        trans = transmat_t[arrivalinds[t],:,:]\n",
    "        a = trans.T @ alpha[t-1,:]\n",
    "        a2 = a * obslik[t,:]\n",
    "        scale[t] = a2.sum()\n",
    "        alpha[t,:] = a2 / scale[t]\n",
    "    if np.any(scale == 0):\n",
    "        loglik = -np.inf\n",
    "    else:\n",
    "        loglik = np.log(scale).sum()\n",
    "    # beta initiation\n",
    "    beta[T-1,:] = np.ones(S)\n",
    "    gamma[T-1,:] = alpha[T-1,:] * beta[T-1,:] / (alpha[T-1,:]*beta[T-1,:]).sum()\n",
    "    # beta recusion\n",
    "    for t in range(T-2,-1,-1):\n",
    "        b = beta[t+1,:]*obslik[t+1,:]\n",
    "        trans = transmat_t[arrivalinds[t+1],:,:]\n",
    "        trans0 = trans\n",
    "        trans0[trans0==0] = 1\n",
    "        beta[t,:] = (trans @ b) / (trans @ b).sum()\n",
    "        gamma[t,:] = alpha[t,:]*beta[t,:]/(alpha[t,:]*beta[t,:]).sum()\n",
    "        xi_temp = trans * np.outer(alpha[t,:],b)\n",
    "        xi_temp = xi_temp/xi_temp.sum()\n",
    "        fxi = ((xi_temp / trans0)* Rho[arrivalinds[t+1],:,:,:,:]).sum(axis=3).sum(axis=2)\n",
    "        xi_summed += fxi\n",
    "    return fwdback_values(alpha,beta,gamma,loglik,xi_summed,scale)"
   ]
  },
  {
   "cell_type": "code",
   "execution_count": null,
   "metadata": {},
   "outputs": [],
   "source": [
    "def compute_ess_dhmm(h_model,ph_color,ArrivalInds,R):\n",
    "    numex = len(ArrivalInds)\n",
    "    Nd = h_model.obs.shape[1]\n",
    "    exp_num_trans = np.zeros((h_model.nstate,h_model.nstate))\n",
    "    exp_num_visits = np.zeros(h_model.nstate)\n",
    "    exp_num_emits = np.zeros((numex,h_model.nstate,Nd))\n",
    "    loglik = 0\n",
    "    sc = np.zeros((len(ArrivalInds)))\n",
    "    transmat_t = CalculatePowerofTransMatrices(h_model,R.R)\n",
    "    Rho = Calc_Rho(transmat_t,R.R)\n",
    "    for ex in range(0,numex):\n",
    "        T = ph_color[ex].size\n",
    "        param_temp = fwdback_photonByphoton_new(h_model,ph_color[ex],ArrivalInds[ex],Rho,transmat_t)\n",
    "        loglik += param_temp.loglik\n",
    "        exp_num_trans += param_temp.xi_summed\n",
    "        exp_num_visits += param_temp.gamma[0,:]\n",
    "        if T < Nd:\n",
    "            for t in range(0,T):\n",
    "                p = ph_color[ex][t]\n",
    "                exp_num_emits[ex,p,:] += param_temp.gamma[t,:]\n",
    "                print('Triggered T<Ns')\n",
    "        else:\n",
    "            for n in range(0,Nd):\n",
    "                ndx = np.argwhere(ph_color[ex]==n)[:,0]\n",
    "                if ndx.size != 0:\n",
    "                    exp_num_emits[ex,:,n] = param_temp.gamma[ndx,:].sum(axis=0)\n",
    "    exp_num_emit = exp_num_emits.sum(axis=0)\n",
    "    return h2mm_model(exp_num_visits,exp_num_trans,exp_num_emit,loglik=loglik)"
   ]
  },
  {
   "cell_type": "code",
   "execution_count": null,
   "metadata": {},
   "outputs": [],
   "source": [
    "def EM_H2MM(h_mod,burst_colors,burst_times,max_iter=3600,max_time=np.inf,converged_min=1e-14):\n",
    "    assert len(burst_times) == len(burst_colors)\n",
    "    TotalArrivalDelta = np.empty((0),dtype=int)\n",
    "    burst_deltas = []\n",
    "    for i in range(0,len(burst_times)):\n",
    "        assert burst_colors[i].size == burst_times[i].size\n",
    "        deltas_temp = np.diff(burst_times[i])\n",
    "        TotalArrivalDelta = np.append(TotalArrivalDelta,deltas_temp)\n",
    "        burst_deltas.append(np.append(1,deltas_temp))\n",
    "    assert len(burst_deltas) == len(burst_times)\n",
    "    R = ph_factors(TotalArrivalDelta)\n",
    "    for i in range(0,len(burst_deltas)):\n",
    "        burst_inds.append(np.ones(burst_deltas[i].shape,dtype=int))\n",
    "        for t in range(0,burst_deltas[i].size):\n",
    "            burst_inds[i][t] = np.argwhere(burst_deltas[i][t] == R.deltas)[0,0]\n",
    "        assert burst_inds[i].size == burst_colors[i].size\n",
    "    assert len(burst_inds) == len(burst_colors)\n",
    "    \n",
    "    # Initialize variable for main optimization loop\n",
    "    h_mod_current = h_mod\n",
    "    LL = np.empty((0),dtype=float)\n",
    "    niter = 0\n",
    "    cont = True\n",
    "    tm_start = time.perf_counter()\n",
    "    tm_iter = tm_start\n",
    "    print('Begin compute_ess_dhmm')\n",
    "    while cont: # while loop loops until one of the end conditions is met...\n",
    "        h_mod_temp = compute_ess_dhmm(h_mod,burst_colors,burst_inds,R) # calculates new model\n",
    "        if h_mod_temp.loglik - h_mod_current.loglik > converged_min: # check main condition of convergence\n",
    "            h_mod_current = h_mod_temp\n",
    "            LL = np.append(LL,h_mod_current.loglik)\n",
    "            tm_prev = tm_iter\n",
    "            tm_iter = time.perf_counter()\n",
    "            tm_elapse = tm_iter - tm_start\n",
    "            tm_cycle = tm_iter - tm_prev\n",
    "            print(f'Iteration {n}, loglik {h_mod_current.loglik}, iteration time {tm_cycle}, total time {tm_elapse}')\n",
    "            n += 1\n",
    "            if max_iter < n: # checking alternative end conditions, \n",
    "                h_mod_current = h_mod_temp\n",
    "                print('Maximum iterations reached')\n",
    "                cont = False\n",
    "            if max_time*3600 < tm_elapse:\n",
    "                print('Maximum time reached')\n",
    "                cont = False\n",
    "        else:\n",
    "            print('Converged')\n",
    "            cont = False\n",
    "    return h_mod_current"
   ]
  },
  {
   "cell_type": "code",
   "execution_count": null,
   "metadata": {},
   "outputs": [],
   "source": [
    "def viterbi_path_PhotonByPhoton(h_model,ph_color,ph_arrivaltime):\n",
    "    assert ph_color.size == ph_arrivaltime.size\n",
    "    T = ph_color.shape[0]\n",
    "    S = h_model.nstate\n",
    "    obslik = np.zeros(T,S)\n",
    "    for t in range(0,T):\n",
    "        obslik[t,:] = h_model.obs[:,ph_color[t]]\n",
    "    ph_arrivaldiff = np.diff(ph_arrivaltime)\n",
    "    ph_arrivaldiff_max = np.max(ph_arrivaldiff)\n",
    "    transmat_t = np.zeros((ph_arrivaldiff_max,S,S))\n",
    "    transmat_t[0,:,:] = h_model.trans\n",
    "    for t in range(1,ph_arrivaldiff_max):\n",
    "        transmat_t[t,:,:] = transmat_t[t-1,:,:] @ h_model.trans\n",
    "    delta = np.zeros((T,S))\n",
    "    psi = np.zeros((T,S))\n",
    "    obslik = np.zeros((T,S))\n",
    "    scale = np.ones(T)\n",
    "    path = np.zeros(T,dtype=int)\n",
    "    t = 0\n",
    "    delta[t,:] = h_model.prior * obslik[t,:]\n",
    "    scale[t] = 1/delta[t,:].sum()\n",
    "    delta[t,:] = delta[t,:]/delta[t,:].sum()\n",
    "    psi[t,:] = 0\n",
    "    for t in range(1,T):\n",
    "        trans = transmat_t[ph_arrivaldiff[t-1],:,:]\n",
    "        for j in range(0,S):\n",
    "            delta_temp = trans[:,j] * delta[t-1,:]\n",
    "            delta[t,j] = np.max(delta_temp)\n",
    "            psi[t,j] = np.argwhere(delta[t,j]==delta_temp)[0,0]\n",
    "            delta[t,j] = delta[t,j] * obslik[t,j]\n",
    "        scale[t] = 1/delta[t,:]\n",
    "        delta[t,:] = delta[t,:]/delta[t,:].sum()\n",
    "    t = T-1\n",
    "    path[t] = np.argwhere(np.max(delta[t,:])==delta[t,:])[0,0]\n",
    "    for t in range(T-2,-1,-1):\n",
    "        path[t] = psi[t+1,path[t+1]]\n",
    "    return path"
   ]
  },
  {
   "cell_type": "markdown",
   "metadata": {},
   "source": [
    "First we isolate and filter the photon stream for only photon during the donor excitation period\n",
    "2 masks are made in the end, one for all the photons and one for the acceptor photons\n",
    "The final for loop creates the interphoton time list and isolates the bursts into sepeparate cells in the list"
   ]
  },
  {
   "cell_type": "markdown",
   "metadata": {},
   "source": [
    "# Load Data"
   ]
  },
  {
   "cell_type": "code",
   "execution_count": null,
   "metadata": {},
   "outputs": [],
   "source": [
    "filename = '/home/paul/Documents/FRETBursts_notebooks-master/data/2019-12-23-Nick.sptw/Nick0-1MgCl10KCl2.hdf5'\n",
    "if os.path.isfile(filename):\n",
    "    print('File found, you can proceed to load the file')\n",
    "else:\n",
    "    print(\"Sorry, I can't find the file \\n%s\" % filename)"
   ]
  },
  {
   "cell_type": "code",
   "execution_count": null,
   "metadata": {},
   "outputs": [],
   "source": [
    "d = loader.photon_hdf5(filename)"
   ]
  },
  {
   "cell_type": "markdown",
   "metadata": {},
   "source": [
    "# Alex and Background processing"
   ]
  },
  {
   "cell_type": "code",
   "execution_count": null,
   "metadata": {},
   "outputs": [],
   "source": [
    "bpl.plot_alternation_hist(d)"
   ]
  },
  {
   "cell_type": "code",
   "execution_count": null,
   "metadata": {},
   "outputs": [],
   "source": [
    "loader.alex_apply_period(d)"
   ]
  },
  {
   "cell_type": "code",
   "execution_count": null,
   "metadata": {},
   "outputs": [],
   "source": [
    "d.calc_bg(fun=bg.exp_fit,time_s=30, tail_min_us='auto', F_bg=1.7)\n",
    "\n",
    "dplot(d, hist_bg)"
   ]
  },
  {
   "cell_type": "code",
   "execution_count": null,
   "metadata": {},
   "outputs": [],
   "source": [
    "dplot(d, timetrace)"
   ]
  },
  {
   "cell_type": "markdown",
   "metadata": {},
   "source": [
    "# Performing Burst Search"
   ]
  },
  {
   "cell_type": "code",
   "execution_count": null,
   "metadata": {},
   "outputs": [],
   "source": [
    "d.burst_search(m=10, F=6, ph_sel=Ph_sel(Dex='DAem'))\n",
    "d.fuse_bursts(ms=0)\n",
    "\n",
    "alex_jointplot(d)"
   ]
  },
  {
   "cell_type": "code",
   "execution_count": null,
   "metadata": {},
   "outputs": [],
   "source": [
    "d_all = Sel(d, select_bursts.size, th1=50)\n",
    "alex_jointplot(d_all)"
   ]
  },
  {
   "cell_type": "code",
   "execution_count": null,
   "metadata": {},
   "outputs": [],
   "source": [
    "d_all = Sel(d_all, select_bursts.naa, th1=50)\n",
    "alex_jointplot(d_all)"
   ]
  },
  {
   "cell_type": "markdown",
   "metadata": {},
   "source": [
    "# Processing Real Data"
   ]
  },
  {
   "cell_type": "code",
   "execution_count": null,
   "metadata": {},
   "outputs": [],
   "source": [
    "print('Defining photon masks')\n",
    "DAemDex_mask = d_all.get_ph_mask(ph_sel=Ph_sel(Dex='DAem'))\n",
    "AemDex_mask = d_all.get_ph_mask(ph_sel=Ph_sel(Dex='Aem'))\n",
    "AemDex_mask_red = AemDex_mask[DAemDex_mask]\n",
    "\n",
    "d_all_bursts = d_all.mburst[0]\n",
    "ph_d = d_all.get_ph_times(ph_sel=Ph_sel(Dex='DAem'))\n",
    "print('Reducing photon burst indexes')\n",
    "burst_red = d_all_bursts.recompute_index_reduce(ph_d)\n",
    "\n",
    "TotalArrivalDelta = np.empty([1,0], dtype=int)\n",
    "ArrivalMask = []\n",
    "BurstArrivalDelta = []\n",
    "ArrivalColor = []\n",
    "\n",
    "print('Calculating interphoton times')\n",
    "for start, stop in zip(burst_red.istart, burst_red.istop):\n",
    "    ArrivalDeltaTemp = np.diff(ph_d[start:stop+1])\n",
    "#    ArrivalDeltaTemp[ArrivalDeltaTemp==0] = 1 # removes 0 delta times from the list... think through this more\n",
    "    TotalArrivalDelta = np.append(TotalArrivalDelta, ArrivalDeltaTemp)\n",
    "    BurstArrivalDelta.append(np.append(0, ArrivalDeltaTemp))\n",
    "    ArrivalMask.append(AemDex_mask_red[start:stop+1])\n",
    "    ArrivalColor_temp = np.zeros(AemDex_mask_red[start:stop+1].size,dtype=int)\n",
    "    ArrivalColor_temp[AemDex_mask_red[start:stop+1]] = 1\n",
    "    ArrivalColor.append(ArrivalColor_temp)"
   ]
  },
  {
   "cell_type": "markdown",
   "metadata": {},
   "source": [
    "Now that the table is made, create an array of the burst with the indexes of the appropriate element of the look up table cooresponding to the interphoton time"
   ]
  },
  {
   "cell_type": "code",
   "execution_count": null,
   "metadata": {},
   "outputs": [],
   "source": [
    "R = ph_factors(TotalArrivalDelta)\n",
    "\n",
    "ArrivalTimeInds = []\n",
    "for i in range(0,len(BurstArrivalDelta)):\n",
    "    ArrivalTimeInds.append(np.array([],dtype=int))\n",
    "    for j in range(0,len(BurstArrivalDelta[i])):\n",
    "        if BurstArrivalDelta[i][j] == 0:\n",
    "            ArrivalTimeInds[i] = np.append(ArrivalTimeInds[i],np.argwhere(1==R.deltas))\n",
    "        else:\n",
    "            ArrivalTimeInds[i] = np.append(ArrivalTimeInds[i],np.argwhere(BurstArrivalDelta[i][j]==R.deltas))"
   ]
  },
  {
   "cell_type": "code",
   "execution_count": null,
   "metadata": {},
   "outputs": [],
   "source": [
    "prior2 = np.array([0.1, 0.9])\n",
    "trans2 = np.array([[0.998, 0.002],[0.0001, 0.9999]])\n",
    "obs2 = np.array([[0.3, 0.7],[0.8, 0.2]])\n",
    "h_mod = h2mm_model(prior2,trans2,obs2)\n",
    "h_mod.normalize()\n",
    "h_mod2_i = h_mod\n",
    "\n",
    "transmat_t = CalculatePowerofTransMatrices(h_mod,R.R)\n",
    "Rho = Calc_Rho(transmat_t,R.R)\n",
    "\n",
    "#param_temp = []\n",
    "#for ex in range(0,len(ArrivalColor)):\n",
    "#    param_temp.append(fwdback_photonByphoton_new(h_mod,ArrivalColor[ex],ArrivalTimeInds[ex],Rho,transmat_t))\n"
   ]
  },
  {
   "cell_type": "code",
   "execution_count": null,
   "metadata": {
    "scrolled": true
   },
   "outputs": [],
   "source": [
    "niter = 0\n",
    "LL2 = []\n",
    "max_iter = 3600\n",
    "cont = True\n",
    "print('Begin compute_ess_dhmm')\n",
    "tm_start = time.perf_counter()\n",
    "tm_iter = tm_start\n",
    "while cont:\n",
    "    h_mod_temp = compute_ess_dhmm(h_mod,ArrivalColor,ArrivalTimeInds,R)\n",
    "    if h_mod_temp.loglik < h_mod.loglik:\n",
    "        h_mod2 = h_mod\n",
    "        cont = False\n",
    "        print(f'Converged old loglik {h_mod.loglik}, new loglik {h_mod_temp.loglik}')\n",
    "    else:\n",
    "        LL2 = np.append(LL2,h_mod_temp.loglik)\n",
    "        h_mod_temp.normalize()\n",
    "        h_mod = h_mod_temp\n",
    "        # the terms are just keeping track of the time elapsed\n",
    "        tm_prev = tm_iter\n",
    "        tm_iter = time.perf_counter()\n",
    "        tm_elapse = tm_iter - tm_start\n",
    "        tm_cycle = tm_iter - tm_prev\n",
    "        # print the iteration number\n",
    "        print(f'Iteration {niter}, loglik {LL2[-1]}, iteration time: {tm_cycle}, total time: {tm_elapse}')\n",
    "        niter += 1\n",
    "        if niter > max_iter:\n",
    "            cont = False"
   ]
  },
  {
   "cell_type": "code",
   "execution_count": null,
   "metadata": {},
   "outputs": [],
   "source": [
    "prior3 = np.array([0.3, 0.5, 0.2])\n",
    "trans3 = np.array([[0.9998, 0.0001, 0.0001],[0.00001, 0.99998, 0.00001],[0.000001, 0.000001, 0.999998]])\n",
    "obs3 = np.array([[0.1, 0.9],[0.2, 0.8],[0.3, 0.7]])\n",
    "h_mod = h2mm_model(prior3,trans3,obs3)\n",
    "h_mod3_i = h_mod"
   ]
  },
  {
   "cell_type": "code",
   "execution_count": null,
   "metadata": {
    "scrolled": true
   },
   "outputs": [],
   "source": [
    "niter = 0\n",
    "LL3 = []\n",
    "max_iter = 3600\n",
    "cont = True\n",
    "print('Begin compute_ess_dhmm')\n",
    "tm_start = time.perf_counter()\n",
    "tm_iter = tm_start\n",
    "while cont:\n",
    "    h_mod_temp = compute_ess_dhmm(h_mod,ArrivalColor,ArrivalTimeInds,R)\n",
    "    if h_mod_temp.loglik < h_mod.loglik:\n",
    "        h_mod3 = h_mod\n",
    "        cont = False\n",
    "        print(f'Converged old loglik {h_mod.loglik}, new loglik {h_mod_temp.loglik}')\n",
    "    else:\n",
    "        LL3 = np.append(LL3,h_mod_temp.loglik)\n",
    "        h_mod_temp.normalize()\n",
    "        h_mod = h_mod_temp\n",
    "        # the terms are just keeping track of the time elapsed\n",
    "        tm_prev = tm_iter\n",
    "        tm_iter = time.perf_counter()\n",
    "        tm_elapse = tm_iter - tm_start\n",
    "        tm_cycle = tm_iter - tm_prev\n",
    "        # print the iteration number\n",
    "        print(f'Iteration {niter}, loglik {LL3[-1]}, iteration time: {tm_cycle}, total time: {tm_elapse}')\n",
    "        niter += 1\n",
    "        if niter > max_iter:\n",
    "            cont = False"
   ]
  },
  {
   "cell_type": "code",
   "execution_count": null,
   "metadata": {},
   "outputs": [],
   "source": [
    "h_mod2.obs"
   ]
  },
  {
   "cell_type": "code",
   "execution_count": null,
   "metadata": {},
   "outputs": [],
   "source": [
    "h_mod2.trans"
   ]
  },
  {
   "cell_type": "code",
   "execution_count": null,
   "metadata": {},
   "outputs": [],
   "source": [
    "h_mod2.prior"
   ]
  },
  {
   "cell_type": "code",
   "execution_count": null,
   "metadata": {},
   "outputs": [],
   "source": [
    "scale = []\n",
    "xi_summed = []\n",
    "gamma = []\n",
    "alpha = []\n",
    "beta = []\n",
    "with h5py.File('/home/paul/Octave/jp6b10726_si_002/real_data.hdf5') as hdf:\n",
    "    scalef = hdf.get('scale/value')\n",
    "    xi_summedf = hdf.get('xi_summed/value')\n",
    "    gammaf = hdf.get('gamma/value')\n",
    "    alphaf = hdf.get('alpha/value')\n",
    "    \n",
    "    ls = list(scalef.keys())\n",
    "    for key in ls:\n",
    "        scale_temp = scalef.get(key + '/value')\n",
    "        scale.append(np.array(scale_temp))\n",
    "        xi_summed_temp = xi_summedf.get(key+'/value')\n",
    "        xi_summed.append(np.array(xi_summed_temp))\n",
    "        gamma_temp = gammaf.get(key+'/value')\n",
    "        gamma.append(np.array(gamma_temp))\n",
    "        alpha_temp = alphaf.get(key+'/value')\n",
    "        alpha.append(np.array(alpha_temp))"
   ]
  },
  {
   "cell_type": "code",
   "execution_count": null,
   "metadata": {},
   "outputs": [],
   "source": [
    "gamma = gamma[0:4383]\n",
    "scale = scale[0:4383]\n",
    "xi_summed = xi_summed[0:4383]"
   ]
  },
  {
   "cell_type": "code",
   "execution_count": null,
   "metadata": {},
   "outputs": [],
   "source": [
    "scalenp = np.empty((0),dtype=float)\n",
    "for i in range(0,len(scale)):\n",
    "    scalenp = np.append(scalenp,scale[i])"
   ]
  },
  {
   "cell_type": "code",
   "execution_count": null,
   "metadata": {},
   "outputs": [],
   "source": [
    "scalepy = np.empty((0),dtype=float)\n",
    "for i in range(0,len(param_temp)):\n",
    "    scalepy = np.append(scalepy,np.log(param_temp[i].scale).sum())"
   ]
  },
  {
   "cell_type": "code",
   "execution_count": null,
   "metadata": {},
   "outputs": [],
   "source": [
    "xi_summedml = np.zeros((2,2))\n",
    "xi_summedpy = np.zeros((2,2))\n",
    "for i in range(0,4383):\n",
    "    xi_summedml += xi_summed[i]\n",
    "    xi_summedpy += param_temp[i].xi_summed\n",
    "print(xi_summedml)\n",
    "print(xi_summedpy)"
   ]
  },
  {
   "cell_type": "markdown",
   "metadata": {},
   "source": [
    "# Test Data Construction"
   ]
  },
  {
   "cell_type": "code",
   "execution_count": null,
   "metadata": {},
   "outputs": [],
   "source": [
    "trans2 = np.array([[0.9999,0.0001],[0.001,0.999]])\n",
    "prior2 = np.array([0.3,0.7])\n",
    "obs2 = np.array([[0.1,0.9],[0.4,0.6]])\n",
    "h_mod2 = h2mm_model(prior2,trans2,obs2)\n",
    "trans3 = np.array([[0.98, 0.01, 0.01],[0.01, 0.98, 0.01],[0.01, 0.01, 0.98]])\n",
    "prior3 = np.array([0.2, 0.6, 0.2])\n",
    "obs3 = np.array([[0.1, 0.9],[0.5, 0.5],[0.7, 0.3]])\n",
    "h_mod3 = h2mm_model(prior3, trans3, obs3)\n",
    "data_time_short = np.zeros(12,dtype=int)\n",
    "\n",
    "for i in range(1,12):\n",
    "    if i != 4:\n",
    "        data_time_short[i] = i + data_time_short[i-1]\n",
    "    else:\n",
    "        data_time_short[i] = i + data_time_short[i-1] + 3\n",
    "\n",
    "data_time_short = np.array([0, 4, 6, 13, 19, 21, 50, 54, 55, 59, 70, 72])\n",
    "data_ph_short = np.zeros(12,dtype=int)\n",
    "for i in range(1,len(data_time_short)):\n",
    "    data_ph_short[i] = data_time_short[i] % 2\n",
    "\n",
    "deltas_short = np.diff(data_time_short)\n",
    "R_short = ph_factors(deltas_short)\n",
    "deltas_short = np.diff(data_time_short)\n",
    "R_short = ph_factors(deltas_short)\n",
    "transmat_t_short = CalculatePowerofTransMatrices(h_mod2,R_short.R)\n",
    "transmat_t3_short = CalculatePowerofTransMatrices(h_mod3,R_short.R)"
   ]
  },
  {
   "cell_type": "code",
   "execution_count": null,
   "metadata": {},
   "outputs": [],
   "source": [
    "Rho_short = Calc_Rho(transmat_t_short,R_short.R)\n",
    "Rho3_short = Calc_Rho(transmat_t3_short,R_short.R)"
   ]
  },
  {
   "cell_type": "code",
   "execution_count": null,
   "metadata": {},
   "outputs": [],
   "source": [
    "arrivalinds_short = np.zeros((deltas_short.shape[0]+1),dtype=int)\n",
    "for i in range(0,deltas_short.shape[0]):\n",
    "    arrivalinds_short[i+1] = np.argwhere(deltas_short[i]==R_short.deltas)"
   ]
  },
  {
   "cell_type": "code",
   "execution_count": null,
   "metadata": {},
   "outputs": [],
   "source": [
    "param_temp2_short = fwdback_photonByphoton_new(h_mod2,data_ph_short,arrivalinds_short,Rho_short,transmat_t_short)"
   ]
  },
  {
   "cell_type": "code",
   "execution_count": null,
   "metadata": {},
   "outputs": [],
   "source": [
    "param_temp3_short = fwdback_photonByphoton_new(h_mod3,data_ph_short,arrivalinds_short,Rho3_short,transmat_t3_short)"
   ]
  },
  {
   "cell_type": "code",
   "execution_count": null,
   "metadata": {},
   "outputs": [],
   "source": [
    "param_temp2_short.xi_summed"
   ]
  },
  {
   "cell_type": "code",
   "execution_count": null,
   "metadata": {},
   "outputs": [],
   "source": [
    "param_temp3_short.xi_summed"
   ]
  },
  {
   "cell_type": "code",
   "execution_count": null,
   "metadata": {},
   "outputs": [],
   "source": [
    "h_mod2.trans"
   ]
  },
  {
   "cell_type": "code",
   "execution_count": null,
   "metadata": {},
   "outputs": [],
   "source": [
    "e_n_trans_short = np.zeros(param_temp2_short.xi_summed.shape)\n",
    "for i in range(0,2):\n",
    "    e_n_trans_short[i,:] = param_temp2_short.xi_summed[i,:]/param_temp2_short.xi_summed[i,:].sum()\n",
    "e_n_prior_short = param_temp2_short.gamma[0,:]/param_temp2_short.gamma[0,:].sum()"
   ]
  },
  {
   "cell_type": "code",
   "execution_count": null,
   "metadata": {},
   "outputs": [],
   "source": [
    "e_n_emits_short = np.zeros((2,2))\n",
    "for i in range(0,2):\n",
    "    ndx = np.argwhere(data_ph_short == i)[:,0]\n",
    "    if ndx.size > 0:\n",
    "        e_n_emits_short[:,i] = param_temp2_short.gamma[ndx,:].sum(axis=0)\n",
    "for i in range(0,2):\n",
    "    e_n_emits_short[i,:] = e_n_emits_short[i,:]/e_n_emits_short[i,:].sum()"
   ]
  },
  {
   "cell_type": "code",
   "execution_count": null,
   "metadata": {},
   "outputs": [],
   "source": [
    "test11 = np.array([[1,2],[3,4]]).T\n",
    "test21 = np.array([[5,6],[7,8]]).T\n",
    "test12 = np.array([[9,10],[11,12]]).T\n",
    "test22 = np.array([[13,14],[15,16]]).T\n",
    "\n",
    "test = np.array([[test11,test12],[test21,test22]])"
   ]
  },
  {
   "cell_type": "code",
   "execution_count": null,
   "metadata": {},
   "outputs": [],
   "source": [
    "cont = True\n",
    "nit = 0\n",
    "h_mod_current_short = h_mod2\n",
    "while cont:\n",
    "    nit += 1\n",
    "    h_mod_temp_short = compute_ess_dhmm(h_mod_current_short,[data_ph_short],[arrivalinds_short],R_short)\n",
    "    if h_mod_temp_short.loglik > h_mod_current_short.loglik:\n",
    "        h_mod_current_short = h_mod_temp_short\n",
    "        h_mod_current_short.normalize()\n",
    "        print(f'{h_mod_current_short.loglik} nit = {nit}')\n",
    "    else:\n",
    "        cont = False"
   ]
  },
  {
   "cell_type": "code",
   "execution_count": null,
   "metadata": {},
   "outputs": [],
   "source": [
    "# keeping old broken verions of the Calc_Rho function around\n",
    "\n",
    "#def Calc_Rho(transmat_t,R):  # this has problems in the calculation- check the if/for loops (most complicated)\n",
    "#    len_t = transmat_t.shape[0]\n",
    "#    transmat = transmat_t[0,:,:]\n",
    "#    Ns = transmat.shape[0]\n",
    "#    Rho = np.zeros((len_t,Ns,Ns,Ns,Ns)) # Rho is now a 5D matrix,with .shape[0] dimention replacing the cell array dimention in the matlab function\n",
    "#    for i in range(0,Ns):\n",
    "#        for j in range(0,Ns):\n",
    "#            Rho[0,i,j,i,j] = transmat[i,j]\n",
    "#    for t in range(1,len_t):\n",
    "#        Rtemp = R[t]\n",
    "#        tempRsize = Rtemp.shape[0]\n",
    "#        if tempRsize > 1:\n",
    "#            for Rind in range(0,tempRsize-1):\n",
    "#                if Rind == 0:\n",
    "#                    transmat_1 = transmat_t[Rtemp[Rind,0],:,:]\n",
    "#                    if Rtemp[Rind,1] == 1:\n",
    "#                        Rho_1 = Rho[Rtemp[Rind,0],:,:,:,:]\n",
    "#                    else:\n",
    "#                        Rho_1 = Rho_power_fast(transmat_1,Rho[Rtemp[Rind,0],:,:,:,:],Rtemp[Rind,1])\n",
    "#                        transmat_1 = matrix_power(transmat_1,Rtemp[Rind,1])\n",
    "#                    transmat_2 = transmat_t[Rtemp[Rind,0],:,:]\n",
    "#                    if Rtemp[Rind+1,1] == 1:\n",
    "#                        Rho_2 = Rho[Rtemp[Rind+1,0],:,:,:,:]\n",
    "#                    else:\n",
    "#                        Rho_2 = Rho_power_fast(transmat_2,Rho[Rtemp[Rind+1,0],:,:,:,:],Rtemp[Rind+1,1])\n",
    "#                        transmat_2 = matrix_power(transmat_2,Rtemp[Rind+1,1])\n",
    "#                    Rho_temp = Rho_product_fast(transmat_1,transmat_2,Rho_1,Rho_2)\n",
    "#                else:\n",
    "#                    Rho_1 = Rho_temp\n",
    "#                    transmat_1 = transmat_1 @ transmat_2\n",
    "#                    transmat_2 = transmat_t[Rtemp[Rind+1,0],:,:]\n",
    "#                    if Rtemp[Rind+1,1] == 1:\n",
    "#                        Rho_2 = Rho[Rtemp[Rind+1,0],:,:,:,:]\n",
    "#                    else:\n",
    "#                        Rho_2 = Rho_power_fast(transmat_2,Rho[Rtemp[Rind+1,0],:,:,:,:],Rtemp[Rind+1,1])\n",
    "#                        transmat_2 = matrix_power(transmat_2,Rtemp[Rind+1,1])\n",
    "#                    Rho_temp = Rho_product_fast(transmat_1,transmat_2,Rho_1,Rho_2)\n",
    "#            Rho[t,:,:,:,:] = Rho_temp\n",
    "#        else:\n",
    "#            Rho1 = Rho[Rtemp[0,0],:,:,:,:]\n",
    "#            transmat_1 = transmat_t[Rtemp[0,0],:,:]\n",
    "#            Rho[t,:,:,:,:] = Rho_power_fast(transmat_1,Rho1,Rtemp[0,1])\n",
    "#    return Rho"
   ]
  },
  {
   "cell_type": "code",
   "execution_count": null,
   "metadata": {},
   "outputs": [],
   "source": [
    "## This function has been deprecated\n",
    "#\n",
    "#\n",
    "#class photon_tbl:\n",
    "#    def __init__(self,deltas,R=[np.array([0,1],dtype=int)]):\n",
    "#        self.deltas = (deltas) # equivalent to Augmented_T in matlab Factorization function\n",
    "#        self.R = (R) # equivalent to R in in matlab Factorization function\n",
    "#def Factorization(Deltas): # this is slow when the number of factors is small, prime target for cython\n",
    "#    class photon_lst:\n",
    "#        def __init__(self,deltas,R):\n",
    "#            self.deltas = np.unique(deltas)\n",
    "#            self.R = R\n",
    "#        def factor(self): # for malab equivalent, see Main_rutin in the Factorization function\n",
    "#            deltas = np.unique(self.deltas)\n",
    "#            self.R = [np.array([[0,1]],dtype=int)]\n",
    "#            deltas = deltas[deltas != 0]\n",
    "#            if deltas[0] != 1:\n",
    "#                deltas = np.append(1,deltas)\n",
    "#            for i in range(1,deltas.size):\n",
    "#                d = deltas[i] // deltas[i-1]\n",
    "#                m = deltas[i] % deltas[i-1]\n",
    "#                self.R.append(np.array([[i-1,d]]))\n",
    "#                while m != 0:\n",
    "#                    k_arg = np.argwhere(deltas[:i-1]==m)\n",
    "#                    if 0 == k_arg.size:\n",
    "#                        k = np.argwhere(deltas[:i-1]<m)[-1,0]\n",
    "#                        d = m // deltas[k]\n",
    "#                        m = m % deltas[k]\n",
    "#                        temp_factors = np.array([[k,d]])\n",
    "#                        self.R[i] = np.concatenate((self.R[i],temp_factors))\n",
    "##                        if d > 1 and k > 0:\n",
    "##                            print(f'Iteration {i}, k = {k}, d = {d}, m = {m}, deltas = {self.deltas[k]}')\n",
    "#                    else:\n",
    "#                        temp_factors = np.array([[k_arg[0][0],1]])\n",
    "#                        self.R[i] = np.concatenate((self.R[i],temp_factors))\n",
    "#                        m = 0\n",
    "#    lkuptbl = photon_lst(Deltas,np.array([0,1]))\n",
    "#    lkuptbl.factor()\n",
    "#    B = np.array([],dtype=int)\n",
    "#    for i in range(1,len(lkuptbl.R)):\n",
    "#        if lkuptbl.R[i].shape[0] > 1:\n",
    "#            k = np.argwhere(lkuptbl.R[i][:,1]>1)[:,0]\n",
    "#            if k.size > 1:\n",
    "#                for j in range(0,k.size):\n",
    "#                    temp_ind = k[j]\n",
    "#                    temp_delta = lkuptbl.deltas[k] * lkuptbl.R[i][k,1]\n",
    "#                    B = np.append(B,temp_delta)\n",
    "#    B = np.unique(B)\n",
    "#    if B.size != 0:\n",
    "#        deltas_temp = np.append(lkuptbl.deltas,B)\n",
    "#        print(deltas_temp)\n",
    "#        lkuptbl.deltas = np.unique(deltas_temp)\n",
    "#        lkuptbl.factor()\n",
    "#    return photon_tbl(lkuptbl.deltas, lkuptbl.R)"
   ]
  },
  {
   "cell_type": "code",
   "execution_count": null,
   "metadata": {},
   "outputs": [],
   "source": [
    "# This cell was the original version of the factorization function, it does not generate the deltas output\n",
    "#def Factorization1(Deltas):\n",
    "#    Deltas = np.unique(Deltas)\n",
    "#    if np.any(Deltas==0):\n",
    "#        print('Removing interphoton times with delta of 0')\n",
    "#        Deltas = Deltas[Deltas!=0]\n",
    "#    if Deltas[0] != 1:\n",
    "#        Deltas = np.append(1, Deltas)\n",
    "#    print('Begin factorization proccess')\n",
    "#    R = [np.array([0,1])]\n",
    "#    B = np.array([],dtype='int32')\n",
    "#    for i in range(1,len(Deltas)):\n",
    "#        d = Deltas[i] // Deltas[i-1]\n",
    "#        m = Deltas[i] % Deltas[i-1]\n",
    "#        R.append(np.array([i-1,d]))\n",
    "#        while m != 0:\n",
    "#            if ~np.any(Deltas[:i-1]==m):\n",
    "#                k = np.argwhere(Deltas[:i-1]<m)[-1]\n",
    "#                d = m // Deltas[k]\n",
    "#                m = m % Deltas[k]\n",
    "#                R[i] = np.stack((R[i],np.array([k[0],d])),axis=0)\n",
    "#                if d > 1:\n",
    "#                    B = np.append(B,Deltas[k[0]]*d)\n",
    "#            else:\n",
    "#                ind = np.argwhere(Deltas[:i-1]==m)[0]\n",
    "#                R[i] = np.stack((R[i],np.array([ind[0],1])),axis=0)\n",
    "#                m = 0\n",
    "#    if len(B) > 0:\n",
    "#        Deltas = np.append(B,Deltas)\n",
    "#        Deltas = np.unique(Deltas)\n",
    "#        R = Factorization(Deltas)\n",
    "#    return R"
   ]
  },
  {
   "cell_type": "code",
   "execution_count": null,
   "metadata": {},
   "outputs": [],
   "source": [
    "#def fwdback_photonByphoton_fast(h_model,pcolor,delta_t,flux_free,transmat_t):\n",
    "#    loglik = 0\n",
    "#    T = pcolor.size\n",
    "#    alpha = np.zeros((T,h_model.nstate))\n",
    "#    gamma = np.zeros((T,h_model.nstate))\n",
    "#    xi_summed = np.zeros((h_model.nstate,h_model.nstate))\n",
    "#    # set up obslik, equivalent to the multinomial_prob function in matlab\n",
    "#    obslik = np.zeros((T,h_model.nstate))\n",
    "#    scale = np.zeros(T)\n",
    "#    for t in range(0,T):\n",
    "#        obslik[t,:] = h_model.obs[:,pcolor[t]]\n",
    "#    #forward variable\n",
    "#    t = 0\n",
    "#    alpha[t,:] = h_model.prior * obslik[t,:]\n",
    "#    scale[t] = alpha[t,:].sum()\n",
    "#    alpha[t,:] = alpha[t,:] / scale[t]\n",
    "#    for t in range(1,T):\n",
    "#        trans = transmat_t[delta_t[t],:,:]\n",
    "#        m = trans.T @ alpha[t-1,:]\n",
    "#        alpha[t,:] = m * obslik[t,:]\n",
    "#        scale[t] = alpha[t,:].sum()\n",
    "#        alpha[t,:] = alpha[t,:] / scale[t]\n",
    "#    if np.any(scale == 0):\n",
    "#        loglik = -np.inf\n",
    "#    else:\n",
    "#        loglik = np.sum(np.log(scale))\n",
    "#    # backward variable\n",
    "#    beta = np.zeros((T,h_model.nstate))\n",
    "#    beta[T-1,:] = np.ones(h_model.nstate)\n",
    "#    gamma[T-1,:] = (alpha[T-1,:]*beta[T-1,:])/np.sum(alpha[T-1,:]*beta[T-1,:])\n",
    "#    for t in range(T-2,-1,-1):\n",
    "#        b = beta[t+1,:]*obslik[t+1,:]\n",
    "#        print(b)\n",
    "#        trans = transmat_t[delta_t[t],:,:]\n",
    "#        trans_temp = trans\n",
    "#        trans_temp[trans_temp==0] = 1\n",
    "#        beta[t,:] = trans @ b\n",
    "#        beta[t,:] = beta[t,:]/beta[t,:].sum()\n",
    "#        gamma[t,:] = (alpha[t,:]*beta[t,:])/np.sum(alpha[t,:]*beta[t,:])\n",
    "#        xi_temp = (trans @ np.outer(alpha[t,:],b))/np.sum(trans @ np.outer(alpha[t,:],b)) # something is wrong with this calculation\n",
    "#        fxi = ((xi_temp/trans_temp)*flux_free[delta_t[t+1],:,:,:,:]).sum(axis=3).sum(axis=2)\n",
    "#        xi_summed += fxi\n",
    "#    return fwdback_values(alpha,beta,gamma,loglik,xi_summed)"
   ]
  },
  {
   "cell_type": "code",
   "execution_count": null,
   "metadata": {},
   "outputs": [],
   "source": []
  }
 ],
 "metadata": {
  "kernelspec": {
   "display_name": "Python 3",
   "language": "python",
   "name": "python3"
  },
  "language_info": {
   "codemirror_mode": {
    "name": "ipython",
    "version": 3
   },
   "file_extension": ".py",
   "mimetype": "text/x-python",
   "name": "python",
   "nbconvert_exporter": "python",
   "pygments_lexer": "ipython3",
   "version": "3.6.12"
  }
 },
 "nbformat": 4,
 "nbformat_minor": 2
}
